{
 "cells": [
  {
   "cell_type": "markdown",
   "metadata": {},
   "source": [
    "<img src=\"http://oci02.img.iteso.mx/identidad_de_instancia_2018/ITESO/Logos%20ITESO/Logo-ITESO-Principal.jpg\">"
   ]
  },
  {
   "cell_type": "markdown",
   "metadata": {},
   "source": [
    "<center> <font color= #004A94> <font size = 6> Lic. Ingeniería Financiera </font> <br> <br> <font color= #047CFB> <font size = 4>I.F. María Fernanda Pinedo Talango - if705971@iteso.mx </font>"
   ]
  },
  {
   "cell_type": "markdown",
   "metadata": {},
   "source": [
    "<center><font color= #004A94> <font size = 6> Microestructura y Sistemas de Trading </font> <br> <br>"
   ]
  },
  {
   "cell_type": "markdown",
   "metadata": {},
   "source": [
    "<center><font color=#42c29b><font size=5> Laboratorio 1: Trading manual </font> <br> <br>"
   ]
  },
  {
   "cell_type": "markdown",
   "metadata": {},
   "source": [
    "<center> <font color= #047CFB> <font size = 4> Primavera 2020 </font>  |  <font color= #047CFB> <font size = 4> Repositorio: <a href='https://github.com/'>https://github.com/ferpinedot/LAB_1_MFPT</a></font>"
   ]
  },
  {
   "cell_type": "code",
   "execution_count": 482,
   "metadata": {},
   "outputs": [],
   "source": [
    "from oandapyV20 import API\n",
    "import ta as ta\n",
    "import pandas as pd\n",
    "from datetime import date, timedelta\n",
    "from dateutil.relativedelta import relativedelta\n",
    "import oandapyV20.endpoints.instruments as instruments\n",
    "import matplotlib.pyplot as plt"
   ]
  },
  {
   "cell_type": "code",
   "execution_count": 483,
   "metadata": {},
   "outputs": [],
   "source": [
    "# Descarga de datos \n",
    "oanda_day_align = 16                       # Day Align\n",
    "oanda_timezone = \"America/Mexico_City\"    # Time Align\n",
    "oanda_id = '101-011-13246466-003'                       # Account Id\n",
    "oanda_type = \"practice\"               # Account type\n",
    "oanda_currency = \"USD_MXN\"                # Instrument\n",
    "oanda_gran = \"M5\"                     # Granularity of veils (Minutes 5)\n",
    "\n",
    "# Token for OANDA\n",
    "OA_Ak = '53e30fadde18a9b9153879673228a860-5577569e0db89960b0e4e5ad8e0b761d'\n",
    "\n",
    "api = API(access_token=OA_Ak)\n",
    "\n",
    "\n",
    "F_inicio = '2020-02-28'\n",
    "F_final = '2020-03-03'\n",
    "\n",
    "params = {\"granularity\": oanda_gran, \"price\": \"M\", \"dailyAlignment\": oanda_day_align,\n",
    "          \"alignmentTimezone\": oanda_timezone, \"from\": F_inicio, \"to\": F_final}\n",
    "\n",
    "OA_Req = instruments.InstrumentsCandles(instrument = oanda_currency, params=params)\n",
    "OA_Hist = api.request(OA_Req)"
   ]
  },
  {
   "cell_type": "code",
   "execution_count": 484,
   "metadata": {},
   "outputs": [],
   "source": [
    "for i in range(len(OA_Hist['candles'])-1):\n",
    "        list_a.append({'TimeStamp': OA_Hist['candles'][i]['time'],\n",
    "                       'Open': OA_Hist['candles'][i]['mid']['o'],\n",
    "                       'High': OA_Hist['candles'][i]['mid']['h'],\n",
    "                       'Low': OA_Hist['candles'][i]['mid']['l'],\n",
    "                       'Close': OA_Hist['candles'][i]['mid']['c']})"
   ]
  },
  {
   "cell_type": "code",
   "execution_count": 485,
   "metadata": {},
   "outputs": [],
   "source": [
    "pd_hist_data = pd.DataFrame(list_a)  # Converts data to a DataFrame"
   ]
  },
  {
   "cell_type": "code",
   "execution_count": 486,
   "metadata": {},
   "outputs": [
    {
     "data": {
      "text/html": [
       "<div>\n",
       "<style scoped>\n",
       "    .dataframe tbody tr th:only-of-type {\n",
       "        vertical-align: middle;\n",
       "    }\n",
       "\n",
       "    .dataframe tbody tr th {\n",
       "        vertical-align: top;\n",
       "    }\n",
       "\n",
       "    .dataframe thead th {\n",
       "        text-align: right;\n",
       "    }\n",
       "</style>\n",
       "<table border=\"1\" class=\"dataframe\">\n",
       "  <thead>\n",
       "    <tr style=\"text-align: right;\">\n",
       "      <th></th>\n",
       "      <th>TimeStamp</th>\n",
       "      <th>Open</th>\n",
       "      <th>High</th>\n",
       "      <th>Low</th>\n",
       "      <th>Close</th>\n",
       "    </tr>\n",
       "  </thead>\n",
       "  <tbody>\n",
       "    <tr>\n",
       "      <th>0</th>\n",
       "      <td>2016-12-05T05:00:00.000000000Z</td>\n",
       "      <td>20.67144</td>\n",
       "      <td>20.67293</td>\n",
       "      <td>20.67102</td>\n",
       "      <td>20.67278</td>\n",
       "    </tr>\n",
       "    <tr>\n",
       "      <th>1</th>\n",
       "      <td>2016-12-05T05:05:00.000000000Z</td>\n",
       "      <td>20.67281</td>\n",
       "      <td>20.67294</td>\n",
       "      <td>20.67174</td>\n",
       "      <td>20.67181</td>\n",
       "    </tr>\n",
       "    <tr>\n",
       "      <th>2</th>\n",
       "      <td>2016-12-05T05:10:00.000000000Z</td>\n",
       "      <td>20.67181</td>\n",
       "      <td>20.67266</td>\n",
       "      <td>20.67116</td>\n",
       "      <td>20.67116</td>\n",
       "    </tr>\n",
       "    <tr>\n",
       "      <th>3</th>\n",
       "      <td>2016-12-05T05:15:00.000000000Z</td>\n",
       "      <td>20.67117</td>\n",
       "      <td>20.67124</td>\n",
       "      <td>20.66986</td>\n",
       "      <td>20.67067</td>\n",
       "    </tr>\n",
       "    <tr>\n",
       "      <th>4</th>\n",
       "      <td>2016-12-05T05:20:00.000000000Z</td>\n",
       "      <td>20.67046</td>\n",
       "      <td>20.67390</td>\n",
       "      <td>20.67046</td>\n",
       "      <td>20.67260</td>\n",
       "    </tr>\n",
       "    <tr>\n",
       "      <th>...</th>\n",
       "      <td>...</td>\n",
       "      <td>...</td>\n",
       "      <td>...</td>\n",
       "      <td>...</td>\n",
       "      <td>...</td>\n",
       "    </tr>\n",
       "    <tr>\n",
       "      <th>21628</th>\n",
       "      <td>2020-03-03T04:30:00.000000000Z</td>\n",
       "      <td>19.42924</td>\n",
       "      <td>19.44406</td>\n",
       "      <td>19.42364</td>\n",
       "      <td>19.44232</td>\n",
       "    </tr>\n",
       "    <tr>\n",
       "      <th>21629</th>\n",
       "      <td>2020-03-03T04:35:00.000000000Z</td>\n",
       "      <td>19.44236</td>\n",
       "      <td>19.44416</td>\n",
       "      <td>19.42117</td>\n",
       "      <td>19.42518</td>\n",
       "    </tr>\n",
       "    <tr>\n",
       "      <th>21630</th>\n",
       "      <td>2020-03-03T04:40:00.000000000Z</td>\n",
       "      <td>19.42496</td>\n",
       "      <td>19.42902</td>\n",
       "      <td>19.41772</td>\n",
       "      <td>19.42902</td>\n",
       "    </tr>\n",
       "    <tr>\n",
       "      <th>21631</th>\n",
       "      <td>2020-03-03T04:45:00.000000000Z</td>\n",
       "      <td>19.42905</td>\n",
       "      <td>19.44202</td>\n",
       "      <td>19.42380</td>\n",
       "      <td>19.44024</td>\n",
       "    </tr>\n",
       "    <tr>\n",
       "      <th>21632</th>\n",
       "      <td>2020-03-03T04:50:00.000000000Z</td>\n",
       "      <td>19.44024</td>\n",
       "      <td>19.44062</td>\n",
       "      <td>19.42634</td>\n",
       "      <td>19.43122</td>\n",
       "    </tr>\n",
       "  </tbody>\n",
       "</table>\n",
       "<p>21633 rows × 5 columns</p>\n",
       "</div>"
      ],
      "text/plain": [
       "                            TimeStamp      Open      High       Low     Close\n",
       "0      2016-12-05T05:00:00.000000000Z  20.67144  20.67293  20.67102  20.67278\n",
       "1      2016-12-05T05:05:00.000000000Z  20.67281  20.67294  20.67174  20.67181\n",
       "2      2016-12-05T05:10:00.000000000Z  20.67181  20.67266  20.67116  20.67116\n",
       "3      2016-12-05T05:15:00.000000000Z  20.67117  20.67124  20.66986  20.67067\n",
       "4      2016-12-05T05:20:00.000000000Z  20.67046  20.67390  20.67046  20.67260\n",
       "...                               ...       ...       ...       ...       ...\n",
       "21628  2020-03-03T04:30:00.000000000Z  19.42924  19.44406  19.42364  19.44232\n",
       "21629  2020-03-03T04:35:00.000000000Z  19.44236  19.44416  19.42117  19.42518\n",
       "21630  2020-03-03T04:40:00.000000000Z  19.42496  19.42902  19.41772  19.42902\n",
       "21631  2020-03-03T04:45:00.000000000Z  19.42905  19.44202  19.42380  19.44024\n",
       "21632  2020-03-03T04:50:00.000000000Z  19.44024  19.44062  19.42634  19.43122\n",
       "\n",
       "[21633 rows x 5 columns]"
      ]
     },
     "execution_count": 486,
     "metadata": {},
     "output_type": "execute_result"
    }
   ],
   "source": [
    "pd_hist_data"
   ]
  },
  {
   "cell_type": "code",
   "execution_count": 487,
   "metadata": {},
   "outputs": [],
   "source": [
    "# Convertir a dataFrame\n",
    "pd_hist_data = pd.DataFrame(list_a) \n",
    "\n",
    "# Nombrar las columnas\n",
    "pd_hist_data = pd_hist_data[['TimeStamp', 'Open', 'High', 'Low', 'Close']]  \n",
    "\n",
    "#Convertir datos a tiempo\n",
    "pd_hist_data['TimeStamp'] = pd.to_datetime(pd_hist_data['TimeStamp'])\n",
    "\n",
    "#Convertir datos a numéricos\n",
    "pd_hist_data['Open'] = pd.to_numeric(pd_hist_data['Open'])  \n",
    "pd_hist_data['High'] = pd.to_numeric(pd_hist_data['High'])  \n",
    "pd_hist_data['Low'] = pd.to_numeric(pd_hist_data['Low'])  \n",
    "pd_hist_data['Close'] = pd.to_numeric(pd_hist_data['Close']) \n",
    "\n",
    "\n",
    "df_Precios = pd_hist_data  "
   ]
  },
  {
   "cell_type": "markdown",
   "metadata": {},
   "source": [
    "# Análisis técnico"
   ]
  },
  {
   "cell_type": "markdown",
   "metadata": {},
   "source": [
    "## Indicadores "
   ]
  },
  {
   "cell_type": "code",
   "execution_count": 488,
   "metadata": {},
   "outputs": [],
   "source": [
    "# Parámetros de inicio\n",
    "\n",
    "spot_price =  df_Precios['Close'][len(df_Precios) - 1]"
   ]
  },
  {
   "cell_type": "markdown",
   "metadata": {},
   "source": [
    "### Bandas Bollinger"
   ]
  },
  {
   "cell_type": "code",
   "execution_count": 489,
   "metadata": {},
   "outputs": [],
   "source": [
    "indicator_bb = ta.volatility.BollingerBands(df_Precios['Close'], n=20, ndev=2)\n",
    "df_Precios['bb_mavg'] = indicator_bb.bollinger_mavg()\n",
    "df_Precios['bb_bbh'] = indicator_bb.bollinger_hband()\n",
    "df_Precios['bb_bbl'] = indicator_bb.bollinger_lband()"
   ]
  },
  {
   "cell_type": "markdown",
   "metadata": {},
   "source": [
    "DataFrame con los datos importantes incluyendo el indicador mencionado anteriormente"
   ]
  },
  {
   "cell_type": "code",
   "execution_count": 490,
   "metadata": {},
   "outputs": [
    {
     "data": {
      "text/html": [
       "<div>\n",
       "<style scoped>\n",
       "    .dataframe tbody tr th:only-of-type {\n",
       "        vertical-align: middle;\n",
       "    }\n",
       "\n",
       "    .dataframe tbody tr th {\n",
       "        vertical-align: top;\n",
       "    }\n",
       "\n",
       "    .dataframe thead th {\n",
       "        text-align: right;\n",
       "    }\n",
       "</style>\n",
       "<table border=\"1\" class=\"dataframe\">\n",
       "  <thead>\n",
       "    <tr style=\"text-align: right;\">\n",
       "      <th></th>\n",
       "      <th>TimeStamp</th>\n",
       "      <th>Open</th>\n",
       "      <th>High</th>\n",
       "      <th>Low</th>\n",
       "      <th>Close</th>\n",
       "      <th>bb_mavg</th>\n",
       "      <th>bb_bbh</th>\n",
       "      <th>bb_bbl</th>\n",
       "    </tr>\n",
       "  </thead>\n",
       "  <tbody>\n",
       "    <tr>\n",
       "      <th>21628</th>\n",
       "      <td>2020-03-03 04:30:00+00:00</td>\n",
       "      <td>19.42924</td>\n",
       "      <td>19.44406</td>\n",
       "      <td>19.42364</td>\n",
       "      <td>19.44232</td>\n",
       "      <td>19.389903</td>\n",
       "      <td>19.432595</td>\n",
       "      <td>19.347211</td>\n",
       "    </tr>\n",
       "    <tr>\n",
       "      <th>21629</th>\n",
       "      <td>2020-03-03 04:35:00+00:00</td>\n",
       "      <td>19.44236</td>\n",
       "      <td>19.44416</td>\n",
       "      <td>19.42117</td>\n",
       "      <td>19.42518</td>\n",
       "      <td>19.390968</td>\n",
       "      <td>19.436001</td>\n",
       "      <td>19.345936</td>\n",
       "    </tr>\n",
       "    <tr>\n",
       "      <th>21630</th>\n",
       "      <td>2020-03-03 04:40:00+00:00</td>\n",
       "      <td>19.42496</td>\n",
       "      <td>19.42902</td>\n",
       "      <td>19.41772</td>\n",
       "      <td>19.42902</td>\n",
       "      <td>19.392710</td>\n",
       "      <td>19.440704</td>\n",
       "      <td>19.344717</td>\n",
       "    </tr>\n",
       "    <tr>\n",
       "      <th>21631</th>\n",
       "      <td>2020-03-03 04:45:00+00:00</td>\n",
       "      <td>19.42905</td>\n",
       "      <td>19.44202</td>\n",
       "      <td>19.42380</td>\n",
       "      <td>19.44024</td>\n",
       "      <td>19.395160</td>\n",
       "      <td>19.447417</td>\n",
       "      <td>19.342904</td>\n",
       "    </tr>\n",
       "    <tr>\n",
       "      <th>21632</th>\n",
       "      <td>2020-03-03 04:50:00+00:00</td>\n",
       "      <td>19.44024</td>\n",
       "      <td>19.44062</td>\n",
       "      <td>19.42634</td>\n",
       "      <td>19.43122</td>\n",
       "      <td>19.397207</td>\n",
       "      <td>19.451698</td>\n",
       "      <td>19.342716</td>\n",
       "    </tr>\n",
       "  </tbody>\n",
       "</table>\n",
       "</div>"
      ],
      "text/plain": [
       "                      TimeStamp      Open      High       Low     Close  \\\n",
       "21628 2020-03-03 04:30:00+00:00  19.42924  19.44406  19.42364  19.44232   \n",
       "21629 2020-03-03 04:35:00+00:00  19.44236  19.44416  19.42117  19.42518   \n",
       "21630 2020-03-03 04:40:00+00:00  19.42496  19.42902  19.41772  19.42902   \n",
       "21631 2020-03-03 04:45:00+00:00  19.42905  19.44202  19.42380  19.44024   \n",
       "21632 2020-03-03 04:50:00+00:00  19.44024  19.44062  19.42634  19.43122   \n",
       "\n",
       "         bb_mavg     bb_bbh     bb_bbl  \n",
       "21628  19.389903  19.432595  19.347211  \n",
       "21629  19.390968  19.436001  19.345936  \n",
       "21630  19.392710  19.440704  19.344717  \n",
       "21631  19.395160  19.447417  19.342904  \n",
       "21632  19.397207  19.451698  19.342716  "
      ]
     },
     "execution_count": 490,
     "metadata": {},
     "output_type": "execute_result"
    }
   ],
   "source": [
    "df_Precios.tail(5)"
   ]
  },
  {
   "cell_type": "code",
   "execution_count": 491,
   "metadata": {},
   "outputs": [
    {
     "name": "stdout",
     "output_type": "stream",
     "text": [
      "sin movimientos\n"
     ]
    }
   ],
   "source": [
    "# Toma de decisiones\n",
    "\n",
    "if df_Precios['Close'].iloc[-1] > df_Precios['bb_bbh'].iloc[-1]:\n",
    "    print('sell')\n",
    "elif df_Precios['Close'].iloc[-1] == df_Precios['bb_bbh'].iloc[-1]:\n",
    "    print('sell')\n",
    "elif df_Precios['Close'].iloc[-1] < df_Precios['bb_bbl'].iloc[-1]:\n",
    "    print('buy')\n",
    "elif df_Precios['Close'].iloc[-1] == df_Precios['bb_bbl'].iloc[-1]:\n",
    "    print('buy')\n",
    "else:\n",
    "    print('sin movimientos')"
   ]
  },
  {
   "cell_type": "code",
   "execution_count": 492,
   "metadata": {},
   "outputs": [
    {
     "data": {
      "text/plain": [
       "19.43122"
      ]
     },
     "execution_count": 492,
     "metadata": {},
     "output_type": "execute_result"
    }
   ],
   "source": [
    "df_Precios['Close'].iloc[-1]"
   ]
  },
  {
   "cell_type": "markdown",
   "metadata": {},
   "source": [
    "### Gráfica de todo el historial de precios"
   ]
  },
  {
   "cell_type": "code",
   "execution_count": 493,
   "metadata": {},
   "outputs": [
    {
     "data": {
      "image/png": "[encoded data removed]",
      "text/plain": [
       "<Figure size 432x288 with 1 Axes>"
      ]
     },
     "metadata": {
      "needs_background": "light"
     },
     "output_type": "display_data"
    }
   ],
   "source": [
    "plt.plot(list(df_Precios['Close']), c= 'red')\n",
    "plt.plot(list(df_Precios['bb_bbl']), c= 'purple')\n",
    "plt.plot(list(df_Precios['bb_mavg']), c= 'violet')\n",
    "plt.plot(list(df_Precios['bb_bbh']), c= 'pink')\n",
    "plt.xlabel('')\n",
    "plt.ylabel('Precios')\n",
    "plt.show()"
   ]
  },
  {
   "cell_type": "code",
   "execution_count": 494,
   "metadata": {},
   "outputs": [
    {
     "data": {
      "text/plain": [
       "21483    19.59596\n",
       "21484    19.58132\n",
       "21485    19.55934\n",
       "21486    19.60366\n",
       "21487    19.60599\n",
       "           ...   \n",
       "21627    19.42919\n",
       "21628    19.44232\n",
       "21629    19.42518\n",
       "21630    19.42902\n",
       "21631    19.44024\n",
       "Name: Close, Length: 149, dtype: float64"
      ]
     },
     "execution_count": 494,
     "metadata": {},
     "output_type": "execute_result"
    }
   ],
   "source": [
    "df_Precios['Close'].iloc[-150:-1]"
   ]
  },
  {
   "cell_type": "markdown",
   "metadata": {},
   "source": [
    "### Gráfica de los últimos 150 datos"
   ]
  },
  {
   "cell_type": "code",
   "execution_count": 517,
   "metadata": {},
   "outputs": [
    {
     "data": {
      "image/png": "[encoded data removed]",
      "text/plain": [
       "<Figure size 432x288 with 1 Axes>"
      ]
     },
     "metadata": {
      "needs_background": "light"
     },
     "output_type": "display_data"
    }
   ],
   "source": [
    "plt.plot(df_Precios['Close'].iloc[-150:-1], color = 'red')\n",
    "plt.plot(df_Precios['bb_bbl'].iloc[-150:-1], color = 'purple')\n",
    "plt.plot(df_Precios['bb_mavg'].iloc[-150:-1], color = 'violet')\n",
    "plt.plot(df_Precios['bb_bbh'].iloc[-150:-1], color = 'pink')\n",
    "plt.title('Bandas de Bollinger e historial de Close prices')\n",
    "plt.xlabel('')\n",
    "plt.ylabel('Precios')\n",
    "plt.show()"
   ]
  },
  {
   "cell_type": "markdown",
   "metadata": {},
   "source": [
    "### Oscilador Estocástico"
   ]
  },
  {
   "cell_type": "code",
   "execution_count": 499,
   "metadata": {},
   "outputs": [],
   "source": [
    "indicator_stoch = ta.momentum.StochasticOscillator(df_Precios['High'], df_Precios['Low'], df_Precios['Close'], 14, 3, False)\n",
    "#df_Precios['stoch_close'] = ta.momentum.stoch(df_Precios['High'], df_Precios['Low'], df_Precios['Close'], 200, False)\n",
    "df_Precios['stoch_close'] = indicator_stoch.stoch()\n",
    "df_Precios['stoch_signal'] = indicator_stoch.stoch_signal()\n",
    "\n",
    "\n",
    "#indicator_bb = ta.volatility.BollingerBands(df_Precios['Close'], n=20, ndev=2)\n",
    "#df_Precios['bb_mavg'] = indicator_bb.bollinger_mavg()\n",
    "#df_Precios['bb_bbh'] = indicator_bb.bollinger_hband()\n",
    "#df_Precios['bb_bbl'] = indicator_bb.bollinger_lband()"
   ]
  },
  {
   "cell_type": "markdown",
   "metadata": {},
   "source": [
    "DataFrame con los datos importantes incluyendo el indicador mencionado anteriormente"
   ]
  },
  {
   "cell_type": "code",
   "execution_count": 500,
   "metadata": {},
   "outputs": [
    {
     "data": {
      "text/html": [
       "<div>\n",
       "<style scoped>\n",
       "    .dataframe tbody tr th:only-of-type {\n",
       "        vertical-align: middle;\n",
       "    }\n",
       "\n",
       "    .dataframe tbody tr th {\n",
       "        vertical-align: top;\n",
       "    }\n",
       "\n",
       "    .dataframe thead th {\n",
       "        text-align: right;\n",
       "    }\n",
       "</style>\n",
       "<table border=\"1\" class=\"dataframe\">\n",
       "  <thead>\n",
       "    <tr style=\"text-align: right;\">\n",
       "      <th></th>\n",
       "      <th>TimeStamp</th>\n",
       "      <th>Open</th>\n",
       "      <th>High</th>\n",
       "      <th>Low</th>\n",
       "      <th>Close</th>\n",
       "      <th>bb_mavg</th>\n",
       "      <th>bb_bbh</th>\n",
       "      <th>bb_bbl</th>\n",
       "      <th>stoch_close</th>\n",
       "      <th>stoch_signal</th>\n",
       "    </tr>\n",
       "  </thead>\n",
       "  <tbody>\n",
       "    <tr>\n",
       "      <th>21628</th>\n",
       "      <td>2020-03-03 04:30:00+00:00</td>\n",
       "      <td>19.42924</td>\n",
       "      <td>19.44406</td>\n",
       "      <td>19.42364</td>\n",
       "      <td>19.44232</td>\n",
       "      <td>19.389903</td>\n",
       "      <td>19.432595</td>\n",
       "      <td>19.347211</td>\n",
       "      <td>98.094195</td>\n",
       "      <td>96.941036</td>\n",
       "    </tr>\n",
       "    <tr>\n",
       "      <th>21629</th>\n",
       "      <td>2020-03-03 04:35:00+00:00</td>\n",
       "      <td>19.44236</td>\n",
       "      <td>19.44416</td>\n",
       "      <td>19.42117</td>\n",
       "      <td>19.42518</td>\n",
       "      <td>19.390968</td>\n",
       "      <td>19.436001</td>\n",
       "      <td>19.345936</td>\n",
       "      <td>79.234136</td>\n",
       "      <td>90.307909</td>\n",
       "    </tr>\n",
       "    <tr>\n",
       "      <th>21630</th>\n",
       "      <td>2020-03-03 04:40:00+00:00</td>\n",
       "      <td>19.42496</td>\n",
       "      <td>19.42902</td>\n",
       "      <td>19.41772</td>\n",
       "      <td>19.42902</td>\n",
       "      <td>19.392710</td>\n",
       "      <td>19.440704</td>\n",
       "      <td>19.344717</td>\n",
       "      <td>82.513283</td>\n",
       "      <td>86.613871</td>\n",
       "    </tr>\n",
       "    <tr>\n",
       "      <th>21631</th>\n",
       "      <td>2020-03-03 04:45:00+00:00</td>\n",
       "      <td>19.42905</td>\n",
       "      <td>19.44202</td>\n",
       "      <td>19.42380</td>\n",
       "      <td>19.44024</td>\n",
       "      <td>19.395160</td>\n",
       "      <td>19.447417</td>\n",
       "      <td>19.342904</td>\n",
       "      <td>95.472395</td>\n",
       "      <td>85.739938</td>\n",
       "    </tr>\n",
       "    <tr>\n",
       "      <th>21632</th>\n",
       "      <td>2020-03-03 04:50:00+00:00</td>\n",
       "      <td>19.44024</td>\n",
       "      <td>19.44062</td>\n",
       "      <td>19.42634</td>\n",
       "      <td>19.43122</td>\n",
       "      <td>19.397207</td>\n",
       "      <td>19.451698</td>\n",
       "      <td>19.342716</td>\n",
       "      <td>85.054285</td>\n",
       "      <td>87.679988</td>\n",
       "    </tr>\n",
       "  </tbody>\n",
       "</table>\n",
       "</div>"
      ],
      "text/plain": [
       "                      TimeStamp      Open      High       Low     Close  \\\n",
       "21628 2020-03-03 04:30:00+00:00  19.42924  19.44406  19.42364  19.44232   \n",
       "21629 2020-03-03 04:35:00+00:00  19.44236  19.44416  19.42117  19.42518   \n",
       "21630 2020-03-03 04:40:00+00:00  19.42496  19.42902  19.41772  19.42902   \n",
       "21631 2020-03-03 04:45:00+00:00  19.42905  19.44202  19.42380  19.44024   \n",
       "21632 2020-03-03 04:50:00+00:00  19.44024  19.44062  19.42634  19.43122   \n",
       "\n",
       "         bb_mavg     bb_bbh     bb_bbl  stoch_close  stoch_signal  \n",
       "21628  19.389903  19.432595  19.347211    98.094195     96.941036  \n",
       "21629  19.390968  19.436001  19.345936    79.234136     90.307909  \n",
       "21630  19.392710  19.440704  19.344717    82.513283     86.613871  \n",
       "21631  19.395160  19.447417  19.342904    95.472395     85.739938  \n",
       "21632  19.397207  19.451698  19.342716    85.054285     87.679988  "
      ]
     },
     "execution_count": 500,
     "metadata": {},
     "output_type": "execute_result"
    }
   ],
   "source": [
    "df_Precios.tail(5)"
   ]
  },
  {
   "cell_type": "code",
   "execution_count": 504,
   "metadata": {},
   "outputs": [],
   "source": [
    "# Parámetros\n",
    "\n",
    "stoch_up = 80\n",
    "stoch_down = 20\n",
    "\n",
    "stoch_level = df_Precios['stoch_close'][len(df_Precios) -1]"
   ]
  },
  {
   "cell_type": "code",
   "execution_count": 505,
   "metadata": {},
   "outputs": [
    {
     "name": "stdout",
     "output_type": "stream",
     "text": [
      "sell\n"
     ]
    }
   ],
   "source": [
    "# Toma de decisiones\n",
    "\n",
    "if stoch_level > stoch_up:\n",
    "    print('sell')\n",
    "elif stoch_level == stoch_up:\n",
    "    print('sell')\n",
    "elif stoch_level < stoch_down:\n",
    "    print('buy')\n",
    "elif stoch_level == stoch_down:\n",
    "    print('buy')\n",
    "else:\n",
    "    print('sin movimientos')"
   ]
  },
  {
   "cell_type": "markdown",
   "metadata": {},
   "source": [
    "### Gráfica de todo el historial de precios"
   ]
  },
  {
   "cell_type": "code",
   "execution_count": 516,
   "metadata": {},
   "outputs": [
    {
     "data": {
      "image/png": "[encoded data removed]",
      "text/plain": [
       "<Figure size 432x288 with 1 Axes>"
      ]
     },
     "metadata": {
      "needs_background": "light"
     },
     "output_type": "display_data"
    }
   ],
   "source": [
    "#plt.plot(list(df_Precios['Close']), c= 'red')\n",
    "#plt.plot(list(df_Precios['stoch_close']), c= 'purple')\n",
    "plt.plot(list(df_Precios['stoch_signal']), c= 'pink')\n",
    "plt.title('Valores del Oscilador Estocástico')\n",
    "plt.xlabel('')\n",
    "plt.ylabel('Oscilador Estocástico (0-100)')\n",
    "plt.show()"
   ]
  },
  {
   "cell_type": "code",
   "execution_count": 512,
   "metadata": {},
   "outputs": [
    {
     "data": {
      "text/plain": [
       "21483    13.622394\n",
       "21484     6.418181\n",
       "21485     3.522633\n",
       "21486     6.923065\n",
       "21487    13.195188\n",
       "           ...    \n",
       "21627    91.510318\n",
       "21628    96.941036\n",
       "21629    90.307909\n",
       "21630    86.613871\n",
       "21631    85.739938\n",
       "Name: stoch_signal, Length: 149, dtype: float64"
      ]
     },
     "execution_count": 512,
     "metadata": {},
     "output_type": "execute_result"
    }
   ],
   "source": [
    "df_Precios['stoch_signal'].iloc[-150:-1]"
   ]
  },
  {
   "cell_type": "code",
   "execution_count": null,
   "metadata": {},
   "outputs": [],
   "source": [
    "plt.plot(df_Precios['stoch_signal'].iloc[-150:-1], c= 'pink')\n",
    "plt.title('Valores del Oscilador Estocástico de los últimos 150 valores')\n",
    "plt.xlabel('')\n",
    "plt.ylabel('Oscilador Estocástico (0-100)')\n",
    "plt.show()"
   ]
  },
  {
   "cell_type": "markdown",
   "metadata": {},
   "source": [
    "### RSI"
   ]
  },
  {
   "cell_type": "code",
   "execution_count": 419,
   "metadata": {},
   "outputs": [],
   "source": [
    "indicator_rsi= ta.momentum.rsi(df_Precios['Close'], 51)\n",
    "df_Precios['rsi_close'] = ta.momentum.rsi(df_Precios['Close'],51)"
   ]
  },
  {
   "cell_type": "markdown",
   "metadata": {},
   "source": [
    "DataFrame con los datos importantes incluyendo el indicador mencionado anteriormente"
   ]
  },
  {
   "cell_type": "code",
   "execution_count": 437,
   "metadata": {},
   "outputs": [
    {
     "data": {
      "text/html": [
       "<div>\n",
       "<style scoped>\n",
       "    .dataframe tbody tr th:only-of-type {\n",
       "        vertical-align: middle;\n",
       "    }\n",
       "\n",
       "    .dataframe tbody tr th {\n",
       "        vertical-align: top;\n",
       "    }\n",
       "\n",
       "    .dataframe thead th {\n",
       "        text-align: right;\n",
       "    }\n",
       "</style>\n",
       "<table border=\"1\" class=\"dataframe\">\n",
       "  <thead>\n",
       "    <tr style=\"text-align: right;\">\n",
       "      <th></th>\n",
       "      <th>TimeStamp</th>\n",
       "      <th>Open</th>\n",
       "      <th>High</th>\n",
       "      <th>Low</th>\n",
       "      <th>Close</th>\n",
       "      <th>bb_mavg</th>\n",
       "      <th>bb_bbh</th>\n",
       "      <th>bb_bbl</th>\n",
       "      <th>stoch_close</th>\n",
       "      <th>rsi_close</th>\n",
       "    </tr>\n",
       "  </thead>\n",
       "  <tbody>\n",
       "    <tr>\n",
       "      <th>20478</th>\n",
       "      <td>2020-03-03 04:30:00+00:00</td>\n",
       "      <td>19.42924</td>\n",
       "      <td>19.44406</td>\n",
       "      <td>19.42364</td>\n",
       "      <td>19.44232</td>\n",
       "      <td>19.389903</td>\n",
       "      <td>19.432595</td>\n",
       "      <td>19.347211</td>\n",
       "      <td>18.415858</td>\n",
       "      <td>51.482861</td>\n",
       "    </tr>\n",
       "    <tr>\n",
       "      <th>20479</th>\n",
       "      <td>2020-03-03 04:35:00+00:00</td>\n",
       "      <td>19.44236</td>\n",
       "      <td>19.44416</td>\n",
       "      <td>19.42117</td>\n",
       "      <td>19.42518</td>\n",
       "      <td>19.390968</td>\n",
       "      <td>19.436001</td>\n",
       "      <td>19.345936</td>\n",
       "      <td>14.891430</td>\n",
       "      <td>49.393691</td>\n",
       "    </tr>\n",
       "    <tr>\n",
       "      <th>20480</th>\n",
       "      <td>2020-03-03 04:40:00+00:00</td>\n",
       "      <td>19.42496</td>\n",
       "      <td>19.42902</td>\n",
       "      <td>19.41772</td>\n",
       "      <td>19.42902</td>\n",
       "      <td>19.392710</td>\n",
       "      <td>19.440704</td>\n",
       "      <td>19.344717</td>\n",
       "      <td>15.681033</td>\n",
       "      <td>49.858664</td>\n",
       "    </tr>\n",
       "    <tr>\n",
       "      <th>20481</th>\n",
       "      <td>2020-03-03 04:45:00+00:00</td>\n",
       "      <td>19.42905</td>\n",
       "      <td>19.44202</td>\n",
       "      <td>19.42380</td>\n",
       "      <td>19.44024</td>\n",
       "      <td>19.395160</td>\n",
       "      <td>19.447417</td>\n",
       "      <td>19.342904</td>\n",
       "      <td>17.988156</td>\n",
       "      <td>51.195100</td>\n",
       "    </tr>\n",
       "    <tr>\n",
       "      <th>20482</th>\n",
       "      <td>2020-03-03 04:50:00+00:00</td>\n",
       "      <td>19.44024</td>\n",
       "      <td>19.44062</td>\n",
       "      <td>19.42634</td>\n",
       "      <td>19.43122</td>\n",
       "      <td>19.397207</td>\n",
       "      <td>19.451698</td>\n",
       "      <td>19.342716</td>\n",
       "      <td>16.133410</td>\n",
       "      <td>50.100123</td>\n",
       "    </tr>\n",
       "  </tbody>\n",
       "</table>\n",
       "</div>"
      ],
      "text/plain": [
       "                      TimeStamp      Open      High       Low     Close  \\\n",
       "20478 2020-03-03 04:30:00+00:00  19.42924  19.44406  19.42364  19.44232   \n",
       "20479 2020-03-03 04:35:00+00:00  19.44236  19.44416  19.42117  19.42518   \n",
       "20480 2020-03-03 04:40:00+00:00  19.42496  19.42902  19.41772  19.42902   \n",
       "20481 2020-03-03 04:45:00+00:00  19.42905  19.44202  19.42380  19.44024   \n",
       "20482 2020-03-03 04:50:00+00:00  19.44024  19.44062  19.42634  19.43122   \n",
       "\n",
       "         bb_mavg     bb_bbh     bb_bbl  stoch_close  rsi_close  \n",
       "20478  19.389903  19.432595  19.347211    18.415858  51.482861  \n",
       "20479  19.390968  19.436001  19.345936    14.891430  49.393691  \n",
       "20480  19.392710  19.440704  19.344717    15.681033  49.858664  \n",
       "20481  19.395160  19.447417  19.342904    17.988156  51.195100  \n",
       "20482  19.397207  19.451698  19.342716    16.133410  50.100123  "
      ]
     },
     "execution_count": 437,
     "metadata": {},
     "output_type": "execute_result"
    }
   ],
   "source": [
    "df_Precios.tail(5)"
   ]
  },
  {
   "cell_type": "code",
   "execution_count": 436,
   "metadata": {},
   "outputs": [],
   "source": [
    "# Parámetros\n",
    "\n",
    "rsi_up = 65\n",
    "rsi_down = 35\n",
    "\n",
    "rsi_level = df_Precios['rsi_close'][len(df_Precios) - 1]"
   ]
  },
  {
   "cell_type": "code",
   "execution_count": null,
   "metadata": {},
   "outputs": [],
   "source": []
  },
  {
   "cell_type": "code",
   "execution_count": null,
   "metadata": {},
   "outputs": [],
   "source": []
  },
  {
   "cell_type": "code",
   "execution_count": null,
   "metadata": {},
   "outputs": [],
   "source": []
  },
  {
   "cell_type": "code",
   "execution_count": null,
   "metadata": {},
   "outputs": [],
   "source": []
  },
  {
   "cell_type": "code",
   "execution_count": null,
   "metadata": {},
   "outputs": [],
   "source": []
  },
  {
   "cell_type": "markdown",
   "metadata": {},
   "source": [
    "PAMA cp"
   ]
  },
  {
   "cell_type": "code",
   "execution_count": 373,
   "metadata": {},
   "outputs": [],
   "source": [
    "RSI_Param_UP = 65\n",
    "RSI_Param_DW = 35\n",
    "#STO_Param_UP = 85\n",
    "#STO_Param_DW = 15"
   ]
  },
  {
   "cell_type": "code",
   "execution_count": 375,
   "metadata": {},
   "outputs": [
    {
     "ename": "KeyError",
     "evalue": "'RSI_Close'",
     "output_type": "error",
     "traceback": [
      "\u001b[1;31m---------------------------------------------------------------------------\u001b[0m",
      "\u001b[1;31mKeyError\u001b[0m                                  Traceback (most recent call last)",
      "\u001b[1;32mc:\\users\\user\\appdata\\local\\programs\\python\\python36\\lib\\site-packages\\pandas\\core\\indexes\\base.py\u001b[0m in \u001b[0;36mget_loc\u001b[1;34m(self, key, method, tolerance)\u001b[0m\n\u001b[0;32m   2645\u001b[0m             \u001b[1;32mtry\u001b[0m\u001b[1;33m:\u001b[0m\u001b[1;33m\u001b[0m\u001b[1;33m\u001b[0m\u001b[0m\n\u001b[1;32m-> 2646\u001b[1;33m                 \u001b[1;32mreturn\u001b[0m \u001b[0mself\u001b[0m\u001b[1;33m.\u001b[0m\u001b[0m_engine\u001b[0m\u001b[1;33m.\u001b[0m\u001b[0mget_loc\u001b[0m\u001b[1;33m(\u001b[0m\u001b[0mkey\u001b[0m\u001b[1;33m)\u001b[0m\u001b[1;33m\u001b[0m\u001b[1;33m\u001b[0m\u001b[0m\n\u001b[0m\u001b[0;32m   2647\u001b[0m             \u001b[1;32mexcept\u001b[0m \u001b[0mKeyError\u001b[0m\u001b[1;33m:\u001b[0m\u001b[1;33m\u001b[0m\u001b[1;33m\u001b[0m\u001b[0m\n",
      "\u001b[1;32mpandas\\_libs\\index.pyx\u001b[0m in \u001b[0;36mpandas._libs.index.IndexEngine.get_loc\u001b[1;34m()\u001b[0m\n",
      "\u001b[1;32mpandas\\_libs\\index.pyx\u001b[0m in \u001b[0;36mpandas._libs.index.IndexEngine.get_loc\u001b[1;34m()\u001b[0m\n",
      "\u001b[1;32mpandas\\_libs\\hashtable_class_helper.pxi\u001b[0m in \u001b[0;36mpandas._libs.hashtable.PyObjectHashTable.get_item\u001b[1;34m()\u001b[0m\n",
      "\u001b[1;32mpandas\\_libs\\hashtable_class_helper.pxi\u001b[0m in \u001b[0;36mpandas._libs.hashtable.PyObjectHashTable.get_item\u001b[1;34m()\u001b[0m\n",
      "\u001b[1;31mKeyError\u001b[0m: 'RSI_Close'",
      "\nDuring handling of the above exception, another exception occurred:\n",
      "\u001b[1;31mKeyError\u001b[0m                                  Traceback (most recent call last)",
      "\u001b[1;32m<ipython-input-375-321772e5074d>\u001b[0m in \u001b[0;36m<module>\u001b[1;34m\u001b[0m\n\u001b[0;32m      2\u001b[0m \u001b[0mSL\u001b[0m \u001b[1;33m=\u001b[0m \u001b[0mTP\u001b[0m\u001b[1;33m/\u001b[0m\u001b[1;36m2\u001b[0m\u001b[1;33m\u001b[0m\u001b[1;33m\u001b[0m\u001b[0m\n\u001b[0;32m      3\u001b[0m \u001b[1;31m# Spot Levels\u001b[0m\u001b[1;33m\u001b[0m\u001b[1;33m\u001b[0m\u001b[1;33m\u001b[0m\u001b[0m\n\u001b[1;32m----> 4\u001b[1;33m \u001b[0mRSI_Level\u001b[0m \u001b[1;33m=\u001b[0m \u001b[0mdf_Precios\u001b[0m\u001b[1;33m[\u001b[0m\u001b[1;34m'RSI_Close'\u001b[0m\u001b[1;33m]\u001b[0m\u001b[1;33m[\u001b[0m\u001b[0mlen\u001b[0m\u001b[1;33m(\u001b[0m\u001b[0mdf_Precios\u001b[0m\u001b[1;33m)\u001b[0m \u001b[1;33m-\u001b[0m \u001b[1;36m1\u001b[0m\u001b[1;33m]\u001b[0m\u001b[1;33m\u001b[0m\u001b[1;33m\u001b[0m\u001b[0m\n\u001b[0m\u001b[0;32m      5\u001b[0m \u001b[0mSTO_Level\u001b[0m \u001b[1;33m=\u001b[0m \u001b[0mdf_Precios\u001b[0m\u001b[1;33m[\u001b[0m\u001b[1;34m'STO_Close'\u001b[0m\u001b[1;33m]\u001b[0m\u001b[1;33m[\u001b[0m\u001b[0mlen\u001b[0m\u001b[1;33m(\u001b[0m\u001b[0mdf_Precios\u001b[0m\u001b[1;33m)\u001b[0m \u001b[1;33m-\u001b[0m \u001b[1;36m1\u001b[0m\u001b[1;33m]\u001b[0m\u001b[1;33m\u001b[0m\u001b[1;33m\u001b[0m\u001b[0m\n\u001b[0;32m      6\u001b[0m \u001b[0mSPOT\u001b[0m \u001b[1;33m=\u001b[0m \u001b[0mdf_Precios\u001b[0m\u001b[1;33m[\u001b[0m\u001b[1;34m'Close'\u001b[0m\u001b[1;33m]\u001b[0m\u001b[1;33m[\u001b[0m\u001b[0mlen\u001b[0m\u001b[1;33m(\u001b[0m\u001b[0mdf_Precios\u001b[0m\u001b[1;33m)\u001b[0m \u001b[1;33m-\u001b[0m \u001b[1;36m1\u001b[0m\u001b[1;33m]\u001b[0m\u001b[1;33m\u001b[0m\u001b[1;33m\u001b[0m\u001b[0m\n",
      "\u001b[1;32mc:\\users\\user\\appdata\\local\\programs\\python\\python36\\lib\\site-packages\\pandas\\core\\frame.py\u001b[0m in \u001b[0;36m__getitem__\u001b[1;34m(self, key)\u001b[0m\n\u001b[0;32m   2798\u001b[0m             \u001b[1;32mif\u001b[0m \u001b[0mself\u001b[0m\u001b[1;33m.\u001b[0m\u001b[0mcolumns\u001b[0m\u001b[1;33m.\u001b[0m\u001b[0mnlevels\u001b[0m \u001b[1;33m>\u001b[0m \u001b[1;36m1\u001b[0m\u001b[1;33m:\u001b[0m\u001b[1;33m\u001b[0m\u001b[1;33m\u001b[0m\u001b[0m\n\u001b[0;32m   2799\u001b[0m                 \u001b[1;32mreturn\u001b[0m \u001b[0mself\u001b[0m\u001b[1;33m.\u001b[0m\u001b[0m_getitem_multilevel\u001b[0m\u001b[1;33m(\u001b[0m\u001b[0mkey\u001b[0m\u001b[1;33m)\u001b[0m\u001b[1;33m\u001b[0m\u001b[1;33m\u001b[0m\u001b[0m\n\u001b[1;32m-> 2800\u001b[1;33m             \u001b[0mindexer\u001b[0m \u001b[1;33m=\u001b[0m \u001b[0mself\u001b[0m\u001b[1;33m.\u001b[0m\u001b[0mcolumns\u001b[0m\u001b[1;33m.\u001b[0m\u001b[0mget_loc\u001b[0m\u001b[1;33m(\u001b[0m\u001b[0mkey\u001b[0m\u001b[1;33m)\u001b[0m\u001b[1;33m\u001b[0m\u001b[1;33m\u001b[0m\u001b[0m\n\u001b[0m\u001b[0;32m   2801\u001b[0m             \u001b[1;32mif\u001b[0m \u001b[0mis_integer\u001b[0m\u001b[1;33m(\u001b[0m\u001b[0mindexer\u001b[0m\u001b[1;33m)\u001b[0m\u001b[1;33m:\u001b[0m\u001b[1;33m\u001b[0m\u001b[1;33m\u001b[0m\u001b[0m\n\u001b[0;32m   2802\u001b[0m                 \u001b[0mindexer\u001b[0m \u001b[1;33m=\u001b[0m \u001b[1;33m[\u001b[0m\u001b[0mindexer\u001b[0m\u001b[1;33m]\u001b[0m\u001b[1;33m\u001b[0m\u001b[1;33m\u001b[0m\u001b[0m\n",
      "\u001b[1;32mc:\\users\\user\\appdata\\local\\programs\\python\\python36\\lib\\site-packages\\pandas\\core\\indexes\\base.py\u001b[0m in \u001b[0;36mget_loc\u001b[1;34m(self, key, method, tolerance)\u001b[0m\n\u001b[0;32m   2646\u001b[0m                 \u001b[1;32mreturn\u001b[0m \u001b[0mself\u001b[0m\u001b[1;33m.\u001b[0m\u001b[0m_engine\u001b[0m\u001b[1;33m.\u001b[0m\u001b[0mget_loc\u001b[0m\u001b[1;33m(\u001b[0m\u001b[0mkey\u001b[0m\u001b[1;33m)\u001b[0m\u001b[1;33m\u001b[0m\u001b[1;33m\u001b[0m\u001b[0m\n\u001b[0;32m   2647\u001b[0m             \u001b[1;32mexcept\u001b[0m \u001b[0mKeyError\u001b[0m\u001b[1;33m:\u001b[0m\u001b[1;33m\u001b[0m\u001b[1;33m\u001b[0m\u001b[0m\n\u001b[1;32m-> 2648\u001b[1;33m                 \u001b[1;32mreturn\u001b[0m \u001b[0mself\u001b[0m\u001b[1;33m.\u001b[0m\u001b[0m_engine\u001b[0m\u001b[1;33m.\u001b[0m\u001b[0mget_loc\u001b[0m\u001b[1;33m(\u001b[0m\u001b[0mself\u001b[0m\u001b[1;33m.\u001b[0m\u001b[0m_maybe_cast_indexer\u001b[0m\u001b[1;33m(\u001b[0m\u001b[0mkey\u001b[0m\u001b[1;33m)\u001b[0m\u001b[1;33m)\u001b[0m\u001b[1;33m\u001b[0m\u001b[1;33m\u001b[0m\u001b[0m\n\u001b[0m\u001b[0;32m   2649\u001b[0m         \u001b[0mindexer\u001b[0m \u001b[1;33m=\u001b[0m \u001b[0mself\u001b[0m\u001b[1;33m.\u001b[0m\u001b[0mget_indexer\u001b[0m\u001b[1;33m(\u001b[0m\u001b[1;33m[\u001b[0m\u001b[0mkey\u001b[0m\u001b[1;33m]\u001b[0m\u001b[1;33m,\u001b[0m \u001b[0mmethod\u001b[0m\u001b[1;33m=\u001b[0m\u001b[0mmethod\u001b[0m\u001b[1;33m,\u001b[0m \u001b[0mtolerance\u001b[0m\u001b[1;33m=\u001b[0m\u001b[0mtolerance\u001b[0m\u001b[1;33m)\u001b[0m\u001b[1;33m\u001b[0m\u001b[1;33m\u001b[0m\u001b[0m\n\u001b[0;32m   2650\u001b[0m         \u001b[1;32mif\u001b[0m \u001b[0mindexer\u001b[0m\u001b[1;33m.\u001b[0m\u001b[0mndim\u001b[0m \u001b[1;33m>\u001b[0m \u001b[1;36m1\u001b[0m \u001b[1;32mor\u001b[0m \u001b[0mindexer\u001b[0m\u001b[1;33m.\u001b[0m\u001b[0msize\u001b[0m \u001b[1;33m>\u001b[0m \u001b[1;36m1\u001b[0m\u001b[1;33m:\u001b[0m\u001b[1;33m\u001b[0m\u001b[1;33m\u001b[0m\u001b[0m\n",
      "\u001b[1;32mpandas\\_libs\\index.pyx\u001b[0m in \u001b[0;36mpandas._libs.index.IndexEngine.get_loc\u001b[1;34m()\u001b[0m\n",
      "\u001b[1;32mpandas\\_libs\\index.pyx\u001b[0m in \u001b[0;36mpandas._libs.index.IndexEngine.get_loc\u001b[1;34m()\u001b[0m\n",
      "\u001b[1;32mpandas\\_libs\\hashtable_class_helper.pxi\u001b[0m in \u001b[0;36mpandas._libs.hashtable.PyObjectHashTable.get_item\u001b[1;34m()\u001b[0m\n",
      "\u001b[1;32mpandas\\_libs\\hashtable_class_helper.pxi\u001b[0m in \u001b[0;36mpandas._libs.hashtable.PyObjectHashTable.get_item\u001b[1;34m()\u001b[0m\n",
      "\u001b[1;31mKeyError\u001b[0m: 'RSI_Close'"
     ]
    }
   ],
   "source": [
    "TP = .0220\n",
    "SL = TP/2\n",
    "# Spot Levels\n",
    "RSI_Level = df_Precios['RSI_Close'][len(df_Precios) - 1]\n",
    "STO_Level = df_Precios['STO_Close'][len(df_Precios) - 1]\n",
    "SPOT = df_Precios['Close'][len(df_Precios) - 1]\n",
    "# Decision Maker\n",
    "if SPOT >= BBH_Level:\n",
    "    shoot_me = 1\n",
    "    print('Operation open by BBH')\n",
    "elif SPOT <= BBL_Level:\n",
    "    shoot_me = 1\n",
    "    print('Operation open by BBL')\n",
    "elif RSI_Level >= RSI_Param_UP:\n",
    "    shoot_me = 1\n",
    "    print('Operation open by RSI UP')\n",
    "elif RSI_Level >= RSI_Param_DW:\n",
    "    shoot_me = 1\n",
    "    print('Operation open by RSI DW')\n",
    "elif STO_Level >= STO_Param_UP:\n",
    "    shoot_me = 1\n",
    "    print('Operation open by STO UP')\n",
    "elif STO_Level >= STO_Param_DW:\n",
    "    shoot_me = 1\n",
    "    print('Operation open by STO DW')\n",
    "else:\n",
    "    shoot_me = 0"
   ]
  },
  {
   "cell_type": "code",
   "execution_count": null,
   "metadata": {},
   "outputs": [],
   "source": []
  }
 ],
 "metadata": {
  "kernelspec": {
   "display_name": "Python 3",
   "language": "python",
   "name": "python3"
  },
  "language_info": {
   "codemirror_mode": {
    "name": "ipython",
    "version": 3
   },
   "file_extension": ".py",
   "mimetype": "text/x-python",
   "name": "python",
   "nbconvert_exporter": "python",
   "pygments_lexer": "ipython3",
   "version": "3.6.8"
  }
 },
 "nbformat": 4,
 "nbformat_minor": 4
}
