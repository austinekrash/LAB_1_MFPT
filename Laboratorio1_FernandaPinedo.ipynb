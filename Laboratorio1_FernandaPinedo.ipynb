{
 "cells": [
  {
   "cell_type": "markdown",
   "metadata": {},
   "source": [
    "<img src=\"http://oci02.img.iteso.mx/identidad_de_instancia_2018/ITESO/Logos%20ITESO/Logo-ITESO-Principal.jpg\">"
   ]
  },
  {
   "cell_type": "markdown",
   "metadata": {},
   "source": [
    "<center> <font color= #004A94> <font size = 6> Lic. Ingeniería Financiera </font> <br> <br> <font color= #047CFB> <font size = 4>I.F. María Fernanda Pinedo Talango - if705971@iteso.mx </font>"
   ]
  },
  {
   "cell_type": "markdown",
   "metadata": {},
   "source": [
    "<center><font color= #004A94> <font size = 6> Microestructura y Sistemas de Trading </font> <br> <br>"
   ]
  },
  {
   "cell_type": "markdown",
   "metadata": {},
   "source": [
    "<center><font color=#42c29b><font size=5> Laboratorio 1: Trading manual </font> <br> <br>"
   ]
  },
  {
   "cell_type": "markdown",
   "metadata": {},
   "source": [
    "<center> <font color= #047CFB> <font size = 4> Primavera 2020 </font>  |  <font color= #047CFB> <font size = 4> Repositorio: <a href='https://github.com/'>https://github.com/ferpinedot/LAB_1_MFPT</a></font>"
   ]
  },
  {
   "cell_type": "code",
   "execution_count": 524,
   "metadata": {},
   "outputs": [],
   "source": [
    "from oandapyV20 import API\n",
    "import ta as ta\n",
    "import pandas as pd\n",
    "from datetime import date, timedelta\n",
    "from dateutil.relativedelta import relativedelta\n",
    "import oandapyV20.endpoints.instruments as instruments\n",
    "import matplotlib.pyplot as plt"
   ]
  },
  {
   "cell_type": "code",
   "execution_count": 525,
   "metadata": {},
   "outputs": [],
   "source": [
    "# Descarga de datos \n",
    "oanda_day_align = 16                       # Day Align\n",
    "oanda_timezone = \"America/Mexico_City\"    # Time Align\n",
    "oanda_id = '101-011-13246466-003'                       # Account Id\n",
    "oanda_type = \"practice\"               # Account type\n",
    "oanda_currency = \"USD_MXN\"                # Instrument\n",
    "oanda_gran = \"M5\"                     # Granularity of veils (Minutes 5)\n",
    "\n",
    "# Token for OANDA\n",
    "OA_Ak = '53e30fadde18a9b9153879673228a860-5577569e0db89960b0e4e5ad8e0b761d'\n",
    "\n",
    "api = API(access_token=OA_Ak)\n",
    "\n",
    "\n",
    "F_inicio = '2020-02-28'\n",
    "F_final = '2020-03-03'\n",
    "\n",
    "params = {\"granularity\": oanda_gran, \"price\": \"M\", \"dailyAlignment\": oanda_day_align,\n",
    "          \"alignmentTimezone\": oanda_timezone, \"from\": F_inicio, \"to\": F_final}\n",
    "\n",
    "OA_Req = instruments.InstrumentsCandles(instrument = oanda_currency, params=params)\n",
    "OA_Hist = api.request(OA_Req)"
   ]
  },
  {
   "cell_type": "code",
   "execution_count": 526,
   "metadata": {},
   "outputs": [],
   "source": [
    "for i in range(len(OA_Hist['candles'])-1):\n",
    "        list_a.append({'TimeStamp': OA_Hist['candles'][i]['time'],\n",
    "                       'Open': OA_Hist['candles'][i]['mid']['o'],\n",
    "                       'High': OA_Hist['candles'][i]['mid']['h'],\n",
    "                       'Low': OA_Hist['candles'][i]['mid']['l'],\n",
    "                       'Close': OA_Hist['candles'][i]['mid']['c']})"
   ]
  },
  {
   "cell_type": "code",
   "execution_count": 527,
   "metadata": {},
   "outputs": [],
   "source": [
    "pd_hist_data = pd.DataFrame(list_a)  # Converts data to a DataFrame"
   ]
  },
  {
   "cell_type": "code",
   "execution_count": 528,
   "metadata": {},
   "outputs": [
    {
     "data": {
      "text/html": [
       "<div>\n",
       "<style scoped>\n",
       "    .dataframe tbody tr th:only-of-type {\n",
       "        vertical-align: middle;\n",
       "    }\n",
       "\n",
       "    .dataframe tbody tr th {\n",
       "        vertical-align: top;\n",
       "    }\n",
       "\n",
       "    .dataframe thead th {\n",
       "        text-align: right;\n",
       "    }\n",
       "</style>\n",
       "<table border=\"1\" class=\"dataframe\">\n",
       "  <thead>\n",
       "    <tr style=\"text-align: right;\">\n",
       "      <th></th>\n",
       "      <th>TimeStamp</th>\n",
       "      <th>Open</th>\n",
       "      <th>High</th>\n",
       "      <th>Low</th>\n",
       "      <th>Close</th>\n",
       "    </tr>\n",
       "  </thead>\n",
       "  <tbody>\n",
       "    <tr>\n",
       "      <th>0</th>\n",
       "      <td>2016-12-05T05:00:00.000000000Z</td>\n",
       "      <td>20.67144</td>\n",
       "      <td>20.67293</td>\n",
       "      <td>20.67102</td>\n",
       "      <td>20.67278</td>\n",
       "    </tr>\n",
       "    <tr>\n",
       "      <th>1</th>\n",
       "      <td>2016-12-05T05:05:00.000000000Z</td>\n",
       "      <td>20.67281</td>\n",
       "      <td>20.67294</td>\n",
       "      <td>20.67174</td>\n",
       "      <td>20.67181</td>\n",
       "    </tr>\n",
       "    <tr>\n",
       "      <th>2</th>\n",
       "      <td>2016-12-05T05:10:00.000000000Z</td>\n",
       "      <td>20.67181</td>\n",
       "      <td>20.67266</td>\n",
       "      <td>20.67116</td>\n",
       "      <td>20.67116</td>\n",
       "    </tr>\n",
       "    <tr>\n",
       "      <th>3</th>\n",
       "      <td>2016-12-05T05:15:00.000000000Z</td>\n",
       "      <td>20.67117</td>\n",
       "      <td>20.67124</td>\n",
       "      <td>20.66986</td>\n",
       "      <td>20.67067</td>\n",
       "    </tr>\n",
       "    <tr>\n",
       "      <th>4</th>\n",
       "      <td>2016-12-05T05:20:00.000000000Z</td>\n",
       "      <td>20.67046</td>\n",
       "      <td>20.67390</td>\n",
       "      <td>20.67046</td>\n",
       "      <td>20.67260</td>\n",
       "    </tr>\n",
       "    <tr>\n",
       "      <th>...</th>\n",
       "      <td>...</td>\n",
       "      <td>...</td>\n",
       "      <td>...</td>\n",
       "      <td>...</td>\n",
       "      <td>...</td>\n",
       "    </tr>\n",
       "    <tr>\n",
       "      <th>22203</th>\n",
       "      <td>2020-03-03T04:30:00.000000000Z</td>\n",
       "      <td>19.42924</td>\n",
       "      <td>19.44406</td>\n",
       "      <td>19.42364</td>\n",
       "      <td>19.44232</td>\n",
       "    </tr>\n",
       "    <tr>\n",
       "      <th>22204</th>\n",
       "      <td>2020-03-03T04:35:00.000000000Z</td>\n",
       "      <td>19.44236</td>\n",
       "      <td>19.44416</td>\n",
       "      <td>19.42117</td>\n",
       "      <td>19.42518</td>\n",
       "    </tr>\n",
       "    <tr>\n",
       "      <th>22205</th>\n",
       "      <td>2020-03-03T04:40:00.000000000Z</td>\n",
       "      <td>19.42496</td>\n",
       "      <td>19.42902</td>\n",
       "      <td>19.41772</td>\n",
       "      <td>19.42902</td>\n",
       "    </tr>\n",
       "    <tr>\n",
       "      <th>22206</th>\n",
       "      <td>2020-03-03T04:45:00.000000000Z</td>\n",
       "      <td>19.42905</td>\n",
       "      <td>19.44202</td>\n",
       "      <td>19.42380</td>\n",
       "      <td>19.44024</td>\n",
       "    </tr>\n",
       "    <tr>\n",
       "      <th>22207</th>\n",
       "      <td>2020-03-03T04:50:00.000000000Z</td>\n",
       "      <td>19.44024</td>\n",
       "      <td>19.44062</td>\n",
       "      <td>19.42634</td>\n",
       "      <td>19.43122</td>\n",
       "    </tr>\n",
       "  </tbody>\n",
       "</table>\n",
       "<p>22208 rows × 5 columns</p>\n",
       "</div>"
      ],
      "text/plain": [
       "                            TimeStamp      Open      High       Low     Close\n",
       "0      2016-12-05T05:00:00.000000000Z  20.67144  20.67293  20.67102  20.67278\n",
       "1      2016-12-05T05:05:00.000000000Z  20.67281  20.67294  20.67174  20.67181\n",
       "2      2016-12-05T05:10:00.000000000Z  20.67181  20.67266  20.67116  20.67116\n",
       "3      2016-12-05T05:15:00.000000000Z  20.67117  20.67124  20.66986  20.67067\n",
       "4      2016-12-05T05:20:00.000000000Z  20.67046  20.67390  20.67046  20.67260\n",
       "...                               ...       ...       ...       ...       ...\n",
       "22203  2020-03-03T04:30:00.000000000Z  19.42924  19.44406  19.42364  19.44232\n",
       "22204  2020-03-03T04:35:00.000000000Z  19.44236  19.44416  19.42117  19.42518\n",
       "22205  2020-03-03T04:40:00.000000000Z  19.42496  19.42902  19.41772  19.42902\n",
       "22206  2020-03-03T04:45:00.000000000Z  19.42905  19.44202  19.42380  19.44024\n",
       "22207  2020-03-03T04:50:00.000000000Z  19.44024  19.44062  19.42634  19.43122\n",
       "\n",
       "[22208 rows x 5 columns]"
      ]
     },
     "execution_count": 528,
     "metadata": {},
     "output_type": "execute_result"
    }
   ],
   "source": [
    "pd_hist_data"
   ]
  },
  {
   "cell_type": "code",
   "execution_count": 529,
   "metadata": {},
   "outputs": [],
   "source": [
    "# Convertir a dataFrame\n",
    "pd_hist_data = pd.DataFrame(list_a) \n",
    "\n",
    "# Nombrar las columnas\n",
    "pd_hist_data = pd_hist_data[['TimeStamp', 'Open', 'High', 'Low', 'Close']]  \n",
    "\n",
    "#Convertir datos a tiempo\n",
    "pd_hist_data['TimeStamp'] = pd.to_datetime(pd_hist_data['TimeStamp'])\n",
    "\n",
    "#Convertir datos a numéricos\n",
    "pd_hist_data['Open'] = pd.to_numeric(pd_hist_data['Open'])  \n",
    "pd_hist_data['High'] = pd.to_numeric(pd_hist_data['High'])  \n",
    "pd_hist_data['Low'] = pd.to_numeric(pd_hist_data['Low'])  \n",
    "pd_hist_data['Close'] = pd.to_numeric(pd_hist_data['Close']) \n",
    "\n",
    "\n",
    "df_Precios = pd_hist_data  "
   ]
  },
  {
   "cell_type": "markdown",
   "metadata": {},
   "source": [
    "# Análisis técnico"
   ]
  },
  {
   "cell_type": "markdown",
   "metadata": {},
   "source": [
    "## Indicadores "
   ]
  },
  {
   "cell_type": "code",
   "execution_count": 530,
   "metadata": {},
   "outputs": [],
   "source": [
    "# Parámetros de inicio\n",
    "\n",
    "spot_price =  df_Precios['Close'][len(df_Precios) - 1]"
   ]
  },
  {
   "cell_type": "markdown",
   "metadata": {},
   "source": [
    "### Bandas Bollinger"
   ]
  },
  {
   "cell_type": "code",
   "execution_count": 531,
   "metadata": {},
   "outputs": [],
   "source": [
    "indicator_bb = ta.volatility.BollingerBands(df_Precios['Close'], n=20, ndev=2)\n",
    "df_Precios['bb_mavg'] = indicator_bb.bollinger_mavg()\n",
    "df_Precios['bb_bbh'] = indicator_bb.bollinger_hband()\n",
    "df_Precios['bb_bbl'] = indicator_bb.bollinger_lband()"
   ]
  },
  {
   "cell_type": "markdown",
   "metadata": {},
   "source": [
    "DataFrame con los datos importantes incluyendo el indicador mencionado anteriormente"
   ]
  },
  {
   "cell_type": "code",
   "execution_count": 532,
   "metadata": {},
   "outputs": [
    {
     "data": {
      "text/html": [
       "<div>\n",
       "<style scoped>\n",
       "    .dataframe tbody tr th:only-of-type {\n",
       "        vertical-align: middle;\n",
       "    }\n",
       "\n",
       "    .dataframe tbody tr th {\n",
       "        vertical-align: top;\n",
       "    }\n",
       "\n",
       "    .dataframe thead th {\n",
       "        text-align: right;\n",
       "    }\n",
       "</style>\n",
       "<table border=\"1\" class=\"dataframe\">\n",
       "  <thead>\n",
       "    <tr style=\"text-align: right;\">\n",
       "      <th></th>\n",
       "      <th>TimeStamp</th>\n",
       "      <th>Open</th>\n",
       "      <th>High</th>\n",
       "      <th>Low</th>\n",
       "      <th>Close</th>\n",
       "      <th>bb_mavg</th>\n",
       "      <th>bb_bbh</th>\n",
       "      <th>bb_bbl</th>\n",
       "    </tr>\n",
       "  </thead>\n",
       "  <tbody>\n",
       "    <tr>\n",
       "      <th>22203</th>\n",
       "      <td>2020-03-03 04:30:00+00:00</td>\n",
       "      <td>19.42924</td>\n",
       "      <td>19.44406</td>\n",
       "      <td>19.42364</td>\n",
       "      <td>19.44232</td>\n",
       "      <td>19.389903</td>\n",
       "      <td>19.432595</td>\n",
       "      <td>19.347211</td>\n",
       "    </tr>\n",
       "    <tr>\n",
       "      <th>22204</th>\n",
       "      <td>2020-03-03 04:35:00+00:00</td>\n",
       "      <td>19.44236</td>\n",
       "      <td>19.44416</td>\n",
       "      <td>19.42117</td>\n",
       "      <td>19.42518</td>\n",
       "      <td>19.390968</td>\n",
       "      <td>19.436001</td>\n",
       "      <td>19.345936</td>\n",
       "    </tr>\n",
       "    <tr>\n",
       "      <th>22205</th>\n",
       "      <td>2020-03-03 04:40:00+00:00</td>\n",
       "      <td>19.42496</td>\n",
       "      <td>19.42902</td>\n",
       "      <td>19.41772</td>\n",
       "      <td>19.42902</td>\n",
       "      <td>19.392710</td>\n",
       "      <td>19.440704</td>\n",
       "      <td>19.344717</td>\n",
       "    </tr>\n",
       "    <tr>\n",
       "      <th>22206</th>\n",
       "      <td>2020-03-03 04:45:00+00:00</td>\n",
       "      <td>19.42905</td>\n",
       "      <td>19.44202</td>\n",
       "      <td>19.42380</td>\n",
       "      <td>19.44024</td>\n",
       "      <td>19.395160</td>\n",
       "      <td>19.447417</td>\n",
       "      <td>19.342904</td>\n",
       "    </tr>\n",
       "    <tr>\n",
       "      <th>22207</th>\n",
       "      <td>2020-03-03 04:50:00+00:00</td>\n",
       "      <td>19.44024</td>\n",
       "      <td>19.44062</td>\n",
       "      <td>19.42634</td>\n",
       "      <td>19.43122</td>\n",
       "      <td>19.397207</td>\n",
       "      <td>19.451698</td>\n",
       "      <td>19.342716</td>\n",
       "    </tr>\n",
       "  </tbody>\n",
       "</table>\n",
       "</div>"
      ],
      "text/plain": [
       "                      TimeStamp      Open      High       Low     Close  \\\n",
       "22203 2020-03-03 04:30:00+00:00  19.42924  19.44406  19.42364  19.44232   \n",
       "22204 2020-03-03 04:35:00+00:00  19.44236  19.44416  19.42117  19.42518   \n",
       "22205 2020-03-03 04:40:00+00:00  19.42496  19.42902  19.41772  19.42902   \n",
       "22206 2020-03-03 04:45:00+00:00  19.42905  19.44202  19.42380  19.44024   \n",
       "22207 2020-03-03 04:50:00+00:00  19.44024  19.44062  19.42634  19.43122   \n",
       "\n",
       "         bb_mavg     bb_bbh     bb_bbl  \n",
       "22203  19.389903  19.432595  19.347211  \n",
       "22204  19.390968  19.436001  19.345936  \n",
       "22205  19.392710  19.440704  19.344717  \n",
       "22206  19.395160  19.447417  19.342904  \n",
       "22207  19.397207  19.451698  19.342716  "
      ]
     },
     "execution_count": 532,
     "metadata": {},
     "output_type": "execute_result"
    }
   ],
   "source": [
    "df_Precios.tail(5)"
   ]
  },
  {
   "cell_type": "code",
   "execution_count": 533,
   "metadata": {},
   "outputs": [
    {
     "name": "stdout",
     "output_type": "stream",
     "text": [
      "sin movimientos\n"
     ]
    }
   ],
   "source": [
    "# Toma de decisiones\n",
    "\n",
    "if df_Precios['Close'].iloc[-1] > df_Precios['bb_bbh'].iloc[-1]:\n",
    "    print('sell')\n",
    "elif df_Precios['Close'].iloc[-1] == df_Precios['bb_bbh'].iloc[-1]:\n",
    "    print('sell')\n",
    "elif df_Precios['Close'].iloc[-1] < df_Precios['bb_bbl'].iloc[-1]:\n",
    "    print('buy')\n",
    "elif df_Precios['Close'].iloc[-1] == df_Precios['bb_bbl'].iloc[-1]:\n",
    "    print('buy')\n",
    "else:\n",
    "    print('sin movimientos')"
   ]
  },
  {
   "cell_type": "code",
   "execution_count": 534,
   "metadata": {},
   "outputs": [
    {
     "data": {
      "text/plain": [
       "19.43122"
      ]
     },
     "execution_count": 534,
     "metadata": {},
     "output_type": "execute_result"
    }
   ],
   "source": [
    "df_Precios['Close'].iloc[-1]"
   ]
  },
  {
   "cell_type": "markdown",
   "metadata": {},
   "source": [
    "### Gráfica de todo el historial de precios"
   ]
  },
  {
   "cell_type": "code",
   "execution_count": 535,
   "metadata": {},
   "outputs": [
    {
     "data": {
      "image/png": "[encoded data removed]",
      "text/plain": [
       "<Figure size 432x288 with 1 Axes>"
      ]
     },
     "metadata": {
      "needs_background": "light"
     },
     "output_type": "display_data"
    }
   ],
   "source": [
    "plt.plot(list(df_Precios['Close']), c= 'red')\n",
    "plt.plot(list(df_Precios['bb_bbl']), c= 'purple')\n",
    "plt.plot(list(df_Precios['bb_mavg']), c= 'violet')\n",
    "plt.plot(list(df_Precios['bb_bbh']), c= 'pink')\n",
    "plt.xlabel('')\n",
    "plt.ylabel('Precios')\n",
    "plt.show()"
   ]
  },
  {
   "cell_type": "code",
   "execution_count": 536,
   "metadata": {},
   "outputs": [
    {
     "data": {
      "text/plain": [
       "22058    19.59596\n",
       "22059    19.58132\n",
       "22060    19.55934\n",
       "22061    19.60366\n",
       "22062    19.60599\n",
       "           ...   \n",
       "22202    19.42919\n",
       "22203    19.44232\n",
       "22204    19.42518\n",
       "22205    19.42902\n",
       "22206    19.44024\n",
       "Name: Close, Length: 149, dtype: float64"
      ]
     },
     "execution_count": 536,
     "metadata": {},
     "output_type": "execute_result"
    }
   ],
   "source": [
    "df_Precios['Close'].iloc[-150:-1]"
   ]
  },
  {
   "cell_type": "markdown",
   "metadata": {},
   "source": [
    "### Gráfica de los últimos 150 datos"
   ]
  },
  {
   "cell_type": "code",
   "execution_count": 537,
   "metadata": {},
   "outputs": [
    {
     "data": {
      "image/png": "[encoded data removed]",
      "text/plain": [
       "<Figure size 432x288 with 1 Axes>"
      ]
     },
     "metadata": {
      "needs_background": "light"
     },
     "output_type": "display_data"
    }
   ],
   "source": [
    "plt.plot(df_Precios['Close'].iloc[-150:-1], color = 'red')\n",
    "plt.plot(df_Precios['bb_bbl'].iloc[-150:-1], color = 'purple')\n",
    "plt.plot(df_Precios['bb_mavg'].iloc[-150:-1], color = 'violet')\n",
    "plt.plot(df_Precios['bb_bbh'].iloc[-150:-1], color = 'pink')\n",
    "plt.title('Bandas de Bollinger e historial de Close prices')\n",
    "plt.xlabel('')\n",
    "plt.ylabel('Precios')\n",
    "plt.show()"
   ]
  },
  {
   "cell_type": "markdown",
   "metadata": {},
   "source": [
    "### Oscilador Estocástico"
   ]
  },
  {
   "cell_type": "code",
   "execution_count": 538,
   "metadata": {},
   "outputs": [],
   "source": [
    "indicator_stoch = ta.momentum.StochasticOscillator(df_Precios['High'], df_Precios['Low'], df_Precios['Close'], 14, 3, False)\n",
    "#df_Precios['stoch_close'] = ta.momentum.stoch(df_Precios['High'], df_Precios['Low'], df_Precios['Close'], 200, False)\n",
    "df_Precios['stoch_close'] = indicator_stoch.stoch()\n",
    "df_Precios['stoch_signal'] = indicator_stoch.stoch_signal()\n",
    "\n",
    "\n",
    "#indicator_bb = ta.volatility.BollingerBands(df_Precios['Close'], n=20, ndev=2)\n",
    "#df_Precios['bb_mavg'] = indicator_bb.bollinger_mavg()\n",
    "#df_Precios['bb_bbh'] = indicator_bb.bollinger_hband()\n",
    "#df_Precios['bb_bbl'] = indicator_bb.bollinger_lband()"
   ]
  },
  {
   "cell_type": "markdown",
   "metadata": {},
   "source": [
    "DataFrame con los datos importantes incluyendo el indicador mencionado anteriormente"
   ]
  },
  {
   "cell_type": "code",
   "execution_count": 539,
   "metadata": {},
   "outputs": [
    {
     "data": {
      "text/html": [
       "<div>\n",
       "<style scoped>\n",
       "    .dataframe tbody tr th:only-of-type {\n",
       "        vertical-align: middle;\n",
       "    }\n",
       "\n",
       "    .dataframe tbody tr th {\n",
       "        vertical-align: top;\n",
       "    }\n",
       "\n",
       "    .dataframe thead th {\n",
       "        text-align: right;\n",
       "    }\n",
       "</style>\n",
       "<table border=\"1\" class=\"dataframe\">\n",
       "  <thead>\n",
       "    <tr style=\"text-align: right;\">\n",
       "      <th></th>\n",
       "      <th>TimeStamp</th>\n",
       "      <th>Open</th>\n",
       "      <th>High</th>\n",
       "      <th>Low</th>\n",
       "      <th>Close</th>\n",
       "      <th>bb_mavg</th>\n",
       "      <th>bb_bbh</th>\n",
       "      <th>bb_bbl</th>\n",
       "      <th>stoch_close</th>\n",
       "      <th>stoch_signal</th>\n",
       "    </tr>\n",
       "  </thead>\n",
       "  <tbody>\n",
       "    <tr>\n",
       "      <th>22203</th>\n",
       "      <td>2020-03-03 04:30:00+00:00</td>\n",
       "      <td>19.42924</td>\n",
       "      <td>19.44406</td>\n",
       "      <td>19.42364</td>\n",
       "      <td>19.44232</td>\n",
       "      <td>19.389903</td>\n",
       "      <td>19.432595</td>\n",
       "      <td>19.347211</td>\n",
       "      <td>98.094195</td>\n",
       "      <td>96.941036</td>\n",
       "    </tr>\n",
       "    <tr>\n",
       "      <th>22204</th>\n",
       "      <td>2020-03-03 04:35:00+00:00</td>\n",
       "      <td>19.44236</td>\n",
       "      <td>19.44416</td>\n",
       "      <td>19.42117</td>\n",
       "      <td>19.42518</td>\n",
       "      <td>19.390968</td>\n",
       "      <td>19.436001</td>\n",
       "      <td>19.345936</td>\n",
       "      <td>79.234136</td>\n",
       "      <td>90.307909</td>\n",
       "    </tr>\n",
       "    <tr>\n",
       "      <th>22205</th>\n",
       "      <td>2020-03-03 04:40:00+00:00</td>\n",
       "      <td>19.42496</td>\n",
       "      <td>19.42902</td>\n",
       "      <td>19.41772</td>\n",
       "      <td>19.42902</td>\n",
       "      <td>19.392710</td>\n",
       "      <td>19.440704</td>\n",
       "      <td>19.344717</td>\n",
       "      <td>82.513283</td>\n",
       "      <td>86.613871</td>\n",
       "    </tr>\n",
       "    <tr>\n",
       "      <th>22206</th>\n",
       "      <td>2020-03-03 04:45:00+00:00</td>\n",
       "      <td>19.42905</td>\n",
       "      <td>19.44202</td>\n",
       "      <td>19.42380</td>\n",
       "      <td>19.44024</td>\n",
       "      <td>19.395160</td>\n",
       "      <td>19.447417</td>\n",
       "      <td>19.342904</td>\n",
       "      <td>95.472395</td>\n",
       "      <td>85.739938</td>\n",
       "    </tr>\n",
       "    <tr>\n",
       "      <th>22207</th>\n",
       "      <td>2020-03-03 04:50:00+00:00</td>\n",
       "      <td>19.44024</td>\n",
       "      <td>19.44062</td>\n",
       "      <td>19.42634</td>\n",
       "      <td>19.43122</td>\n",
       "      <td>19.397207</td>\n",
       "      <td>19.451698</td>\n",
       "      <td>19.342716</td>\n",
       "      <td>85.054285</td>\n",
       "      <td>87.679988</td>\n",
       "    </tr>\n",
       "  </tbody>\n",
       "</table>\n",
       "</div>"
      ],
      "text/plain": [
       "                      TimeStamp      Open      High       Low     Close  \\\n",
       "22203 2020-03-03 04:30:00+00:00  19.42924  19.44406  19.42364  19.44232   \n",
       "22204 2020-03-03 04:35:00+00:00  19.44236  19.44416  19.42117  19.42518   \n",
       "22205 2020-03-03 04:40:00+00:00  19.42496  19.42902  19.41772  19.42902   \n",
       "22206 2020-03-03 04:45:00+00:00  19.42905  19.44202  19.42380  19.44024   \n",
       "22207 2020-03-03 04:50:00+00:00  19.44024  19.44062  19.42634  19.43122   \n",
       "\n",
       "         bb_mavg     bb_bbh     bb_bbl  stoch_close  stoch_signal  \n",
       "22203  19.389903  19.432595  19.347211    98.094195     96.941036  \n",
       "22204  19.390968  19.436001  19.345936    79.234136     90.307909  \n",
       "22205  19.392710  19.440704  19.344717    82.513283     86.613871  \n",
       "22206  19.395160  19.447417  19.342904    95.472395     85.739938  \n",
       "22207  19.397207  19.451698  19.342716    85.054285     87.679988  "
      ]
     },
     "execution_count": 539,
     "metadata": {},
     "output_type": "execute_result"
    }
   ],
   "source": [
    "df_Precios.tail(5)"
   ]
  },
  {
   "cell_type": "code",
   "execution_count": 540,
   "metadata": {},
   "outputs": [],
   "source": [
    "# Parámetros\n",
    "\n",
    "stoch_up = 80\n",
    "stoch_down = 20\n",
    "\n",
    "stoch_level = df_Precios['stoch_close'][len(df_Precios) -1]"
   ]
  },
  {
   "cell_type": "markdown",
   "metadata": {},
   "source": [
    "# Traditionally, readings over 80 are considered in the overbought range, and readings under 20 are considered oversold."
   ]
  },
  {
   "cell_type": "code",
   "execution_count": 541,
   "metadata": {},
   "outputs": [
    {
     "name": "stdout",
     "output_type": "stream",
     "text": [
      "sell\n"
     ]
    }
   ],
   "source": [
    "# Toma de decisiones\n",
    "\n",
    "if stoch_level > stoch_up:\n",
    "    print('sell')\n",
    "elif stoch_level == stoch_up:\n",
    "    print('sell')\n",
    "elif stoch_level < stoch_down:\n",
    "    print('buy')\n",
    "elif stoch_level == stoch_down:\n",
    "    print('buy')\n",
    "else:\n",
    "    print('sin movimientos')"
   ]
  },
  {
   "cell_type": "markdown",
   "metadata": {},
   "source": [
    "### Gráfica de todo el historial de precios"
   ]
  },
  {
   "cell_type": "code",
   "execution_count": 542,
   "metadata": {},
   "outputs": [
    {
     "data": {
      "image/png": "[encoded data removed]",
      "text/plain": [
       "<Figure size 432x288 with 1 Axes>"
      ]
     },
     "metadata": {
      "needs_background": "light"
     },
     "output_type": "display_data"
    }
   ],
   "source": [
    "#plt.plot(list(df_Precios['Close']), c= 'red')\n",
    "#plt.plot(list(df_Precios['stoch_close']), c= 'purple')\n",
    "plt.plot(list(df_Precios['stoch_signal']), c= 'pink')\n",
    "plt.title('Valores del Oscilador Estocástico')\n",
    "plt.xlabel('')\n",
    "plt.ylabel('Oscilador Estocástico (0-100)')\n",
    "plt.show()"
   ]
  },
  {
   "cell_type": "code",
   "execution_count": 543,
   "metadata": {},
   "outputs": [
    {
     "data": {
      "text/plain": [
       "22058    13.622394\n",
       "22059     6.418181\n",
       "22060     3.522633\n",
       "22061     6.923065\n",
       "22062    13.195188\n",
       "           ...    \n",
       "22202    91.510318\n",
       "22203    96.941036\n",
       "22204    90.307909\n",
       "22205    86.613871\n",
       "22206    85.739938\n",
       "Name: stoch_signal, Length: 149, dtype: float64"
      ]
     },
     "execution_count": 543,
     "metadata": {},
     "output_type": "execute_result"
    }
   ],
   "source": [
    "df_Precios['stoch_signal'].iloc[-150:-1]"
   ]
  },
  {
   "cell_type": "code",
   "execution_count": 544,
   "metadata": {},
   "outputs": [
    {
     "data": {
      "image/png": "[encoded data removed]",
      "text/plain": [
       "<Figure size 432x288 with 1 Axes>"
      ]
     },
     "metadata": {
      "needs_background": "light"
     },
     "output_type": "display_data"
    }
   ],
   "source": [
    "plt.plot(df_Precios['stoch_signal'].iloc[-150:-1], c= 'pink')\n",
    "plt.title('Valores del Oscilador Estocástico de los últimos 150 valores')\n",
    "plt.xlabel('')\n",
    "plt.ylabel('Oscilador Estocástico (0-100)')\n",
    "plt.show()"
   ]
  },
  {
   "cell_type": "markdown",
   "metadata": {},
   "source": [
    "### RSI"
   ]
  },
  {
   "cell_type": "code",
   "execution_count": 545,
   "metadata": {},
   "outputs": [],
   "source": [
    "indicator_rsi= ta.momentum.rsi(df_Precios['Close'], 51)\n",
    "df_Precios['rsi_close'] = ta.momentum.rsi(df_Precios['Close'],51)"
   ]
  },
  {
   "cell_type": "markdown",
   "metadata": {},
   "source": [
    "DataFrame con los datos importantes incluyendo el indicador mencionado anteriormente"
   ]
  },
  {
   "cell_type": "code",
   "execution_count": 546,
   "metadata": {},
   "outputs": [
    {
     "data": {
      "text/html": [
       "<div>\n",
       "<style scoped>\n",
       "    .dataframe tbody tr th:only-of-type {\n",
       "        vertical-align: middle;\n",
       "    }\n",
       "\n",
       "    .dataframe tbody tr th {\n",
       "        vertical-align: top;\n",
       "    }\n",
       "\n",
       "    .dataframe thead th {\n",
       "        text-align: right;\n",
       "    }\n",
       "</style>\n",
       "<table border=\"1\" class=\"dataframe\">\n",
       "  <thead>\n",
       "    <tr style=\"text-align: right;\">\n",
       "      <th></th>\n",
       "      <th>TimeStamp</th>\n",
       "      <th>Open</th>\n",
       "      <th>High</th>\n",
       "      <th>Low</th>\n",
       "      <th>Close</th>\n",
       "      <th>bb_mavg</th>\n",
       "      <th>bb_bbh</th>\n",
       "      <th>bb_bbl</th>\n",
       "      <th>stoch_close</th>\n",
       "      <th>stoch_signal</th>\n",
       "      <th>rsi_close</th>\n",
       "    </tr>\n",
       "  </thead>\n",
       "  <tbody>\n",
       "    <tr>\n",
       "      <th>22203</th>\n",
       "      <td>2020-03-03 04:30:00+00:00</td>\n",
       "      <td>19.42924</td>\n",
       "      <td>19.44406</td>\n",
       "      <td>19.42364</td>\n",
       "      <td>19.44232</td>\n",
       "      <td>19.389903</td>\n",
       "      <td>19.432595</td>\n",
       "      <td>19.347211</td>\n",
       "      <td>98.094195</td>\n",
       "      <td>96.941036</td>\n",
       "      <td>51.482861</td>\n",
       "    </tr>\n",
       "    <tr>\n",
       "      <th>22204</th>\n",
       "      <td>2020-03-03 04:35:00+00:00</td>\n",
       "      <td>19.44236</td>\n",
       "      <td>19.44416</td>\n",
       "      <td>19.42117</td>\n",
       "      <td>19.42518</td>\n",
       "      <td>19.390968</td>\n",
       "      <td>19.436001</td>\n",
       "      <td>19.345936</td>\n",
       "      <td>79.234136</td>\n",
       "      <td>90.307909</td>\n",
       "      <td>49.393691</td>\n",
       "    </tr>\n",
       "    <tr>\n",
       "      <th>22205</th>\n",
       "      <td>2020-03-03 04:40:00+00:00</td>\n",
       "      <td>19.42496</td>\n",
       "      <td>19.42902</td>\n",
       "      <td>19.41772</td>\n",
       "      <td>19.42902</td>\n",
       "      <td>19.392710</td>\n",
       "      <td>19.440704</td>\n",
       "      <td>19.344717</td>\n",
       "      <td>82.513283</td>\n",
       "      <td>86.613871</td>\n",
       "      <td>49.858664</td>\n",
       "    </tr>\n",
       "    <tr>\n",
       "      <th>22206</th>\n",
       "      <td>2020-03-03 04:45:00+00:00</td>\n",
       "      <td>19.42905</td>\n",
       "      <td>19.44202</td>\n",
       "      <td>19.42380</td>\n",
       "      <td>19.44024</td>\n",
       "      <td>19.395160</td>\n",
       "      <td>19.447417</td>\n",
       "      <td>19.342904</td>\n",
       "      <td>95.472395</td>\n",
       "      <td>85.739938</td>\n",
       "      <td>51.195100</td>\n",
       "    </tr>\n",
       "    <tr>\n",
       "      <th>22207</th>\n",
       "      <td>2020-03-03 04:50:00+00:00</td>\n",
       "      <td>19.44024</td>\n",
       "      <td>19.44062</td>\n",
       "      <td>19.42634</td>\n",
       "      <td>19.43122</td>\n",
       "      <td>19.397207</td>\n",
       "      <td>19.451698</td>\n",
       "      <td>19.342716</td>\n",
       "      <td>85.054285</td>\n",
       "      <td>87.679988</td>\n",
       "      <td>50.100123</td>\n",
       "    </tr>\n",
       "  </tbody>\n",
       "</table>\n",
       "</div>"
      ],
      "text/plain": [
       "                      TimeStamp      Open      High       Low     Close  \\\n",
       "22203 2020-03-03 04:30:00+00:00  19.42924  19.44406  19.42364  19.44232   \n",
       "22204 2020-03-03 04:35:00+00:00  19.44236  19.44416  19.42117  19.42518   \n",
       "22205 2020-03-03 04:40:00+00:00  19.42496  19.42902  19.41772  19.42902   \n",
       "22206 2020-03-03 04:45:00+00:00  19.42905  19.44202  19.42380  19.44024   \n",
       "22207 2020-03-03 04:50:00+00:00  19.44024  19.44062  19.42634  19.43122   \n",
       "\n",
       "         bb_mavg     bb_bbh     bb_bbl  stoch_close  stoch_signal  rsi_close  \n",
       "22203  19.389903  19.432595  19.347211    98.094195     96.941036  51.482861  \n",
       "22204  19.390968  19.436001  19.345936    79.234136     90.307909  49.393691  \n",
       "22205  19.392710  19.440704  19.344717    82.513283     86.613871  49.858664  \n",
       "22206  19.395160  19.447417  19.342904    95.472395     85.739938  51.195100  \n",
       "22207  19.397207  19.451698  19.342716    85.054285     87.679988  50.100123  "
      ]
     },
     "execution_count": 546,
     "metadata": {},
     "output_type": "execute_result"
    }
   ],
   "source": [
    "df_Precios.tail(5)"
   ]
  },
  {
   "cell_type": "code",
   "execution_count": 559,
   "metadata": {},
   "outputs": [],
   "source": [
    "# Parámetros\n",
    "\n",
    "rsi_up = 65\n",
    "rsi_media = 50\n",
    "rsi_down = 30\n",
    "\n",
    "rsi_level = df_Precios['rsi_close'][len(df_Precios) - 1]"
   ]
  },
  {
   "cell_type": "code",
   "execution_count": 560,
   "metadata": {},
   "outputs": [
    {
     "name": "stdout",
     "output_type": "stream",
     "text": [
      "sin movimientos\n"
     ]
    }
   ],
   "source": [
    "if rsi_level > rsi_up: #and rsi_level > rsi_media:\n",
    "    print('sell')\n",
    "elif rsi_level == rsi_up:\n",
    "    print('sell')\n",
    "elif rsi_level < rsi_down: #and rsi_level < rsi_media:\n",
    "    print('buy')\n",
    "elif rsi_level == rsi_down:\n",
    "    print('buy')\n",
    "#elif rsi_level > rsi_media:\n",
    "else:\n",
    "    print('sin movimientos')"
   ]
  },
  {
   "cell_type": "code",
   "execution_count": null,
   "metadata": {},
   "outputs": [],
   "source": []
  },
  {
   "cell_type": "code",
   "execution_count": null,
   "metadata": {},
   "outputs": [],
   "source": []
  },
  {
   "cell_type": "code",
   "execution_count": null,
   "metadata": {},
   "outputs": [],
   "source": []
  },
  {
   "cell_type": "code",
   "execution_count": null,
   "metadata": {},
   "outputs": [],
   "source": []
  },
  {
   "cell_type": "code",
   "execution_count": 373,
   "metadata": {},
   "outputs": [],
   "source": []
  },
  {
   "cell_type": "code",
   "execution_count": null,
   "metadata": {},
   "outputs": [],
   "source": []
  },
  {
   "cell_type": "code",
   "execution_count": null,
   "metadata": {},
   "outputs": [],
   "source": []
  }
 ],
 "metadata": {
  "kernelspec": {
   "display_name": "Python 3",
   "language": "python",
   "name": "python3"
  },
  "language_info": {
   "codemirror_mode": {
    "name": "ipython",
    "version": 3
   },
   "file_extension": ".py",
   "mimetype": "text/x-python",
   "name": "python",
   "nbconvert_exporter": "python",
   "pygments_lexer": "ipython3",
   "version": "3.6.8"
  }
 },
 "nbformat": 4,
 "nbformat_minor": 4
}
