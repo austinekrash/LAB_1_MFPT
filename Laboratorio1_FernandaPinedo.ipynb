{
 "cells": [
  {
   "cell_type": "markdown",
   "metadata": {},
   "source": [
    "<img src=\"http://oci02.img.iteso.mx/identidad_de_instancia_2018/ITESO/Logos%20ITESO/Logo-ITESO-Principal.jpg\">"
   ]
  },
  {
   "cell_type": "markdown",
   "metadata": {},
   "source": [
    "<center> <font color= #004A94> <font size = 6> Lic. Ingeniería Financiera </font> <br> <br> <font color= #047CFB> <font size = 4>I.F. María Fernanda Pinedo Talango - if705971@iteso.mx </font>"
   ]
  },
  {
   "cell_type": "markdown",
   "metadata": {},
   "source": [
    "<center><font color= #004A94> <font size = 6> Microestructura y Sistemas de Trading </font> <br> <br>"
   ]
  },
  {
   "cell_type": "markdown",
   "metadata": {},
   "source": [
    "<center><font color=#42c29b><font size=5> Laboratorio 1: Trading manual </font> <br> <br>"
   ]
  },
  {
   "cell_type": "markdown",
   "metadata": {},
   "source": [
    "<center> <font color= #047CFB> <font size = 4> Primavera 2020 </font>  |  <font color= #047CFB> <font size = 4> Repositorio: <a href='https://github.com/'>https://github.com/ferpinedot/LAB_1_MFPT</a></font>"
   ]
  },
  {
   "cell_type": "code",
   "execution_count": 638,
   "metadata": {},
   "outputs": [],
   "source": [
    "from oandapyV20 import API\n",
    "import ta as ta\n",
    "import pandas as pd\n",
    "from datetime import date, timedelta\n",
    "from dateutil.relativedelta import relativedelta\n",
    "import oandapyV20.endpoints.instruments as instruments\n",
    "import matplotlib.pyplot as plt"
   ]
  },
  {
   "cell_type": "code",
   "execution_count": 639,
   "metadata": {},
   "outputs": [],
   "source": [
    "# Descarga de datos \n",
    "oanda_day_align = 16                       # Day Align\n",
    "oanda_timezone = \"America/Mexico_City\"    # Time Align\n",
    "oanda_id = '101-011-13246466-003'                       # Account Id\n",
    "oanda_type = \"practice\"               # Account type\n",
    "oanda_currency = \"USD_MXN\"                # Instrument\n",
    "oanda_gran = \"M5\"                     # Granularity of veils (Minutes 5)\n",
    "\n",
    "# Token for OANDA\n",
    "OA_Ak = '53e30fadde18a9b9153879673228a860-5577569e0db89960b0e4e5ad8e0b761d'\n",
    "\n",
    "api = API(access_token=OA_Ak)\n",
    "\n",
    "\n",
    "F_inicio = '2020-02-29'\n",
    "F_final = '2020-03-05'\n",
    "\n",
    "params = {\"granularity\": oanda_gran, \"price\": \"M\", \"dailyAlignment\": oanda_day_align,\n",
    "          \"alignmentTimezone\": oanda_timezone, \"from\": F_inicio, \"to\": F_final}\n",
    "\n",
    "OA_Req = instruments.InstrumentsCandles(instrument = oanda_currency, params=params)\n",
    "OA_Hist = api.request(OA_Req)"
   ]
  },
  {
   "cell_type": "code",
   "execution_count": 640,
   "metadata": {},
   "outputs": [],
   "source": [
    "for i in range(len(OA_Hist['candles'])-1):\n",
    "        list_a.append({'TimeStamp': OA_Hist['candles'][i]['time'],\n",
    "                       'Open': OA_Hist['candles'][i]['mid']['o'],\n",
    "                       'High': OA_Hist['candles'][i]['mid']['h'],\n",
    "                       'Low': OA_Hist['candles'][i]['mid']['l'],\n",
    "                       'Close': OA_Hist['candles'][i]['mid']['c']})"
   ]
  },
  {
   "cell_type": "code",
   "execution_count": 641,
   "metadata": {},
   "outputs": [],
   "source": [
    "# Convierte los datos a dataframe\n",
    "pd_hist_data = pd.DataFrame(list_a) "
   ]
  },
  {
   "cell_type": "code",
   "execution_count": 642,
   "metadata": {},
   "outputs": [
    {
     "data": {
      "text/html": [
       "<div>\n",
       "<style scoped>\n",
       "    .dataframe tbody tr th:only-of-type {\n",
       "        vertical-align: middle;\n",
       "    }\n",
       "\n",
       "    .dataframe tbody tr th {\n",
       "        vertical-align: top;\n",
       "    }\n",
       "\n",
       "    .dataframe thead th {\n",
       "        text-align: right;\n",
       "    }\n",
       "</style>\n",
       "<table border=\"1\" class=\"dataframe\">\n",
       "  <thead>\n",
       "    <tr style=\"text-align: right;\">\n",
       "      <th></th>\n",
       "      <th>TimeStamp</th>\n",
       "      <th>Open</th>\n",
       "      <th>High</th>\n",
       "      <th>Low</th>\n",
       "      <th>Close</th>\n",
       "    </tr>\n",
       "  </thead>\n",
       "  <tbody>\n",
       "    <tr>\n",
       "      <th>0</th>\n",
       "      <td>2016-12-05T05:00:00.000000000Z</td>\n",
       "      <td>20.67144</td>\n",
       "      <td>20.67293</td>\n",
       "      <td>20.67102</td>\n",
       "      <td>20.67278</td>\n",
       "    </tr>\n",
       "    <tr>\n",
       "      <th>1</th>\n",
       "      <td>2016-12-05T05:05:00.000000000Z</td>\n",
       "      <td>20.67281</td>\n",
       "      <td>20.67294</td>\n",
       "      <td>20.67174</td>\n",
       "      <td>20.67181</td>\n",
       "    </tr>\n",
       "    <tr>\n",
       "      <th>2</th>\n",
       "      <td>2016-12-05T05:10:00.000000000Z</td>\n",
       "      <td>20.67181</td>\n",
       "      <td>20.67266</td>\n",
       "      <td>20.67116</td>\n",
       "      <td>20.67116</td>\n",
       "    </tr>\n",
       "    <tr>\n",
       "      <th>3</th>\n",
       "      <td>2016-12-05T05:15:00.000000000Z</td>\n",
       "      <td>20.67117</td>\n",
       "      <td>20.67124</td>\n",
       "      <td>20.66986</td>\n",
       "      <td>20.67067</td>\n",
       "    </tr>\n",
       "    <tr>\n",
       "      <th>4</th>\n",
       "      <td>2016-12-05T05:20:00.000000000Z</td>\n",
       "      <td>20.67046</td>\n",
       "      <td>20.67390</td>\n",
       "      <td>20.67046</td>\n",
       "      <td>20.67260</td>\n",
       "    </tr>\n",
       "    <tr>\n",
       "      <th>...</th>\n",
       "      <td>...</td>\n",
       "      <td>...</td>\n",
       "      <td>...</td>\n",
       "      <td>...</td>\n",
       "      <td>...</td>\n",
       "    </tr>\n",
       "    <tr>\n",
       "      <th>26600</th>\n",
       "      <td>2020-03-05T04:30:00.000000000Z</td>\n",
       "      <td>19.56006</td>\n",
       "      <td>19.56006</td>\n",
       "      <td>19.55768</td>\n",
       "      <td>19.55878</td>\n",
       "    </tr>\n",
       "    <tr>\n",
       "      <th>26601</th>\n",
       "      <td>2020-03-05T04:35:00.000000000Z</td>\n",
       "      <td>19.55871</td>\n",
       "      <td>19.55882</td>\n",
       "      <td>19.55610</td>\n",
       "      <td>19.55662</td>\n",
       "    </tr>\n",
       "    <tr>\n",
       "      <th>26602</th>\n",
       "      <td>2020-03-05T04:40:00.000000000Z</td>\n",
       "      <td>19.55677</td>\n",
       "      <td>19.56015</td>\n",
       "      <td>19.55662</td>\n",
       "      <td>19.55900</td>\n",
       "    </tr>\n",
       "    <tr>\n",
       "      <th>26603</th>\n",
       "      <td>2020-03-05T04:45:00.000000000Z</td>\n",
       "      <td>19.55916</td>\n",
       "      <td>19.55916</td>\n",
       "      <td>19.55612</td>\n",
       "      <td>19.55650</td>\n",
       "    </tr>\n",
       "    <tr>\n",
       "      <th>26604</th>\n",
       "      <td>2020-03-05T04:50:00.000000000Z</td>\n",
       "      <td>19.55656</td>\n",
       "      <td>19.56024</td>\n",
       "      <td>19.54713</td>\n",
       "      <td>19.54740</td>\n",
       "    </tr>\n",
       "  </tbody>\n",
       "</table>\n",
       "<p>26605 rows × 5 columns</p>\n",
       "</div>"
      ],
      "text/plain": [
       "                            TimeStamp      Open      High       Low     Close\n",
       "0      2016-12-05T05:00:00.000000000Z  20.67144  20.67293  20.67102  20.67278\n",
       "1      2016-12-05T05:05:00.000000000Z  20.67281  20.67294  20.67174  20.67181\n",
       "2      2016-12-05T05:10:00.000000000Z  20.67181  20.67266  20.67116  20.67116\n",
       "3      2016-12-05T05:15:00.000000000Z  20.67117  20.67124  20.66986  20.67067\n",
       "4      2016-12-05T05:20:00.000000000Z  20.67046  20.67390  20.67046  20.67260\n",
       "...                               ...       ...       ...       ...       ...\n",
       "26600  2020-03-05T04:30:00.000000000Z  19.56006  19.56006  19.55768  19.55878\n",
       "26601  2020-03-05T04:35:00.000000000Z  19.55871  19.55882  19.55610  19.55662\n",
       "26602  2020-03-05T04:40:00.000000000Z  19.55677  19.56015  19.55662  19.55900\n",
       "26603  2020-03-05T04:45:00.000000000Z  19.55916  19.55916  19.55612  19.55650\n",
       "26604  2020-03-05T04:50:00.000000000Z  19.55656  19.56024  19.54713  19.54740\n",
       "\n",
       "[26605 rows x 5 columns]"
      ]
     },
     "execution_count": 642,
     "metadata": {},
     "output_type": "execute_result"
    }
   ],
   "source": [
    "pd_hist_data"
   ]
  },
  {
   "cell_type": "code",
   "execution_count": 643,
   "metadata": {},
   "outputs": [],
   "source": [
    "# Convertir a dataFrame\n",
    "pd_hist_data = pd.DataFrame(list_a) \n",
    "\n",
    "# Nombrar las columnas\n",
    "pd_hist_data = pd_hist_data[['TimeStamp', 'Open', 'High', 'Low', 'Close']]  \n",
    "\n",
    "#Convertir datos a tiempo\n",
    "pd_hist_data['TimeStamp'] = pd.to_datetime(pd_hist_data['TimeStamp'])\n",
    "\n",
    "#Convertir datos a numéricos\n",
    "pd_hist_data['Open'] = pd.to_numeric(pd_hist_data['Open'])  \n",
    "pd_hist_data['High'] = pd.to_numeric(pd_hist_data['High'])  \n",
    "pd_hist_data['Low'] = pd.to_numeric(pd_hist_data['Low'])  \n",
    "pd_hist_data['Close'] = pd.to_numeric(pd_hist_data['Close']) \n",
    "\n",
    "\n",
    "df_Precios = pd_hist_data  "
   ]
  },
  {
   "cell_type": "code",
   "execution_count": 644,
   "metadata": {},
   "outputs": [],
   "source": [
    "# Parámetros de inicio\n",
    "\n",
    "spot_price =  df_Precios['Close'][len(df_Precios) - 1]"
   ]
  },
  {
   "cell_type": "markdown",
   "metadata": {},
   "source": [
    "# Análisis técnico"
   ]
  },
  {
   "cell_type": "markdown",
   "metadata": {},
   "source": [
    "El análisis técnico es el estudio de los mercados financieros que se basa en datos, gráficas, patrones de precios y tendencias de las cotizaciones para poder elaborar una estrategia y llevarla a cabo por medio de traders, para obtener beneficios de los cambios en el mercado.\n",
    "Para ello, se hace uso de varios indicadores, de los cuales existen 4 principales clasificaciones:\n",
    "* Tendencia:\n",
    "Los indicadores de tendencia te indican en qué dirección se está moviendo el mercado y si -valga la redundancia- existe una tendencia. A veces se les llama osciladores porque suelen moverse entre valores altos y bajos como con ondas.\n",
    "\n",
    "* Momentum: \n",
    "Estos indicadores te ayudan a saber qué tan fuertes están siendo estas tendencias y si ocurrirá un movimiento contrario de la misma. Como por ejemplo, si está a la alza y probablemente vaya a bajar o vice-versa.\n",
    "\n",
    "* Volumen:\n",
    "Indicadores de volumen te indican cómo el volumen va cambiando a través del tiempo, indicando así qué tan fuerte o significativo es el cambio de precios y en qué cantidad afecta.\n",
    "\n",
    "* Volatilidad\n",
    "Los indicadores de volatilidad mencionan cuánto han cambiado los precios a través de un período dado. Mientras mayor sea la volatilidad, más rápido cambiarán los precios. "
   ]
  },
  {
   "cell_type": "markdown",
   "metadata": {},
   "source": [
    "# Indicadores "
   ]
  },
  {
   "cell_type": "markdown",
   "metadata": {},
   "source": [
    "## Bandas Bollinger"
   ]
  },
  {
   "cell_type": "markdown",
   "metadata": {},
   "source": [
    "La Bandas de Bollinger son parte de los indicadores de volatilidad. Consisten en dos bandas, una superior y una inferior, que rodean la línea de precios, junto con una línea en medio que indica el promedio de los mismos.\n",
    "Para interpretar este indicador, se pueden tomar en cuenta dos cosas, la primera, es el grosor o la distancia entre la banda superior y la banda inferior, mientras más corta sea la distancia, quiere decir que el mercado se encuentra tranquilo, y mientras más grande sea la distancia, quiere decir que el mercado se encuentra inquieto.\n",
    "Al momento de la toma de decisiones, lo otro que se debe de tomar en cuenta, es que cuando el precio toca o sobrepasa la banda superior, normalmente se espera que rebote y al menos regrese a la línea promedio, indicando una acción de venta, ya que se espera que el precio baje. En el caso de que el precio toque o rompa la banda inferior, igualmente se espera que rebote y suba a la banda promedio, por lo que indicaría una acción de compra, ya que se espera que el precio suba."
   ]
  },
  {
   "cell_type": "code",
   "execution_count": 646,
   "metadata": {},
   "outputs": [],
   "source": [
    "# Variable del indicador \n",
    "indicator_bb = ta.volatility.BollingerBands(df_Precios['Close'], n=20, ndev=2)\n",
    "\n",
    "# Banda promedio\n",
    "df_Precios['bb_mavg'] = indicator_bb.bollinger_mavg()\n",
    "\n",
    "# Banda superior\n",
    "df_Precios['bb_bbh'] = indicator_bb.bollinger_hband()\n",
    "\n",
    "# Banda inferior\n",
    "df_Precios['bb_bbl'] = indicator_bb.bollinger_lband()"
   ]
  },
  {
   "cell_type": "markdown",
   "metadata": {},
   "source": [
    "DataFrame con los datos importantes incluyendo el indicador mencionado anteriormente"
   ]
  },
  {
   "cell_type": "code",
   "execution_count": 648,
   "metadata": {},
   "outputs": [
    {
     "data": {
      "text/html": [
       "<div>\n",
       "<style scoped>\n",
       "    .dataframe tbody tr th:only-of-type {\n",
       "        vertical-align: middle;\n",
       "    }\n",
       "\n",
       "    .dataframe tbody tr th {\n",
       "        vertical-align: top;\n",
       "    }\n",
       "\n",
       "    .dataframe thead th {\n",
       "        text-align: right;\n",
       "    }\n",
       "</style>\n",
       "<table border=\"1\" class=\"dataframe\">\n",
       "  <thead>\n",
       "    <tr style=\"text-align: right;\">\n",
       "      <th></th>\n",
       "      <th>TimeStamp</th>\n",
       "      <th>Open</th>\n",
       "      <th>High</th>\n",
       "      <th>Low</th>\n",
       "      <th>Close</th>\n",
       "      <th>bb_mavg</th>\n",
       "      <th>bb_bbh</th>\n",
       "      <th>bb_bbl</th>\n",
       "    </tr>\n",
       "  </thead>\n",
       "  <tbody>\n",
       "    <tr>\n",
       "      <th>26600</th>\n",
       "      <td>2020-03-05 04:30:00+00:00</td>\n",
       "      <td>19.56006</td>\n",
       "      <td>19.56006</td>\n",
       "      <td>19.55768</td>\n",
       "      <td>19.55878</td>\n",
       "      <td>19.554382</td>\n",
       "      <td>19.566923</td>\n",
       "      <td>19.541841</td>\n",
       "    </tr>\n",
       "    <tr>\n",
       "      <th>26601</th>\n",
       "      <td>2020-03-05 04:35:00+00:00</td>\n",
       "      <td>19.55871</td>\n",
       "      <td>19.55882</td>\n",
       "      <td>19.55610</td>\n",
       "      <td>19.55662</td>\n",
       "      <td>19.555139</td>\n",
       "      <td>19.566214</td>\n",
       "      <td>19.544065</td>\n",
       "    </tr>\n",
       "    <tr>\n",
       "      <th>26602</th>\n",
       "      <td>2020-03-05 04:40:00+00:00</td>\n",
       "      <td>19.55677</td>\n",
       "      <td>19.56015</td>\n",
       "      <td>19.55662</td>\n",
       "      <td>19.55900</td>\n",
       "      <td>19.555931</td>\n",
       "      <td>19.565648</td>\n",
       "      <td>19.546215</td>\n",
       "    </tr>\n",
       "    <tr>\n",
       "      <th>26603</th>\n",
       "      <td>2020-03-05 04:45:00+00:00</td>\n",
       "      <td>19.55916</td>\n",
       "      <td>19.55916</td>\n",
       "      <td>19.55612</td>\n",
       "      <td>19.55650</td>\n",
       "      <td>19.556448</td>\n",
       "      <td>19.565069</td>\n",
       "      <td>19.547828</td>\n",
       "    </tr>\n",
       "    <tr>\n",
       "      <th>26604</th>\n",
       "      <td>2020-03-05 04:50:00+00:00</td>\n",
       "      <td>19.55656</td>\n",
       "      <td>19.56024</td>\n",
       "      <td>19.54713</td>\n",
       "      <td>19.54740</td>\n",
       "      <td>19.556184</td>\n",
       "      <td>19.565542</td>\n",
       "      <td>19.546826</td>\n",
       "    </tr>\n",
       "  </tbody>\n",
       "</table>\n",
       "</div>"
      ],
      "text/plain": [
       "                      TimeStamp      Open      High       Low     Close  \\\n",
       "26600 2020-03-05 04:30:00+00:00  19.56006  19.56006  19.55768  19.55878   \n",
       "26601 2020-03-05 04:35:00+00:00  19.55871  19.55882  19.55610  19.55662   \n",
       "26602 2020-03-05 04:40:00+00:00  19.55677  19.56015  19.55662  19.55900   \n",
       "26603 2020-03-05 04:45:00+00:00  19.55916  19.55916  19.55612  19.55650   \n",
       "26604 2020-03-05 04:50:00+00:00  19.55656  19.56024  19.54713  19.54740   \n",
       "\n",
       "         bb_mavg     bb_bbh     bb_bbl  \n",
       "26600  19.554382  19.566923  19.541841  \n",
       "26601  19.555139  19.566214  19.544065  \n",
       "26602  19.555931  19.565648  19.546215  \n",
       "26603  19.556448  19.565069  19.547828  \n",
       "26604  19.556184  19.565542  19.546826  "
      ]
     },
     "execution_count": 648,
     "metadata": {},
     "output_type": "execute_result"
    }
   ],
   "source": [
    "# Visualización de los últimos 5 precios\n",
    "df_Precios.tail(5)"
   ]
  },
  {
   "cell_type": "code",
   "execution_count": 649,
   "metadata": {},
   "outputs": [
    {
     "name": "stdout",
     "output_type": "stream",
     "text": [
      "sin movimientos\n"
     ]
    }
   ],
   "source": [
    "# Toma de decisiones\n",
    "\n",
    "if df_Precios['Close'].iloc[-1] > df_Precios['bb_bbh'].iloc[-1]:\n",
    "    print('sell')\n",
    "elif df_Precios['Close'].iloc[-1] == df_Precios['bb_bbh'].iloc[-1]:\n",
    "    print('sell')\n",
    "elif df_Precios['Close'].iloc[-1] < df_Precios['bb_bbl'].iloc[-1]:\n",
    "    print('buy')\n",
    "elif df_Precios['Close'].iloc[-1] == df_Precios['bb_bbl'].iloc[-1]:\n",
    "    print('buy')\n",
    "else:\n",
    "    print('sin movimientos')"
   ]
  },
  {
   "cell_type": "code",
   "execution_count": 650,
   "metadata": {},
   "outputs": [
    {
     "data": {
      "text/plain": [
       "19.5474"
      ]
     },
     "execution_count": 650,
     "metadata": {},
     "output_type": "execute_result"
    }
   ],
   "source": [
    "df_Precios['Close'].iloc[-1]"
   ]
  },
  {
   "cell_type": "markdown",
   "metadata": {},
   "source": [
    "### Gráfica de todo el historial de valores"
   ]
  },
  {
   "cell_type": "code",
   "execution_count": 661,
   "metadata": {},
   "outputs": [
    {
     "data": {
      "image/png": "[encoded data removed]",
      "text/plain": [
       "<Figure size 432x288 with 1 Axes>"
      ]
     },
     "metadata": {
      "needs_background": "light"
     },
     "output_type": "display_data"
    }
   ],
   "source": [
    "plt.plot(list(df_Precios['Close']), c= 'red')\n",
    "plt.plot(list(df_Precios['bb_bbl']), c= 'purple')\n",
    "plt.plot(list(df_Precios['bb_mavg']), c= 'violet')\n",
    "plt.plot(list(df_Precios['bb_bbh']), c= 'pink')\n",
    "plt.show()"
   ]
  },
  {
   "cell_type": "code",
   "execution_count": 662,
   "metadata": {},
   "outputs": [
    {
     "data": {
      "text/plain": [
       "26455    19.51800\n",
       "26456    19.51982\n",
       "26457    19.54905\n",
       "26458    19.58306\n",
       "26459    19.59885\n",
       "           ...   \n",
       "26599    19.56006\n",
       "26600    19.55878\n",
       "26601    19.55662\n",
       "26602    19.55900\n",
       "26603    19.55650\n",
       "Name: Close, Length: 149, dtype: float64"
      ]
     },
     "execution_count": 662,
     "metadata": {},
     "output_type": "execute_result"
    }
   ],
   "source": [
    "df_Precios['Close'].iloc[-150:-1]"
   ]
  },
  {
   "cell_type": "markdown",
   "metadata": {},
   "source": [
    "### Gráfica de los últimos 150 valores"
   ]
  },
  {
   "cell_type": "code",
   "execution_count": 663,
   "metadata": {},
   "outputs": [
    {
     "data": {
      "image/png": "[encoded data removed]",
      "text/plain": [
       "<Figure size 432x288 with 1 Axes>"
      ]
     },
     "metadata": {
      "needs_background": "light"
     },
     "output_type": "display_data"
    }
   ],
   "source": [
    "plt.plot(df_Precios['Close'].iloc[-150:-1], color = 'red')\n",
    "plt.plot(df_Precios['bb_bbl'].iloc[-150:-1], color = 'purple')\n",
    "plt.plot(df_Precios['bb_mavg'].iloc[-150:-1], color = 'violet')\n",
    "plt.plot(df_Precios['bb_bbh'].iloc[-150:-1], color = 'pink')\n",
    "plt.title('Bandas de Bollinger e historial de Close prices')\n",
    "plt.xlabel('')\n",
    "plt.ylabel('Precios')\n",
    "plt.show()"
   ]
  },
  {
   "cell_type": "markdown",
   "metadata": {},
   "source": [
    "## Oscilador Estocástico"
   ]
  },
  {
   "cell_type": "markdown",
   "metadata": {},
   "source": [
    "El indicador estocástico es un indicador momentum, puede ser usado para saber cuando la tendencia podría acabar.\n",
    "Este indicador ayuda a escoger en qué punto entrar y ya sea comprar, o vender. En este caso los parámetros son otros, cuando el indicador se encuentra usualmente arriba de 80 indica que el mercado tiene sobrecompra, lo que sugiere que los precios bajarán o tendrán una tendencia bajista, por el contrio, cuando las líneas del indicador son menores a 20 indican que el mercado está sobrevendido, lo que sugeriría que los precios subirían o que habría una tendencia alcista."
   ]
  },
  {
   "cell_type": "code",
   "execution_count": 664,
   "metadata": {},
   "outputs": [],
   "source": [
    "# Variable del indicador \n",
    "indicator_stoch = ta.momentum.StochasticOscillator(df_Precios['High'], df_Precios['Low'], df_Precios['Close'], 14, 3, False)\n",
    "\n",
    "df_Precios['stoch_close'] = indicator_stoch.stoch()\n",
    "df_Precios['stoch_signal'] = indicator_stoch.stoch_signal()"
   ]
  },
  {
   "cell_type": "markdown",
   "metadata": {},
   "source": [
    "DataFrame con los datos importantes incluyendo el indicador mencionado anteriormente"
   ]
  },
  {
   "cell_type": "code",
   "execution_count": 665,
   "metadata": {},
   "outputs": [
    {
     "data": {
      "text/html": [
       "<div>\n",
       "<style scoped>\n",
       "    .dataframe tbody tr th:only-of-type {\n",
       "        vertical-align: middle;\n",
       "    }\n",
       "\n",
       "    .dataframe tbody tr th {\n",
       "        vertical-align: top;\n",
       "    }\n",
       "\n",
       "    .dataframe thead th {\n",
       "        text-align: right;\n",
       "    }\n",
       "</style>\n",
       "<table border=\"1\" class=\"dataframe\">\n",
       "  <thead>\n",
       "    <tr style=\"text-align: right;\">\n",
       "      <th></th>\n",
       "      <th>TimeStamp</th>\n",
       "      <th>Open</th>\n",
       "      <th>High</th>\n",
       "      <th>Low</th>\n",
       "      <th>Close</th>\n",
       "      <th>bb_mavg</th>\n",
       "      <th>bb_bbh</th>\n",
       "      <th>bb_bbl</th>\n",
       "      <th>rsi_close</th>\n",
       "      <th>stoch_close</th>\n",
       "      <th>stoch_signal</th>\n",
       "    </tr>\n",
       "  </thead>\n",
       "  <tbody>\n",
       "    <tr>\n",
       "      <th>26600</th>\n",
       "      <td>2020-03-05 04:30:00+00:00</td>\n",
       "      <td>19.56006</td>\n",
       "      <td>19.56006</td>\n",
       "      <td>19.55768</td>\n",
       "      <td>19.55878</td>\n",
       "      <td>19.554382</td>\n",
       "      <td>19.566923</td>\n",
       "      <td>19.541841</td>\n",
       "      <td>54.956976</td>\n",
       "      <td>58.505408</td>\n",
       "      <td>62.831858</td>\n",
       "    </tr>\n",
       "    <tr>\n",
       "      <th>26601</th>\n",
       "      <td>2020-03-05 04:35:00+00:00</td>\n",
       "      <td>19.55871</td>\n",
       "      <td>19.55882</td>\n",
       "      <td>19.55610</td>\n",
       "      <td>19.55662</td>\n",
       "      <td>19.555139</td>\n",
       "      <td>19.566214</td>\n",
       "      <td>19.544065</td>\n",
       "      <td>54.495147</td>\n",
       "      <td>47.316103</td>\n",
       "      <td>56.873313</td>\n",
       "    </tr>\n",
       "    <tr>\n",
       "      <th>26602</th>\n",
       "      <td>2020-03-05 04:40:00+00:00</td>\n",
       "      <td>19.55677</td>\n",
       "      <td>19.56015</td>\n",
       "      <td>19.55662</td>\n",
       "      <td>19.55900</td>\n",
       "      <td>19.555931</td>\n",
       "      <td>19.565648</td>\n",
       "      <td>19.546215</td>\n",
       "      <td>54.920899</td>\n",
       "      <td>57.120501</td>\n",
       "      <td>54.314004</td>\n",
       "    </tr>\n",
       "    <tr>\n",
       "      <th>26603</th>\n",
       "      <td>2020-03-05 04:45:00+00:00</td>\n",
       "      <td>19.55916</td>\n",
       "      <td>19.55916</td>\n",
       "      <td>19.55612</td>\n",
       "      <td>19.55650</td>\n",
       "      <td>19.556448</td>\n",
       "      <td>19.565069</td>\n",
       "      <td>19.547828</td>\n",
       "      <td>54.375810</td>\n",
       "      <td>44.079291</td>\n",
       "      <td>49.505298</td>\n",
       "    </tr>\n",
       "    <tr>\n",
       "      <th>26604</th>\n",
       "      <td>2020-03-05 04:50:00+00:00</td>\n",
       "      <td>19.55656</td>\n",
       "      <td>19.56024</td>\n",
       "      <td>19.54713</td>\n",
       "      <td>19.54740</td>\n",
       "      <td>19.556184</td>\n",
       "      <td>19.565542</td>\n",
       "      <td>19.546826</td>\n",
       "      <td>52.443300</td>\n",
       "      <td>1.343952</td>\n",
       "      <td>34.181248</td>\n",
       "    </tr>\n",
       "  </tbody>\n",
       "</table>\n",
       "</div>"
      ],
      "text/plain": [
       "                      TimeStamp      Open      High       Low     Close  \\\n",
       "26600 2020-03-05 04:30:00+00:00  19.56006  19.56006  19.55768  19.55878   \n",
       "26601 2020-03-05 04:35:00+00:00  19.55871  19.55882  19.55610  19.55662   \n",
       "26602 2020-03-05 04:40:00+00:00  19.55677  19.56015  19.55662  19.55900   \n",
       "26603 2020-03-05 04:45:00+00:00  19.55916  19.55916  19.55612  19.55650   \n",
       "26604 2020-03-05 04:50:00+00:00  19.55656  19.56024  19.54713  19.54740   \n",
       "\n",
       "         bb_mavg     bb_bbh     bb_bbl  rsi_close  stoch_close  stoch_signal  \n",
       "26600  19.554382  19.566923  19.541841  54.956976    58.505408     62.831858  \n",
       "26601  19.555139  19.566214  19.544065  54.495147    47.316103     56.873313  \n",
       "26602  19.555931  19.565648  19.546215  54.920899    57.120501     54.314004  \n",
       "26603  19.556448  19.565069  19.547828  54.375810    44.079291     49.505298  \n",
       "26604  19.556184  19.565542  19.546826  52.443300     1.343952     34.181248  "
      ]
     },
     "execution_count": 665,
     "metadata": {},
     "output_type": "execute_result"
    }
   ],
   "source": [
    "df_Precios.tail(5)"
   ]
  },
  {
   "cell_type": "code",
   "execution_count": 666,
   "metadata": {},
   "outputs": [],
   "source": [
    "# Parámetros\n",
    "\n",
    "stoch_up = 80\n",
    "stoch_down = 20\n",
    "\n",
    "stoch_level = df_Precios['stoch_close'][len(df_Precios) -1]"
   ]
  },
  {
   "cell_type": "code",
   "execution_count": 668,
   "metadata": {},
   "outputs": [
    {
     "data": {
      "text/plain": [
       "1.3439522150343086"
      ]
     },
     "execution_count": 668,
     "metadata": {},
     "output_type": "execute_result"
    }
   ],
   "source": [
    "stoch_level"
   ]
  },
  {
   "cell_type": "code",
   "execution_count": 667,
   "metadata": {},
   "outputs": [
    {
     "name": "stdout",
     "output_type": "stream",
     "text": [
      "buy\n"
     ]
    }
   ],
   "source": [
    "# Toma de decisiones\n",
    "\n",
    "if stoch_level > stoch_up:\n",
    "    print('sell')\n",
    "elif stoch_level == stoch_up:\n",
    "    print('sell')\n",
    "elif stoch_level < stoch_down:\n",
    "    print('buy')\n",
    "elif stoch_level == stoch_down:\n",
    "    print('buy')\n",
    "else:\n",
    "    print('sin movimientos')"
   ]
  },
  {
   "cell_type": "markdown",
   "metadata": {},
   "source": [
    "### Gráfica de todo el historial de valores"
   ]
  },
  {
   "cell_type": "code",
   "execution_count": 676,
   "metadata": {},
   "outputs": [
    {
     "data": {
      "image/png": "[encoded data removed]",
      "text/plain": [
       "<Figure size 432x288 with 1 Axes>"
      ]
     },
     "metadata": {
      "needs_background": "light"
     },
     "output_type": "display_data"
    }
   ],
   "source": [
    "plt.plot(list(df_Precios['stoch_signal']), c= 'pink')\n",
    "plt.title('Valores del Oscilador Estocástico')\n",
    "plt.xlabel('')\n",
    "plt.ylabel('Oscilador Estocástico (0-100)')\n",
    "plt.show()"
   ]
  },
  {
   "cell_type": "code",
   "execution_count": 677,
   "metadata": {},
   "outputs": [
    {
     "data": {
      "text/plain": [
       "26455    83.837288\n",
       "26456    83.573135\n",
       "26457    87.074429\n",
       "26458    91.706249\n",
       "26459    93.619601\n",
       "           ...    \n",
       "26599    72.662757\n",
       "26600    62.831858\n",
       "26601    56.873313\n",
       "26602    54.314004\n",
       "26603    49.505298\n",
       "Name: stoch_signal, Length: 149, dtype: float64"
      ]
     },
     "execution_count": 677,
     "metadata": {},
     "output_type": "execute_result"
    }
   ],
   "source": [
    "df_Precios['stoch_signal'].iloc[-150:-1]"
   ]
  },
  {
   "cell_type": "markdown",
   "metadata": {},
   "source": [
    "### Gráfica de los últimos 150 valores"
   ]
  },
  {
   "cell_type": "code",
   "execution_count": 678,
   "metadata": {},
   "outputs": [
    {
     "data": {
      "image/png": "[encoded data removed]",
      "text/plain": [
       "<Figure size 432x288 with 1 Axes>"
      ]
     },
     "metadata": {
      "needs_background": "light"
     },
     "output_type": "display_data"
    }
   ],
   "source": [
    "plt.plot(df_Precios['stoch_signal'].iloc[-150:-1], c= 'pink')\n",
    "plt.title('Valores del Oscilador Estocástico de los últimos 150 valores')\n",
    "plt.xlabel('')\n",
    "plt.ylabel('Oscilador Estocástico (0-100)')\n",
    "plt.show()"
   ]
  },
  {
   "cell_type": "markdown",
   "metadata": {},
   "source": [
    "## Índice de Fuerza Relativa (RSI)"
   ]
  },
  {
   "cell_type": "markdown",
   "metadata": {},
   "source": [
    "El indicador de índice de Fuerza Relativa, RSI por sus siglas en inglés (Relative Strength Index) es un indicador momentum. \n",
    "El cual indica en un rango del 0 al 100 si, en este caso la divisa esta sobrevendida o sobrecomprada. \n",
    "Usualmente cuando el valor de este índice sobrepasa los 70 indica un mercado de sobrecompra, lo que se interpretaría diciendo que es probable que en un período relativamente corto, los precios de la divisa bajarán. \n",
    "Sucede lo contrario cuando el indicador está por debajo de 30, lo que indica que existe un mercado de sobreventa, por lo que es conveniente comprar ya que se espera que suban los precios."
   ]
  },
  {
   "cell_type": "code",
   "execution_count": 679,
   "metadata": {},
   "outputs": [],
   "source": [
    "# Variable del indicador \n",
    "indicator_rsi= ta.momentum.rsi(df_Precios['Close'], 51)\n",
    "df_Precios['rsi_close'] = ta.momentum.rsi(df_Precios['Close'],51)"
   ]
  },
  {
   "cell_type": "markdown",
   "metadata": {},
   "source": [
    "DataFrame con los datos importantes incluyendo el indicador mencionado anteriormente"
   ]
  },
  {
   "cell_type": "code",
   "execution_count": 680,
   "metadata": {},
   "outputs": [
    {
     "data": {
      "text/html": [
       "<div>\n",
       "<style scoped>\n",
       "    .dataframe tbody tr th:only-of-type {\n",
       "        vertical-align: middle;\n",
       "    }\n",
       "\n",
       "    .dataframe tbody tr th {\n",
       "        vertical-align: top;\n",
       "    }\n",
       "\n",
       "    .dataframe thead th {\n",
       "        text-align: right;\n",
       "    }\n",
       "</style>\n",
       "<table border=\"1\" class=\"dataframe\">\n",
       "  <thead>\n",
       "    <tr style=\"text-align: right;\">\n",
       "      <th></th>\n",
       "      <th>TimeStamp</th>\n",
       "      <th>Open</th>\n",
       "      <th>High</th>\n",
       "      <th>Low</th>\n",
       "      <th>Close</th>\n",
       "      <th>bb_mavg</th>\n",
       "      <th>bb_bbh</th>\n",
       "      <th>bb_bbl</th>\n",
       "      <th>rsi_close</th>\n",
       "      <th>stoch_close</th>\n",
       "      <th>stoch_signal</th>\n",
       "    </tr>\n",
       "  </thead>\n",
       "  <tbody>\n",
       "    <tr>\n",
       "      <th>26600</th>\n",
       "      <td>2020-03-05 04:30:00+00:00</td>\n",
       "      <td>19.56006</td>\n",
       "      <td>19.56006</td>\n",
       "      <td>19.55768</td>\n",
       "      <td>19.55878</td>\n",
       "      <td>19.554382</td>\n",
       "      <td>19.566923</td>\n",
       "      <td>19.541841</td>\n",
       "      <td>54.956976</td>\n",
       "      <td>58.505408</td>\n",
       "      <td>62.831858</td>\n",
       "    </tr>\n",
       "    <tr>\n",
       "      <th>26601</th>\n",
       "      <td>2020-03-05 04:35:00+00:00</td>\n",
       "      <td>19.55871</td>\n",
       "      <td>19.55882</td>\n",
       "      <td>19.55610</td>\n",
       "      <td>19.55662</td>\n",
       "      <td>19.555139</td>\n",
       "      <td>19.566214</td>\n",
       "      <td>19.544065</td>\n",
       "      <td>54.495147</td>\n",
       "      <td>47.316103</td>\n",
       "      <td>56.873313</td>\n",
       "    </tr>\n",
       "    <tr>\n",
       "      <th>26602</th>\n",
       "      <td>2020-03-05 04:40:00+00:00</td>\n",
       "      <td>19.55677</td>\n",
       "      <td>19.56015</td>\n",
       "      <td>19.55662</td>\n",
       "      <td>19.55900</td>\n",
       "      <td>19.555931</td>\n",
       "      <td>19.565648</td>\n",
       "      <td>19.546215</td>\n",
       "      <td>54.920899</td>\n",
       "      <td>57.120501</td>\n",
       "      <td>54.314004</td>\n",
       "    </tr>\n",
       "    <tr>\n",
       "      <th>26603</th>\n",
       "      <td>2020-03-05 04:45:00+00:00</td>\n",
       "      <td>19.55916</td>\n",
       "      <td>19.55916</td>\n",
       "      <td>19.55612</td>\n",
       "      <td>19.55650</td>\n",
       "      <td>19.556448</td>\n",
       "      <td>19.565069</td>\n",
       "      <td>19.547828</td>\n",
       "      <td>54.375810</td>\n",
       "      <td>44.079291</td>\n",
       "      <td>49.505298</td>\n",
       "    </tr>\n",
       "    <tr>\n",
       "      <th>26604</th>\n",
       "      <td>2020-03-05 04:50:00+00:00</td>\n",
       "      <td>19.55656</td>\n",
       "      <td>19.56024</td>\n",
       "      <td>19.54713</td>\n",
       "      <td>19.54740</td>\n",
       "      <td>19.556184</td>\n",
       "      <td>19.565542</td>\n",
       "      <td>19.546826</td>\n",
       "      <td>52.443300</td>\n",
       "      <td>1.343952</td>\n",
       "      <td>34.181248</td>\n",
       "    </tr>\n",
       "  </tbody>\n",
       "</table>\n",
       "</div>"
      ],
      "text/plain": [
       "                      TimeStamp      Open      High       Low     Close  \\\n",
       "26600 2020-03-05 04:30:00+00:00  19.56006  19.56006  19.55768  19.55878   \n",
       "26601 2020-03-05 04:35:00+00:00  19.55871  19.55882  19.55610  19.55662   \n",
       "26602 2020-03-05 04:40:00+00:00  19.55677  19.56015  19.55662  19.55900   \n",
       "26603 2020-03-05 04:45:00+00:00  19.55916  19.55916  19.55612  19.55650   \n",
       "26604 2020-03-05 04:50:00+00:00  19.55656  19.56024  19.54713  19.54740   \n",
       "\n",
       "         bb_mavg     bb_bbh     bb_bbl  rsi_close  stoch_close  stoch_signal  \n",
       "26600  19.554382  19.566923  19.541841  54.956976    58.505408     62.831858  \n",
       "26601  19.555139  19.566214  19.544065  54.495147    47.316103     56.873313  \n",
       "26602  19.555931  19.565648  19.546215  54.920899    57.120501     54.314004  \n",
       "26603  19.556448  19.565069  19.547828  54.375810    44.079291     49.505298  \n",
       "26604  19.556184  19.565542  19.546826  52.443300     1.343952     34.181248  "
      ]
     },
     "execution_count": 680,
     "metadata": {},
     "output_type": "execute_result"
    }
   ],
   "source": [
    "df_Precios.tail(5)"
   ]
  },
  {
   "cell_type": "code",
   "execution_count": 682,
   "metadata": {},
   "outputs": [],
   "source": [
    "# Parámetros\n",
    "\n",
    "rsi_up = 70\n",
    "rsi_down = 30\n",
    "\n",
    "rsi_level = df_Precios['rsi_close'][len(df_Precios) - 1]"
   ]
  },
  {
   "cell_type": "code",
   "execution_count": 683,
   "metadata": {},
   "outputs": [
    {
     "name": "stdout",
     "output_type": "stream",
     "text": [
      "sin movimientos\n"
     ]
    }
   ],
   "source": [
    "if rsi_level > rsi_up: \n",
    "    print('sell')\n",
    "elif rsi_level == rsi_up:\n",
    "    print('sell')\n",
    "elif rsi_level < rsi_down: \n",
    "    print('buy')\n",
    "elif rsi_level == rsi_down:\n",
    "    print('buy')\n",
    "else:\n",
    "    print('sin movimientos')"
   ]
  },
  {
   "cell_type": "markdown",
   "metadata": {},
   "source": [
    "### Gráfica de todo el historial de valores"
   ]
  },
  {
   "cell_type": "code",
   "execution_count": 684,
   "metadata": {},
   "outputs": [
    {
     "data": {
      "image/png": "[encoded data removed]",
      "text/plain": [
       "<Figure size 432x288 with 1 Axes>"
      ]
     },
     "metadata": {
      "needs_background": "light"
     },
     "output_type": "display_data"
    }
   ],
   "source": [
    "plt.plot(list(df_Precios['rsi_close']), c= 'pink')\n",
    "plt.title('Valores del Índice de Fuerza Relativa')\n",
    "plt.xlabel('')\n",
    "plt.ylabel('Relative Strength Index (0-100)')\n",
    "plt.show()"
   ]
  },
  {
   "cell_type": "code",
   "execution_count": 685,
   "metadata": {},
   "outputs": [
    {
     "data": {
      "text/plain": [
       "26455    62.297085\n",
       "26456    62.407759\n",
       "26457    64.132517\n",
       "26458    65.984694\n",
       "26459    66.796662\n",
       "           ...    \n",
       "26599    55.228898\n",
       "26600    54.956976\n",
       "26601    54.495147\n",
       "26602    54.920899\n",
       "26603    54.375810\n",
       "Name: rsi_close, Length: 149, dtype: float64"
      ]
     },
     "execution_count": 685,
     "metadata": {},
     "output_type": "execute_result"
    }
   ],
   "source": [
    "df_Precios['rsi_close'].iloc[-150:-1]"
   ]
  },
  {
   "cell_type": "markdown",
   "metadata": {},
   "source": [
    "### Gráfica de los últimos 150 valores"
   ]
  },
  {
   "cell_type": "code",
   "execution_count": 686,
   "metadata": {},
   "outputs": [
    {
     "data": {
      "image/png": "[encoded data removed]",
      "text/plain": [
       "<Figure size 432x288 with 1 Axes>"
      ]
     },
     "metadata": {
      "needs_background": "light"
     },
     "output_type": "display_data"
    }
   ],
   "source": [
    "plt.plot(df_Precios['rsi_close'].iloc[-150:-1], c= 'pink')\n",
    "plt.title('Valores del Índice de Fuerza Relativa')\n",
    "plt.xlabel('')\n",
    "plt.ylabel('Relative Strength Index (0-100)')\n",
    "plt.show()"
   ]
  },
  {
   "cell_type": "code",
   "execution_count": 373,
   "metadata": {},
   "outputs": [],
   "source": []
  },
  {
   "cell_type": "code",
   "execution_count": null,
   "metadata": {},
   "outputs": [],
   "source": []
  },
  {
   "cell_type": "code",
   "execution_count": null,
   "metadata": {},
   "outputs": [],
   "source": []
  }
 ],
 "metadata": {
  "kernelspec": {
   "display_name": "Python 3",
   "language": "python",
   "name": "python3"
  },
  "language_info": {
   "codemirror_mode": {
    "name": "ipython",
    "version": 3
   },
   "file_extension": ".py",
   "mimetype": "text/x-python",
   "name": "python",
   "nbconvert_exporter": "python",
   "pygments_lexer": "ipython3",
   "version": "3.6.8"
  }
 },
 "nbformat": 4,
 "nbformat_minor": 4
}
