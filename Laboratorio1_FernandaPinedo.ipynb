{
 "cells": [
  {
   "cell_type": "markdown",
   "metadata": {},
   "source": [
    "<img src=\"http://oci02.img.iteso.mx/identidad_de_instancia_2018/ITESO/Logos%20ITESO/Logo-ITESO-Principal.jpg\">"
   ]
  },
  {
   "cell_type": "markdown",
   "metadata": {},
   "source": [
    "<center> <font color= #004A94> <font size = 6> Lic. Ingeniería Financiera </font> <br> <br> <font color= #047CFB> <font size = 4>I.F. María Fernanda Pinedo Talango - if705971@iteso.mx </font>"
   ]
  },
  {
   "cell_type": "markdown",
   "metadata": {},
   "source": [
    "<center><font color= #004A94> <font size = 6> Microestructura y Sistemas de Trading </font> <br> <br>"
   ]
  },
  {
   "cell_type": "markdown",
   "metadata": {},
   "source": [
    "<center><font color=#42c29b><font size=5> Laboratorio 1: Trading manual </font> <br> <br>"
   ]
  },
  {
   "cell_type": "markdown",
   "metadata": {},
   "source": [
    "<center> <font color= #047CFB> <font size = 4> Primavera 2020 </font>  |  <font color= #047CFB> <font size = 4> Repositorio: <a href='https://github.com/'>https://github.com/ferpinedot/LAB_1_MFPT</a></font>"
   ]
  },
  {
   "cell_type": "code",
   "execution_count": 12,
   "metadata": {},
   "outputs": [],
   "source": [
    "from oandapyV20 import API\n",
    "import ta as ta\n",
    "import pandas as pd\n",
    "from datetime import date, timedelta\n",
    "from dateutil.relativedelta import relativedelta\n",
    "import oandapyV20.endpoints.instruments as instruments\n",
    "import matplotlib.pyplot as plt"
   ]
  },
  {
   "cell_type": "code",
   "execution_count": 13,
   "metadata": {},
   "outputs": [],
   "source": [
    "# Descarga de datos \n",
    "oanda_day_align = 16                       # Day Align\n",
    "oanda_timezone = \"America/Mexico_City\"    # Time Align\n",
    "oanda_id = '101-011-13246466-003'                       # Account Id\n",
    "oanda_type = \"practice\"               # Account type\n",
    "oanda_currency = \"USD_MXN\"                # Instrument\n",
    "oanda_gran = \"M5\"                     # Granularity of veils (Minutes 5)\n",
    "\n",
    "# Token for OANDA\n",
    "OA_Ak = '53e30fadde18a9b9153879673228a860-5577569e0db89960b0e4e5ad8e0b761d'\n",
    "\n",
    "api = API(access_token=OA_Ak)\n",
    "\n",
    "\n",
    "F_inicio = '2020-02-29'\n",
    "F_final = '2020-03-11'\n",
    "\n",
    "params = {\"granularity\": oanda_gran, \"price\": \"M\", \"dailyAlignment\": oanda_day_align,\n",
    "          \"alignmentTimezone\": oanda_timezone, \"from\": F_inicio, \"to\": F_final}\n",
    "\n",
    "OA_Req = instruments.InstrumentsCandles(instrument = oanda_currency, params=params)\n",
    "OA_Hist = api.request(OA_Req)"
   ]
  },
  {
   "cell_type": "code",
   "execution_count": 15,
   "metadata": {},
   "outputs": [],
   "source": [
    "list_a = []\n",
    "for i in range(len(OA_Hist['candles'])-1):\n",
    "        list_a.append({'TimeStamp': OA_Hist['candles'][i]['time'],\n",
    "                       'Open': OA_Hist['candles'][i]['mid']['o'],\n",
    "                       'High': OA_Hist['candles'][i]['mid']['h'],\n",
    "                       'Low': OA_Hist['candles'][i]['mid']['l'],\n",
    "                       'Close': OA_Hist['candles'][i]['mid']['c']})"
   ]
  },
  {
   "cell_type": "code",
   "execution_count": 16,
   "metadata": {},
   "outputs": [],
   "source": [
    "# Convierte los datos a dataframe\n",
    "pd_hist_data = pd.DataFrame(list_a) "
   ]
  },
  {
   "cell_type": "code",
   "execution_count": 17,
   "metadata": {},
   "outputs": [
    {
     "data": {
      "text/html": [
       "<div>\n",
       "<style scoped>\n",
       "    .dataframe tbody tr th:only-of-type {\n",
       "        vertical-align: middle;\n",
       "    }\n",
       "\n",
       "    .dataframe tbody tr th {\n",
       "        vertical-align: top;\n",
       "    }\n",
       "\n",
       "    .dataframe thead th {\n",
       "        text-align: right;\n",
       "    }\n",
       "</style>\n",
       "<table border=\"1\" class=\"dataframe\">\n",
       "  <thead>\n",
       "    <tr style=\"text-align: right;\">\n",
       "      <th></th>\n",
       "      <th>TimeStamp</th>\n",
       "      <th>Open</th>\n",
       "      <th>High</th>\n",
       "      <th>Low</th>\n",
       "      <th>Close</th>\n",
       "    </tr>\n",
       "  </thead>\n",
       "  <tbody>\n",
       "    <tr>\n",
       "      <th>0</th>\n",
       "      <td>2020-03-01T22:00:00.000000000Z</td>\n",
       "      <td>19.88188</td>\n",
       "      <td>19.88234</td>\n",
       "      <td>19.86352</td>\n",
       "      <td>19.86360</td>\n",
       "    </tr>\n",
       "    <tr>\n",
       "      <th>1</th>\n",
       "      <td>2020-03-01T22:05:00.000000000Z</td>\n",
       "      <td>19.86380</td>\n",
       "      <td>19.86430</td>\n",
       "      <td>19.84841</td>\n",
       "      <td>19.84896</td>\n",
       "    </tr>\n",
       "    <tr>\n",
       "      <th>2</th>\n",
       "      <td>2020-03-01T22:10:00.000000000Z</td>\n",
       "      <td>19.84935</td>\n",
       "      <td>19.85054</td>\n",
       "      <td>19.81418</td>\n",
       "      <td>19.81951</td>\n",
       "    </tr>\n",
       "    <tr>\n",
       "      <th>3</th>\n",
       "      <td>2020-03-01T22:15:00.000000000Z</td>\n",
       "      <td>19.81939</td>\n",
       "      <td>19.83108</td>\n",
       "      <td>19.81524</td>\n",
       "      <td>19.82874</td>\n",
       "    </tr>\n",
       "    <tr>\n",
       "      <th>4</th>\n",
       "      <td>2020-03-01T22:20:00.000000000Z</td>\n",
       "      <td>19.82777</td>\n",
       "      <td>19.82777</td>\n",
       "      <td>19.82330</td>\n",
       "      <td>19.82404</td>\n",
       "    </tr>\n",
       "    <tr>\n",
       "      <th>...</th>\n",
       "      <td>...</td>\n",
       "      <td>...</td>\n",
       "      <td>...</td>\n",
       "      <td>...</td>\n",
       "      <td>...</td>\n",
       "    </tr>\n",
       "    <tr>\n",
       "      <th>2094</th>\n",
       "      <td>2020-03-11T03:30:00.000000000Z</td>\n",
       "      <td>20.90006</td>\n",
       "      <td>20.90490</td>\n",
       "      <td>20.89106</td>\n",
       "      <td>20.89694</td>\n",
       "    </tr>\n",
       "    <tr>\n",
       "      <th>2095</th>\n",
       "      <td>2020-03-11T03:35:00.000000000Z</td>\n",
       "      <td>20.89694</td>\n",
       "      <td>20.91318</td>\n",
       "      <td>20.89692</td>\n",
       "      <td>20.91318</td>\n",
       "    </tr>\n",
       "    <tr>\n",
       "      <th>2096</th>\n",
       "      <td>2020-03-11T03:40:00.000000000Z</td>\n",
       "      <td>20.91319</td>\n",
       "      <td>20.91446</td>\n",
       "      <td>20.89646</td>\n",
       "      <td>20.89653</td>\n",
       "    </tr>\n",
       "    <tr>\n",
       "      <th>2097</th>\n",
       "      <td>2020-03-11T03:45:00.000000000Z</td>\n",
       "      <td>20.89652</td>\n",
       "      <td>20.90328</td>\n",
       "      <td>20.89409</td>\n",
       "      <td>20.89570</td>\n",
       "    </tr>\n",
       "    <tr>\n",
       "      <th>2098</th>\n",
       "      <td>2020-03-11T03:50:00.000000000Z</td>\n",
       "      <td>20.89568</td>\n",
       "      <td>20.90142</td>\n",
       "      <td>20.89562</td>\n",
       "      <td>20.89791</td>\n",
       "    </tr>\n",
       "  </tbody>\n",
       "</table>\n",
       "<p>2099 rows × 5 columns</p>\n",
       "</div>"
      ],
      "text/plain": [
       "                           TimeStamp      Open      High       Low     Close\n",
       "0     2020-03-01T22:00:00.000000000Z  19.88188  19.88234  19.86352  19.86360\n",
       "1     2020-03-01T22:05:00.000000000Z  19.86380  19.86430  19.84841  19.84896\n",
       "2     2020-03-01T22:10:00.000000000Z  19.84935  19.85054  19.81418  19.81951\n",
       "3     2020-03-01T22:15:00.000000000Z  19.81939  19.83108  19.81524  19.82874\n",
       "4     2020-03-01T22:20:00.000000000Z  19.82777  19.82777  19.82330  19.82404\n",
       "...                              ...       ...       ...       ...       ...\n",
       "2094  2020-03-11T03:30:00.000000000Z  20.90006  20.90490  20.89106  20.89694\n",
       "2095  2020-03-11T03:35:00.000000000Z  20.89694  20.91318  20.89692  20.91318\n",
       "2096  2020-03-11T03:40:00.000000000Z  20.91319  20.91446  20.89646  20.89653\n",
       "2097  2020-03-11T03:45:00.000000000Z  20.89652  20.90328  20.89409  20.89570\n",
       "2098  2020-03-11T03:50:00.000000000Z  20.89568  20.90142  20.89562  20.89791\n",
       "\n",
       "[2099 rows x 5 columns]"
      ]
     },
     "execution_count": 17,
     "metadata": {},
     "output_type": "execute_result"
    }
   ],
   "source": [
    "pd_hist_data"
   ]
  },
  {
   "cell_type": "code",
   "execution_count": 18,
   "metadata": {},
   "outputs": [],
   "source": [
    "# Convertir a dataFrame\n",
    "pd_hist_data = pd.DataFrame(list_a) \n",
    "\n",
    "# Nombrar las columnas\n",
    "pd_hist_data = pd_hist_data[['TimeStamp', 'Open', 'High', 'Low', 'Close']]  \n",
    "\n",
    "#Convertir datos a tiempo\n",
    "pd_hist_data['TimeStamp'] = pd.to_datetime(pd_hist_data['TimeStamp'])\n",
    "\n",
    "#Convertir datos a numéricos\n",
    "pd_hist_data['Open'] = pd.to_numeric(pd_hist_data['Open'])  \n",
    "pd_hist_data['High'] = pd.to_numeric(pd_hist_data['High'])  \n",
    "pd_hist_data['Low'] = pd.to_numeric(pd_hist_data['Low'])  \n",
    "pd_hist_data['Close'] = pd.to_numeric(pd_hist_data['Close']) \n",
    "\n",
    "\n",
    "df_Precios = pd_hist_data  "
   ]
  },
  {
   "cell_type": "code",
   "execution_count": 19,
   "metadata": {},
   "outputs": [],
   "source": [
    "# Parámetros de inicio\n",
    "\n",
    "spot_price =  df_Precios['Close'][len(df_Precios) - 1]"
   ]
  },
  {
   "cell_type": "markdown",
   "metadata": {},
   "source": [
    "# Análisis técnico"
   ]
  },
  {
   "cell_type": "markdown",
   "metadata": {},
   "source": [
    "El análisis técnico es el estudio de los mercados financieros que se basa en datos, gráficas, patrones de precios y tendencias de las cotizaciones para poder elaborar una estrategia y llevarla a cabo por medio de traders, para obtener beneficios de los cambios en el mercado.\n",
    "Para ello, se hace uso de varios indicadores, de los cuales existen 4 principales clasificaciones:\n",
    "* Tendencia:\n",
    "Los indicadores de tendencia te indican en qué dirección se está moviendo el mercado y si -valga la redundancia- existe una tendencia. A veces se les llama osciladores porque suelen moverse entre valores altos y bajos como con ondas.\n",
    "\n",
    "* Momentum: \n",
    "Estos indicadores te ayudan a saber qué tan fuertes están siendo estas tendencias y si ocurrirá un movimiento contrario de la misma. Como por ejemplo, si está a la alza y probablemente vaya a bajar o vice-versa.\n",
    "\n",
    "* Volumen:\n",
    "Indicadores de volumen te indican cómo el volumen va cambiando a través del tiempo, indicando así qué tan fuerte o significativo es el cambio de precios y en qué cantidad afecta.\n",
    "\n",
    "* Volatilidad\n",
    "Los indicadores de volatilidad mencionan cuánto han cambiado los precios a través de un período dado. Mientras mayor sea la volatilidad, más rápido cambiarán los precios. "
   ]
  },
  {
   "cell_type": "markdown",
   "metadata": {},
   "source": [
    "# Indicadores "
   ]
  },
  {
   "cell_type": "markdown",
   "metadata": {},
   "source": [
    "## Bandas Bollinger"
   ]
  },
  {
   "cell_type": "markdown",
   "metadata": {},
   "source": [
    "La Bandas de Bollinger son parte de los indicadores de volatilidad. Consisten en dos bandas, una superior y una inferior, que rodean la línea de precios, junto con una línea en medio que indica el promedio de los mismos.\n",
    "Para interpretar este indicador, se pueden tomar en cuenta dos cosas, la primera, es el grosor o la distancia entre la banda superior y la banda inferior, mientras más corta sea la distancia, quiere decir que el mercado se encuentra tranquilo, y mientras más grande sea la distancia, quiere decir que el mercado se encuentra inquieto.\n",
    "Al momento de la toma de decisiones, lo otro que se debe de tomar en cuenta, es que cuando el precio toca o sobrepasa la banda superior, normalmente se espera que rebote y al menos regrese a la línea promedio, indicando una acción de venta, ya que se espera que el precio baje. En el caso de que el precio toque o rompa la banda inferior, igualmente se espera que rebote y suba a la banda promedio, por lo que indicaría una acción de compra, ya que se espera que el precio suba."
   ]
  },
  {
   "cell_type": "code",
   "execution_count": 20,
   "metadata": {},
   "outputs": [],
   "source": [
    "# Variable del indicador \n",
    "indicator_bb = ta.volatility.BollingerBands(df_Precios['Close'], n=20, ndev=2)\n",
    "\n",
    "# Banda promedio\n",
    "df_Precios['bb_mavg'] = indicator_bb.bollinger_mavg()\n",
    "\n",
    "# Banda superior\n",
    "df_Precios['bb_bbh'] = indicator_bb.bollinger_hband()\n",
    "\n",
    "# Banda inferior\n",
    "df_Precios['bb_bbl'] = indicator_bb.bollinger_lband()"
   ]
  },
  {
   "cell_type": "markdown",
   "metadata": {},
   "source": [
    "DataFrame con los datos importantes incluyendo el indicador mencionado anteriormente"
   ]
  },
  {
   "cell_type": "code",
   "execution_count": 21,
   "metadata": {},
   "outputs": [
    {
     "data": {
      "text/html": [
       "<div>\n",
       "<style scoped>\n",
       "    .dataframe tbody tr th:only-of-type {\n",
       "        vertical-align: middle;\n",
       "    }\n",
       "\n",
       "    .dataframe tbody tr th {\n",
       "        vertical-align: top;\n",
       "    }\n",
       "\n",
       "    .dataframe thead th {\n",
       "        text-align: right;\n",
       "    }\n",
       "</style>\n",
       "<table border=\"1\" class=\"dataframe\">\n",
       "  <thead>\n",
       "    <tr style=\"text-align: right;\">\n",
       "      <th></th>\n",
       "      <th>TimeStamp</th>\n",
       "      <th>Open</th>\n",
       "      <th>High</th>\n",
       "      <th>Low</th>\n",
       "      <th>Close</th>\n",
       "      <th>bb_mavg</th>\n",
       "      <th>bb_bbh</th>\n",
       "      <th>bb_bbl</th>\n",
       "    </tr>\n",
       "  </thead>\n",
       "  <tbody>\n",
       "    <tr>\n",
       "      <th>2094</th>\n",
       "      <td>2020-03-11 03:30:00+00:00</td>\n",
       "      <td>20.90006</td>\n",
       "      <td>20.90490</td>\n",
       "      <td>20.89106</td>\n",
       "      <td>20.89694</td>\n",
       "      <td>20.916116</td>\n",
       "      <td>20.961780</td>\n",
       "      <td>20.870452</td>\n",
       "    </tr>\n",
       "    <tr>\n",
       "      <th>2095</th>\n",
       "      <td>2020-03-11 03:35:00+00:00</td>\n",
       "      <td>20.89694</td>\n",
       "      <td>20.91318</td>\n",
       "      <td>20.89692</td>\n",
       "      <td>20.91318</td>\n",
       "      <td>20.914624</td>\n",
       "      <td>20.958593</td>\n",
       "      <td>20.870655</td>\n",
       "    </tr>\n",
       "    <tr>\n",
       "      <th>2096</th>\n",
       "      <td>2020-03-11 03:40:00+00:00</td>\n",
       "      <td>20.91319</td>\n",
       "      <td>20.91446</td>\n",
       "      <td>20.89646</td>\n",
       "      <td>20.89653</td>\n",
       "      <td>20.912418</td>\n",
       "      <td>20.955356</td>\n",
       "      <td>20.869479</td>\n",
       "    </tr>\n",
       "    <tr>\n",
       "      <th>2097</th>\n",
       "      <td>2020-03-11 03:45:00+00:00</td>\n",
       "      <td>20.89652</td>\n",
       "      <td>20.90328</td>\n",
       "      <td>20.89409</td>\n",
       "      <td>20.89570</td>\n",
       "      <td>20.909676</td>\n",
       "      <td>20.949410</td>\n",
       "      <td>20.869941</td>\n",
       "    </tr>\n",
       "    <tr>\n",
       "      <th>2098</th>\n",
       "      <td>2020-03-11 03:50:00+00:00</td>\n",
       "      <td>20.89568</td>\n",
       "      <td>20.90142</td>\n",
       "      <td>20.89562</td>\n",
       "      <td>20.89791</td>\n",
       "      <td>20.907306</td>\n",
       "      <td>20.943779</td>\n",
       "      <td>20.870833</td>\n",
       "    </tr>\n",
       "  </tbody>\n",
       "</table>\n",
       "</div>"
      ],
      "text/plain": [
       "                     TimeStamp      Open      High       Low     Close  \\\n",
       "2094 2020-03-11 03:30:00+00:00  20.90006  20.90490  20.89106  20.89694   \n",
       "2095 2020-03-11 03:35:00+00:00  20.89694  20.91318  20.89692  20.91318   \n",
       "2096 2020-03-11 03:40:00+00:00  20.91319  20.91446  20.89646  20.89653   \n",
       "2097 2020-03-11 03:45:00+00:00  20.89652  20.90328  20.89409  20.89570   \n",
       "2098 2020-03-11 03:50:00+00:00  20.89568  20.90142  20.89562  20.89791   \n",
       "\n",
       "        bb_mavg     bb_bbh     bb_bbl  \n",
       "2094  20.916116  20.961780  20.870452  \n",
       "2095  20.914624  20.958593  20.870655  \n",
       "2096  20.912418  20.955356  20.869479  \n",
       "2097  20.909676  20.949410  20.869941  \n",
       "2098  20.907306  20.943779  20.870833  "
      ]
     },
     "execution_count": 21,
     "metadata": {},
     "output_type": "execute_result"
    }
   ],
   "source": [
    "# Visualización de los últimos 5 precios\n",
    "df_Precios.tail(5)"
   ]
  },
  {
   "cell_type": "code",
   "execution_count": 22,
   "metadata": {},
   "outputs": [
    {
     "name": "stdout",
     "output_type": "stream",
     "text": [
      "sin movimientos\n"
     ]
    }
   ],
   "source": [
    "# Toma de decisiones\n",
    "\n",
    "if df_Precios['Close'].iloc[-1] > df_Precios['bb_bbh'].iloc[-1]:\n",
    "    print('sell')\n",
    "elif df_Precios['Close'].iloc[-1] == df_Precios['bb_bbh'].iloc[-1]:\n",
    "    print('sell')\n",
    "elif df_Precios['Close'].iloc[-1] < df_Precios['bb_bbl'].iloc[-1]:\n",
    "    print('buy')\n",
    "elif df_Precios['Close'].iloc[-1] == df_Precios['bb_bbl'].iloc[-1]:\n",
    "    print('buy')\n",
    "else:\n",
    "    print('sin movimientos')"
   ]
  },
  {
   "cell_type": "code",
   "execution_count": 23,
   "metadata": {},
   "outputs": [
    {
     "data": {
      "text/plain": [
       "20.89791"
      ]
     },
     "execution_count": 23,
     "metadata": {},
     "output_type": "execute_result"
    }
   ],
   "source": [
    "df_Precios['Close'].iloc[-1]"
   ]
  },
  {
   "cell_type": "markdown",
   "metadata": {},
   "source": [
    "### Gráfica de todo el historial de valores"
   ]
  },
  {
   "cell_type": "code",
   "execution_count": 24,
   "metadata": {},
   "outputs": [
    {
     "data": {
      "image/png": "[encoded data removed]",
      "text/plain": [
       "<Figure size 432x288 with 1 Axes>"
      ]
     },
     "metadata": {
      "needs_background": "light"
     },
     "output_type": "display_data"
    }
   ],
   "source": [
    "plt.plot(list(df_Precios['Close']), c= 'red')\n",
    "plt.plot(list(df_Precios['bb_bbl']), c= 'purple')\n",
    "plt.plot(list(df_Precios['bb_mavg']), c= 'violet')\n",
    "plt.plot(list(df_Precios['bb_bbh']), c= 'pink')\n",
    "plt.show()"
   ]
  },
  {
   "cell_type": "code",
   "execution_count": 25,
   "metadata": {},
   "outputs": [
    {
     "data": {
      "text/plain": [
       "1949    21.06328\n",
       "1950    21.06960\n",
       "1951    21.07048\n",
       "1952    21.03589\n",
       "1953    21.05651\n",
       "          ...   \n",
       "2093    20.90004\n",
       "2094    20.89694\n",
       "2095    20.91318\n",
       "2096    20.89653\n",
       "2097    20.89570\n",
       "Name: Close, Length: 149, dtype: float64"
      ]
     },
     "execution_count": 25,
     "metadata": {},
     "output_type": "execute_result"
    }
   ],
   "source": [
    "df_Precios['Close'].iloc[-150:-1]"
   ]
  },
  {
   "cell_type": "markdown",
   "metadata": {},
   "source": [
    "### Gráfica de los últimos 150 valores"
   ]
  },
  {
   "cell_type": "code",
   "execution_count": 26,
   "metadata": {},
   "outputs": [
    {
     "data": {
      "image/png": "[encoded data removed]",
      "text/plain": [
       "<Figure size 432x288 with 1 Axes>"
      ]
     },
     "metadata": {
      "needs_background": "light"
     },
     "output_type": "display_data"
    }
   ],
   "source": [
    "plt.plot(df_Precios['Close'].iloc[-150:-1], color = 'red')\n",
    "plt.plot(df_Precios['bb_bbl'].iloc[-150:-1], color = 'purple')\n",
    "plt.plot(df_Precios['bb_mavg'].iloc[-150:-1], color = 'violet')\n",
    "plt.plot(df_Precios['bb_bbh'].iloc[-150:-1], color = 'pink')\n",
    "plt.title('Bandas de Bollinger e historial de Close prices')\n",
    "plt.xlabel('')\n",
    "plt.ylabel('Precios')\n",
    "plt.show()"
   ]
  },
  {
   "cell_type": "markdown",
   "metadata": {},
   "source": [
    "## Oscilador Estocástico"
   ]
  },
  {
   "cell_type": "markdown",
   "metadata": {},
   "source": [
    "El indicador estocástico es un indicador momentum, puede ser usado para saber cuando la tendencia podría acabar.\n",
    "Este indicador ayuda a escoger en qué punto entrar y ya sea comprar, o vender. En este caso los parámetros son otros, cuando el indicador se encuentra usualmente arriba de 80 indica que el mercado tiene sobrecompra, lo que sugiere que los precios bajarán o tendrán una tendencia bajista, por el contrio, cuando las líneas del indicador son menores a 20 indican que el mercado está sobrevendido, lo que sugeriría que los precios subirían o que habría una tendencia alcista."
   ]
  },
  {
   "cell_type": "code",
   "execution_count": 27,
   "metadata": {},
   "outputs": [],
   "source": [
    "# Variable del indicador \n",
    "indicator_stoch = ta.momentum.StochasticOscillator(df_Precios['High'], df_Precios['Low'], df_Precios['Close'], 14, 3, False)\n",
    "\n",
    "df_Precios['stoch_close'] = indicator_stoch.stoch()\n",
    "df_Precios['stoch_signal'] = indicator_stoch.stoch_signal()"
   ]
  },
  {
   "cell_type": "markdown",
   "metadata": {},
   "source": [
    "DataFrame con los datos importantes incluyendo el indicador mencionado anteriormente"
   ]
  },
  {
   "cell_type": "code",
   "execution_count": 28,
   "metadata": {},
   "outputs": [
    {
     "data": {
      "text/html": [
       "<div>\n",
       "<style scoped>\n",
       "    .dataframe tbody tr th:only-of-type {\n",
       "        vertical-align: middle;\n",
       "    }\n",
       "\n",
       "    .dataframe tbody tr th {\n",
       "        vertical-align: top;\n",
       "    }\n",
       "\n",
       "    .dataframe thead th {\n",
       "        text-align: right;\n",
       "    }\n",
       "</style>\n",
       "<table border=\"1\" class=\"dataframe\">\n",
       "  <thead>\n",
       "    <tr style=\"text-align: right;\">\n",
       "      <th></th>\n",
       "      <th>TimeStamp</th>\n",
       "      <th>Open</th>\n",
       "      <th>High</th>\n",
       "      <th>Low</th>\n",
       "      <th>Close</th>\n",
       "      <th>bb_mavg</th>\n",
       "      <th>bb_bbh</th>\n",
       "      <th>bb_bbl</th>\n",
       "      <th>stoch_close</th>\n",
       "      <th>stoch_signal</th>\n",
       "    </tr>\n",
       "  </thead>\n",
       "  <tbody>\n",
       "    <tr>\n",
       "      <th>2094</th>\n",
       "      <td>2020-03-11 03:30:00+00:00</td>\n",
       "      <td>20.90006</td>\n",
       "      <td>20.90490</td>\n",
       "      <td>20.89106</td>\n",
       "      <td>20.89694</td>\n",
       "      <td>20.916116</td>\n",
       "      <td>20.961780</td>\n",
       "      <td>20.870452</td>\n",
       "      <td>55.524186</td>\n",
       "      <td>39.769051</td>\n",
       "    </tr>\n",
       "    <tr>\n",
       "      <th>2095</th>\n",
       "      <td>2020-03-11 03:35:00+00:00</td>\n",
       "      <td>20.89694</td>\n",
       "      <td>20.91318</td>\n",
       "      <td>20.89692</td>\n",
       "      <td>20.91318</td>\n",
       "      <td>20.914624</td>\n",
       "      <td>20.958593</td>\n",
       "      <td>20.870655</td>\n",
       "      <td>94.677237</td>\n",
       "      <td>67.453333</td>\n",
       "    </tr>\n",
       "    <tr>\n",
       "      <th>2096</th>\n",
       "      <td>2020-03-11 03:40:00+00:00</td>\n",
       "      <td>20.91319</td>\n",
       "      <td>20.91446</td>\n",
       "      <td>20.89646</td>\n",
       "      <td>20.89653</td>\n",
       "      <td>20.912418</td>\n",
       "      <td>20.955356</td>\n",
       "      <td>20.869479</td>\n",
       "      <td>73.725934</td>\n",
       "      <td>74.642452</td>\n",
       "    </tr>\n",
       "    <tr>\n",
       "      <th>2097</th>\n",
       "      <td>2020-03-11 03:45:00+00:00</td>\n",
       "      <td>20.89652</td>\n",
       "      <td>20.90328</td>\n",
       "      <td>20.89409</td>\n",
       "      <td>20.89570</td>\n",
       "      <td>20.909676</td>\n",
       "      <td>20.949410</td>\n",
       "      <td>20.869941</td>\n",
       "      <td>72.681515</td>\n",
       "      <td>80.361562</td>\n",
       "    </tr>\n",
       "    <tr>\n",
       "      <th>2098</th>\n",
       "      <td>2020-03-11 03:50:00+00:00</td>\n",
       "      <td>20.89568</td>\n",
       "      <td>20.90142</td>\n",
       "      <td>20.89562</td>\n",
       "      <td>20.89791</td>\n",
       "      <td>20.907306</td>\n",
       "      <td>20.943779</td>\n",
       "      <td>20.870833</td>\n",
       "      <td>75.614677</td>\n",
       "      <td>74.007375</td>\n",
       "    </tr>\n",
       "  </tbody>\n",
       "</table>\n",
       "</div>"
      ],
      "text/plain": [
       "                     TimeStamp      Open      High       Low     Close  \\\n",
       "2094 2020-03-11 03:30:00+00:00  20.90006  20.90490  20.89106  20.89694   \n",
       "2095 2020-03-11 03:35:00+00:00  20.89694  20.91318  20.89692  20.91318   \n",
       "2096 2020-03-11 03:40:00+00:00  20.91319  20.91446  20.89646  20.89653   \n",
       "2097 2020-03-11 03:45:00+00:00  20.89652  20.90328  20.89409  20.89570   \n",
       "2098 2020-03-11 03:50:00+00:00  20.89568  20.90142  20.89562  20.89791   \n",
       "\n",
       "        bb_mavg     bb_bbh     bb_bbl  stoch_close  stoch_signal  \n",
       "2094  20.916116  20.961780  20.870452    55.524186     39.769051  \n",
       "2095  20.914624  20.958593  20.870655    94.677237     67.453333  \n",
       "2096  20.912418  20.955356  20.869479    73.725934     74.642452  \n",
       "2097  20.909676  20.949410  20.869941    72.681515     80.361562  \n",
       "2098  20.907306  20.943779  20.870833    75.614677     74.007375  "
      ]
     },
     "execution_count": 28,
     "metadata": {},
     "output_type": "execute_result"
    }
   ],
   "source": [
    "df_Precios.tail(5)"
   ]
  },
  {
   "cell_type": "code",
   "execution_count": 29,
   "metadata": {},
   "outputs": [],
   "source": [
    "# Parámetros\n",
    "\n",
    "stoch_up = 80\n",
    "stoch_down = 20\n",
    "\n",
    "stoch_level = df_Precios['stoch_close'][len(df_Precios) -1]"
   ]
  },
  {
   "cell_type": "code",
   "execution_count": 30,
   "metadata": {},
   "outputs": [
    {
     "data": {
      "text/plain": [
       "75.61467658555063"
      ]
     },
     "execution_count": 30,
     "metadata": {},
     "output_type": "execute_result"
    }
   ],
   "source": [
    "stoch_level"
   ]
  },
  {
   "cell_type": "code",
   "execution_count": 31,
   "metadata": {},
   "outputs": [
    {
     "name": "stdout",
     "output_type": "stream",
     "text": [
      "sin movimientos\n"
     ]
    }
   ],
   "source": [
    "# Toma de decisiones\n",
    "\n",
    "if stoch_level > stoch_up:\n",
    "    print('sell')\n",
    "elif stoch_level == stoch_up:\n",
    "    print('sell')\n",
    "elif stoch_level < stoch_down:\n",
    "    print('buy')\n",
    "elif stoch_level == stoch_down:\n",
    "    print('buy')\n",
    "else:\n",
    "    print('sin movimientos')"
   ]
  },
  {
   "cell_type": "markdown",
   "metadata": {},
   "source": [
    "### Gráfica de todo el historial de valores"
   ]
  },
  {
   "cell_type": "code",
   "execution_count": 32,
   "metadata": {},
   "outputs": [
    {
     "data": {
      "image/png": "[encoded data removed]",
      "text/plain": [
       "<Figure size 432x288 with 1 Axes>"
      ]
     },
     "metadata": {
      "needs_background": "light"
     },
     "output_type": "display_data"
    }
   ],
   "source": [
    "plt.plot(list(df_Precios['stoch_signal']), c= 'pink')\n",
    "plt.title('Valores del Oscilador Estocástico')\n",
    "plt.xlabel('')\n",
    "plt.ylabel('Oscilador Estocástico (0-100)')\n",
    "plt.show()"
   ]
  },
  {
   "cell_type": "code",
   "execution_count": 33,
   "metadata": {},
   "outputs": [
    {
     "data": {
      "text/plain": [
       "1949    85.931833\n",
       "1950    93.304844\n",
       "1951    95.176955\n",
       "1952    89.178534\n",
       "1953    85.509498\n",
       "          ...    \n",
       "2093    25.770191\n",
       "2094    39.769051\n",
       "2095    67.453333\n",
       "2096    74.642452\n",
       "2097    80.361562\n",
       "Name: stoch_signal, Length: 149, dtype: float64"
      ]
     },
     "execution_count": 33,
     "metadata": {},
     "output_type": "execute_result"
    }
   ],
   "source": [
    "df_Precios['stoch_signal'].iloc[-150:-1]"
   ]
  },
  {
   "cell_type": "markdown",
   "metadata": {},
   "source": [
    "### Gráfica de los últimos 150 valores"
   ]
  },
  {
   "cell_type": "code",
   "execution_count": 34,
   "metadata": {},
   "outputs": [
    {
     "data": {
      "image/png": "[encoded data removed]",
      "text/plain": [
       "<Figure size 432x288 with 1 Axes>"
      ]
     },
     "metadata": {
      "needs_background": "light"
     },
     "output_type": "display_data"
    }
   ],
   "source": [
    "plt.plot(df_Precios['stoch_signal'].iloc[-150:-1], c= 'pink')\n",
    "plt.title('Valores del Oscilador Estocástico de los últimos 150 valores')\n",
    "plt.xlabel('')\n",
    "plt.ylabel('Oscilador Estocástico (0-100)')\n",
    "plt.show()"
   ]
  },
  {
   "cell_type": "markdown",
   "metadata": {},
   "source": [
    "## Índice de Fuerza Relativa (RSI)"
   ]
  },
  {
   "cell_type": "markdown",
   "metadata": {},
   "source": [
    "El indicador de índice de Fuerza Relativa, RSI por sus siglas en inglés (Relative Strength Index) es un indicador momentum. \n",
    "El cual indica en un rango del 0 al 100 si, en este caso la divisa esta sobrevendida o sobrecomprada. \n",
    "Usualmente cuando el valor de este índice sobrepasa los 70 indica un mercado de sobrecompra, lo que se interpretaría diciendo que es probable que en un período relativamente corto, los precios de la divisa bajarán. \n",
    "Sucede lo contrario cuando el indicador está por debajo de 30, lo que indica que existe un mercado de sobreventa, por lo que es conveniente comprar ya que se espera que suban los precios."
   ]
  },
  {
   "cell_type": "code",
   "execution_count": 35,
   "metadata": {},
   "outputs": [],
   "source": [
    "# Variable del indicador \n",
    "indicator_rsi= ta.momentum.rsi(df_Precios['Close'], 51)\n",
    "df_Precios['rsi_close'] = ta.momentum.rsi(df_Precios['Close'],51)"
   ]
  },
  {
   "cell_type": "markdown",
   "metadata": {},
   "source": [
    "DataFrame con los datos importantes incluyendo el indicador mencionado anteriormente"
   ]
  },
  {
   "cell_type": "code",
   "execution_count": 36,
   "metadata": {},
   "outputs": [
    {
     "data": {
      "text/html": [
       "<div>\n",
       "<style scoped>\n",
       "    .dataframe tbody tr th:only-of-type {\n",
       "        vertical-align: middle;\n",
       "    }\n",
       "\n",
       "    .dataframe tbody tr th {\n",
       "        vertical-align: top;\n",
       "    }\n",
       "\n",
       "    .dataframe thead th {\n",
       "        text-align: right;\n",
       "    }\n",
       "</style>\n",
       "<table border=\"1\" class=\"dataframe\">\n",
       "  <thead>\n",
       "    <tr style=\"text-align: right;\">\n",
       "      <th></th>\n",
       "      <th>TimeStamp</th>\n",
       "      <th>Open</th>\n",
       "      <th>High</th>\n",
       "      <th>Low</th>\n",
       "      <th>Close</th>\n",
       "      <th>bb_mavg</th>\n",
       "      <th>bb_bbh</th>\n",
       "      <th>bb_bbl</th>\n",
       "      <th>stoch_close</th>\n",
       "      <th>stoch_signal</th>\n",
       "      <th>rsi_close</th>\n",
       "    </tr>\n",
       "  </thead>\n",
       "  <tbody>\n",
       "    <tr>\n",
       "      <th>2094</th>\n",
       "      <td>2020-03-11 03:30:00+00:00</td>\n",
       "      <td>20.90006</td>\n",
       "      <td>20.90490</td>\n",
       "      <td>20.89106</td>\n",
       "      <td>20.89694</td>\n",
       "      <td>20.916116</td>\n",
       "      <td>20.961780</td>\n",
       "      <td>20.870452</td>\n",
       "      <td>55.524186</td>\n",
       "      <td>39.769051</td>\n",
       "      <td>52.223543</td>\n",
       "    </tr>\n",
       "    <tr>\n",
       "      <th>2095</th>\n",
       "      <td>2020-03-11 03:35:00+00:00</td>\n",
       "      <td>20.89694</td>\n",
       "      <td>20.91318</td>\n",
       "      <td>20.89692</td>\n",
       "      <td>20.91318</td>\n",
       "      <td>20.914624</td>\n",
       "      <td>20.958593</td>\n",
       "      <td>20.870655</td>\n",
       "      <td>94.677237</td>\n",
       "      <td>67.453333</td>\n",
       "      <td>53.223500</td>\n",
       "    </tr>\n",
       "    <tr>\n",
       "      <th>2096</th>\n",
       "      <td>2020-03-11 03:40:00+00:00</td>\n",
       "      <td>20.91319</td>\n",
       "      <td>20.91446</td>\n",
       "      <td>20.89646</td>\n",
       "      <td>20.89653</td>\n",
       "      <td>20.912418</td>\n",
       "      <td>20.955356</td>\n",
       "      <td>20.869479</td>\n",
       "      <td>73.725934</td>\n",
       "      <td>74.642452</td>\n",
       "      <td>52.083523</td>\n",
       "    </tr>\n",
       "    <tr>\n",
       "      <th>2097</th>\n",
       "      <td>2020-03-11 03:45:00+00:00</td>\n",
       "      <td>20.89652</td>\n",
       "      <td>20.90328</td>\n",
       "      <td>20.89409</td>\n",
       "      <td>20.89570</td>\n",
       "      <td>20.909676</td>\n",
       "      <td>20.949410</td>\n",
       "      <td>20.869941</td>\n",
       "      <td>72.681515</td>\n",
       "      <td>80.361562</td>\n",
       "      <td>52.026862</td>\n",
       "    </tr>\n",
       "    <tr>\n",
       "      <th>2098</th>\n",
       "      <td>2020-03-11 03:50:00+00:00</td>\n",
       "      <td>20.89568</td>\n",
       "      <td>20.90142</td>\n",
       "      <td>20.89562</td>\n",
       "      <td>20.89791</td>\n",
       "      <td>20.907306</td>\n",
       "      <td>20.943779</td>\n",
       "      <td>20.870833</td>\n",
       "      <td>75.614677</td>\n",
       "      <td>74.007375</td>\n",
       "      <td>52.168185</td>\n",
       "    </tr>\n",
       "  </tbody>\n",
       "</table>\n",
       "</div>"
      ],
      "text/plain": [
       "                     TimeStamp      Open      High       Low     Close  \\\n",
       "2094 2020-03-11 03:30:00+00:00  20.90006  20.90490  20.89106  20.89694   \n",
       "2095 2020-03-11 03:35:00+00:00  20.89694  20.91318  20.89692  20.91318   \n",
       "2096 2020-03-11 03:40:00+00:00  20.91319  20.91446  20.89646  20.89653   \n",
       "2097 2020-03-11 03:45:00+00:00  20.89652  20.90328  20.89409  20.89570   \n",
       "2098 2020-03-11 03:50:00+00:00  20.89568  20.90142  20.89562  20.89791   \n",
       "\n",
       "        bb_mavg     bb_bbh     bb_bbl  stoch_close  stoch_signal  rsi_close  \n",
       "2094  20.916116  20.961780  20.870452    55.524186     39.769051  52.223543  \n",
       "2095  20.914624  20.958593  20.870655    94.677237     67.453333  53.223500  \n",
       "2096  20.912418  20.955356  20.869479    73.725934     74.642452  52.083523  \n",
       "2097  20.909676  20.949410  20.869941    72.681515     80.361562  52.026862  \n",
       "2098  20.907306  20.943779  20.870833    75.614677     74.007375  52.168185  "
      ]
     },
     "execution_count": 36,
     "metadata": {},
     "output_type": "execute_result"
    }
   ],
   "source": [
    "df_Precios.tail(5)"
   ]
  },
  {
   "cell_type": "code",
   "execution_count": 37,
   "metadata": {},
   "outputs": [],
   "source": [
    "# Parámetros\n",
    "\n",
    "rsi_up = 70\n",
    "rsi_down = 30\n",
    "\n",
    "rsi_level = df_Precios['rsi_close'][len(df_Precios) - 1]"
   ]
  },
  {
   "cell_type": "code",
   "execution_count": 38,
   "metadata": {},
   "outputs": [
    {
     "name": "stdout",
     "output_type": "stream",
     "text": [
      "sin movimientos\n"
     ]
    }
   ],
   "source": [
    "if rsi_level > rsi_up: \n",
    "    print('sell')\n",
    "elif rsi_level == rsi_up:\n",
    "    print('sell')\n",
    "elif rsi_level < rsi_down: \n",
    "    print('buy')\n",
    "elif rsi_level == rsi_down:\n",
    "    print('buy')\n",
    "else:\n",
    "    print('sin movimientos')"
   ]
  },
  {
   "cell_type": "markdown",
   "metadata": {},
   "source": [
    "### Gráfica de todo el historial de valores"
   ]
  },
  {
   "cell_type": "code",
   "execution_count": 39,
   "metadata": {},
   "outputs": [
    {
     "data": {
      "image/png": "[encoded data removed]",
      "text/plain": [
       "<Figure size 432x288 with 1 Axes>"
      ]
     },
     "metadata": {
      "needs_background": "light"
     },
     "output_type": "display_data"
    }
   ],
   "source": [
    "plt.plot(list(df_Precios['rsi_close']), c= 'pink')\n",
    "plt.title('Valores del Índice de Fuerza Relativa')\n",
    "plt.xlabel('')\n",
    "plt.ylabel('Relative Strength Index (0-100)')\n",
    "plt.show()"
   ]
  },
  {
   "cell_type": "code",
   "execution_count": 40,
   "metadata": {},
   "outputs": [
    {
     "data": {
      "text/plain": [
       "1949    58.584922\n",
       "1950    58.734357\n",
       "1951    58.755493\n",
       "1952    57.573200\n",
       "1953    58.086030\n",
       "          ...    \n",
       "2093    52.433309\n",
       "2094    52.223543\n",
       "2095    53.223500\n",
       "2096    52.083523\n",
       "2097    52.026862\n",
       "Name: rsi_close, Length: 149, dtype: float64"
      ]
     },
     "execution_count": 40,
     "metadata": {},
     "output_type": "execute_result"
    }
   ],
   "source": [
    "df_Precios['rsi_close'].iloc[-150:-1]"
   ]
  },
  {
   "cell_type": "markdown",
   "metadata": {},
   "source": [
    "### Gráfica de los últimos 150 valores"
   ]
  },
  {
   "cell_type": "code",
   "execution_count": 41,
   "metadata": {},
   "outputs": [
    {
     "data": {
      "image/png": "[encoded data removed]",
      "text/plain": [
       "<Figure size 432x288 with 1 Axes>"
      ]
     },
     "metadata": {
      "needs_background": "light"
     },
     "output_type": "display_data"
    }
   ],
   "source": [
    "plt.plot(df_Precios['rsi_close'].iloc[-150:-1], c= 'pink')\n",
    "plt.title('Valores del Índice de Fuerza Relativa')\n",
    "plt.xlabel('')\n",
    "plt.ylabel('Relative Strength Index (0-100)')\n",
    "plt.show()"
   ]
  },
  {
   "cell_type": "code",
   "execution_count": 373,
   "metadata": {},
   "outputs": [],
   "source": []
  },
  {
   "cell_type": "code",
   "execution_count": null,
   "metadata": {},
   "outputs": [],
   "source": []
  },
  {
   "cell_type": "code",
   "execution_count": null,
   "metadata": {},
   "outputs": [],
   "source": []
  }
 ],
 "metadata": {
  "kernelspec": {
   "display_name": "Python 3",
   "language": "python",
   "name": "python3"
  },
  "language_info": {
   "codemirror_mode": {
    "name": "ipython",
    "version": 3
   },
   "file_extension": ".py",
   "mimetype": "text/x-python",
   "name": "python",
   "nbconvert_exporter": "python",
   "pygments_lexer": "ipython3",
   "version": "3.6.8"
  }
 },
 "nbformat": 4,
 "nbformat_minor": 4
}
