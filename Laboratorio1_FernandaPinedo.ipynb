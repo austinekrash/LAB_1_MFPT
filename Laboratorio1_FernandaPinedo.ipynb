{
 "cells": [
  {
   "cell_type": "markdown",
   "metadata": {},
   "source": [
    "<img src=\"http://oci02.img.iteso.mx/identidad_de_instancia_2018/ITESO/Logos%20ITESO/Logo-ITESO-Principal.jpg\">"
   ]
  },
  {
   "cell_type": "markdown",
   "metadata": {},
   "source": [
    "<center> <font color= #004A94> <font size = 6> Lic. Ingeniería Financiera </font> <br> <br> <font color= #047CFB> <font size = 4>I.F. María Fernanda Pinedo Talango - if705971@iteso.mx </font>"
   ]
  },
  {
   "cell_type": "markdown",
   "metadata": {},
   "source": [
    "<center><font color= #004A94> <font size = 6> Microestructura y Sistemas de Trading </font> <br> <br>"
   ]
  },
  {
   "cell_type": "markdown",
   "metadata": {},
   "source": [
    "<center><font color=#42c29b><font size=5> Laboratorio 1: Trading manual </font> <br> <br>"
   ]
  },
  {
   "cell_type": "markdown",
   "metadata": {},
   "source": [
    "<center> <font color= #047CFB> <font size = 4> Primavera 2020 </font>  |  <font color= #047CFB> <font size = 4> Repositorio: <a href='https://github.com/'>https://github.com/ferpinedot/LAB_1_MFPT</a></font>"
   ]
  },
  {
   "cell_type": "code",
   "execution_count": 1,
   "metadata": {},
   "outputs": [],
   "source": [
    "from oandapyV20 import API\n",
    "import ta as ta\n",
    "import pandas as pd\n",
    "from datetime import date, timedelta\n",
    "from dateutil.relativedelta import relativedelta\n",
    "import oandapyV20.endpoints.instruments as instruments\n",
    "import matplotlib.pyplot as plt"
   ]
  },
  {
   "cell_type": "code",
   "execution_count": 3,
   "metadata": {
    "scrolled": true
   },
   "outputs": [],
   "source": [
    "# Descarga de datos \n",
    "oanda_day_align = 16                       # Day Align\n",
    "oanda_timezone = \"America/Mexico_City\"    # Time Align\n",
    "oanda_id = '101-011-13246466-003'                       # Account Id\n",
    "oanda_type = \"practice\"               # Account type\n",
    "oanda_currency = \"USD_MXN\"                # Instrument\n",
    "oanda_gran = \"M5\"                     # Granularity of veils (Minutes 5)\n",
    "\n",
    "# Token for OANDA\n",
    "OA_Ak = '53e30fadde18a9b9153879673228a860-5577569e0db89960b0e4e5ad8e0b761d'\n",
    "\n",
    "api = API(access_token=OA_Ak)\n",
    "\n",
    "\n",
    "F_inicio = '2020-03-15'\n",
    "F_final = '2020-03-23'\n",
    "\n",
    "params = {\"granularity\": oanda_gran, \"price\": \"M\", \"dailyAlignment\": oanda_day_align,\n",
    "          \"alignmentTimezone\": oanda_timezone, \"from\": F_inicio, \"to\": F_final}\n",
    "\n",
    "OA_Req = instruments.InstrumentsCandles(instrument = oanda_currency, params=params)\n",
    "OA_Hist = api.request(OA_Req)"
   ]
  },
  {
   "cell_type": "code",
   "execution_count": 4,
   "metadata": {},
   "outputs": [],
   "source": [
    "list_a = []\n",
    "for i in range(len(OA_Hist['candles'])-1):\n",
    "        list_a.append({'TimeStamp': OA_Hist['candles'][i]['time'],\n",
    "                       'Open': OA_Hist['candles'][i]['mid']['o'],\n",
    "                       'High': OA_Hist['candles'][i]['mid']['h'],\n",
    "                       'Low': OA_Hist['candles'][i]['mid']['l'],\n",
    "                       'Close': OA_Hist['candles'][i]['mid']['c']})"
   ]
  },
  {
   "cell_type": "code",
   "execution_count": 5,
   "metadata": {},
   "outputs": [],
   "source": [
    "# Convierte los datos a dataframe\n",
    "pd_hist_data = pd.DataFrame(list_a) "
   ]
  },
  {
   "cell_type": "code",
   "execution_count": 6,
   "metadata": {},
   "outputs": [
    {
     "data": {
      "text/html": [
       "<div>\n",
       "<style scoped>\n",
       "    .dataframe tbody tr th:only-of-type {\n",
       "        vertical-align: middle;\n",
       "    }\n",
       "\n",
       "    .dataframe tbody tr th {\n",
       "        vertical-align: top;\n",
       "    }\n",
       "\n",
       "    .dataframe thead th {\n",
       "        text-align: right;\n",
       "    }\n",
       "</style>\n",
       "<table border=\"1\" class=\"dataframe\">\n",
       "  <thead>\n",
       "    <tr style=\"text-align: right;\">\n",
       "      <th></th>\n",
       "      <th>TimeStamp</th>\n",
       "      <th>Open</th>\n",
       "      <th>High</th>\n",
       "      <th>Low</th>\n",
       "      <th>Close</th>\n",
       "    </tr>\n",
       "  </thead>\n",
       "  <tbody>\n",
       "    <tr>\n",
       "      <th>0</th>\n",
       "      <td>2020-03-15T21:00:00.000000000Z</td>\n",
       "      <td>22.12340</td>\n",
       "      <td>22.12370</td>\n",
       "      <td>22.02407</td>\n",
       "      <td>22.02602</td>\n",
       "    </tr>\n",
       "    <tr>\n",
       "      <th>1</th>\n",
       "      <td>2020-03-15T21:05:00.000000000Z</td>\n",
       "      <td>22.02500</td>\n",
       "      <td>22.02500</td>\n",
       "      <td>21.84316</td>\n",
       "      <td>21.86222</td>\n",
       "    </tr>\n",
       "    <tr>\n",
       "      <th>2</th>\n",
       "      <td>2020-03-15T21:10:00.000000000Z</td>\n",
       "      <td>21.86064</td>\n",
       "      <td>21.86273</td>\n",
       "      <td>21.77107</td>\n",
       "      <td>21.77282</td>\n",
       "    </tr>\n",
       "    <tr>\n",
       "      <th>3</th>\n",
       "      <td>2020-03-15T21:15:00.000000000Z</td>\n",
       "      <td>21.77145</td>\n",
       "      <td>21.77202</td>\n",
       "      <td>21.75389</td>\n",
       "      <td>21.75652</td>\n",
       "    </tr>\n",
       "    <tr>\n",
       "      <th>4</th>\n",
       "      <td>2020-03-15T21:20:00.000000000Z</td>\n",
       "      <td>21.75517</td>\n",
       "      <td>21.75517</td>\n",
       "      <td>21.42888</td>\n",
       "      <td>21.46090</td>\n",
       "    </tr>\n",
       "    <tr>\n",
       "      <th>...</th>\n",
       "      <td>...</td>\n",
       "      <td>...</td>\n",
       "      <td>...</td>\n",
       "      <td>...</td>\n",
       "      <td>...</td>\n",
       "    </tr>\n",
       "    <tr>\n",
       "      <th>1515</th>\n",
       "      <td>2020-03-23T03:30:00.000000000Z</td>\n",
       "      <td>24.73948</td>\n",
       "      <td>24.74578</td>\n",
       "      <td>24.73932</td>\n",
       "      <td>24.74166</td>\n",
       "    </tr>\n",
       "    <tr>\n",
       "      <th>1516</th>\n",
       "      <td>2020-03-23T03:35:00.000000000Z</td>\n",
       "      <td>24.74180</td>\n",
       "      <td>24.75376</td>\n",
       "      <td>24.73891</td>\n",
       "      <td>24.74557</td>\n",
       "    </tr>\n",
       "    <tr>\n",
       "      <th>1517</th>\n",
       "      <td>2020-03-23T03:40:00.000000000Z</td>\n",
       "      <td>24.74557</td>\n",
       "      <td>24.75588</td>\n",
       "      <td>24.74299</td>\n",
       "      <td>24.74318</td>\n",
       "    </tr>\n",
       "    <tr>\n",
       "      <th>1518</th>\n",
       "      <td>2020-03-23T03:45:00.000000000Z</td>\n",
       "      <td>24.74315</td>\n",
       "      <td>24.74634</td>\n",
       "      <td>24.74046</td>\n",
       "      <td>24.74339</td>\n",
       "    </tr>\n",
       "    <tr>\n",
       "      <th>1519</th>\n",
       "      <td>2020-03-23T03:50:00.000000000Z</td>\n",
       "      <td>24.74339</td>\n",
       "      <td>24.74819</td>\n",
       "      <td>24.73994</td>\n",
       "      <td>24.74610</td>\n",
       "    </tr>\n",
       "  </tbody>\n",
       "</table>\n",
       "<p>1520 rows × 5 columns</p>\n",
       "</div>"
      ],
      "text/plain": [
       "                           TimeStamp      Open      High       Low     Close\n",
       "0     2020-03-15T21:00:00.000000000Z  22.12340  22.12370  22.02407  22.02602\n",
       "1     2020-03-15T21:05:00.000000000Z  22.02500  22.02500  21.84316  21.86222\n",
       "2     2020-03-15T21:10:00.000000000Z  21.86064  21.86273  21.77107  21.77282\n",
       "3     2020-03-15T21:15:00.000000000Z  21.77145  21.77202  21.75389  21.75652\n",
       "4     2020-03-15T21:20:00.000000000Z  21.75517  21.75517  21.42888  21.46090\n",
       "...                              ...       ...       ...       ...       ...\n",
       "1515  2020-03-23T03:30:00.000000000Z  24.73948  24.74578  24.73932  24.74166\n",
       "1516  2020-03-23T03:35:00.000000000Z  24.74180  24.75376  24.73891  24.74557\n",
       "1517  2020-03-23T03:40:00.000000000Z  24.74557  24.75588  24.74299  24.74318\n",
       "1518  2020-03-23T03:45:00.000000000Z  24.74315  24.74634  24.74046  24.74339\n",
       "1519  2020-03-23T03:50:00.000000000Z  24.74339  24.74819  24.73994  24.74610\n",
       "\n",
       "[1520 rows x 5 columns]"
      ]
     },
     "execution_count": 6,
     "metadata": {},
     "output_type": "execute_result"
    }
   ],
   "source": [
    "pd_hist_data"
   ]
  },
  {
   "cell_type": "code",
   "execution_count": 7,
   "metadata": {},
   "outputs": [],
   "source": [
    "# Convertir a dataFrame\n",
    "pd_hist_data = pd.DataFrame(list_a) \n",
    "\n",
    "# Nombrar las columnas\n",
    "pd_hist_data = pd_hist_data[['TimeStamp', 'Open', 'High', 'Low', 'Close']]  \n",
    "\n",
    "#Convertir datos a tiempo\n",
    "pd_hist_data['TimeStamp'] = pd.to_datetime(pd_hist_data['TimeStamp'])\n",
    "\n",
    "#Convertir datos a numéricos\n",
    "pd_hist_data['Open'] = pd.to_numeric(pd_hist_data['Open'])  \n",
    "pd_hist_data['High'] = pd.to_numeric(pd_hist_data['High'])  \n",
    "pd_hist_data['Low'] = pd.to_numeric(pd_hist_data['Low'])  \n",
    "pd_hist_data['Close'] = pd.to_numeric(pd_hist_data['Close']) \n",
    "\n",
    "\n",
    "df_Precios = pd_hist_data  "
   ]
  },
  {
   "cell_type": "code",
   "execution_count": 8,
   "metadata": {},
   "outputs": [],
   "source": [
    "# Parámetros de inicio\n",
    "\n",
    "spot_price =  df_Precios['Close'][len(df_Precios) - 1]"
   ]
  },
  {
   "cell_type": "markdown",
   "metadata": {},
   "source": [
    "# Análisis técnico"
   ]
  },
  {
   "cell_type": "markdown",
   "metadata": {},
   "source": [
    "El análisis técnico es el estudio de los mercados financieros que se basa en datos, gráficas, patrones de precios y tendencias de las cotizaciones para poder elaborar una estrategia y llevarla a cabo por medio de traders, para obtener beneficios de los cambios en el mercado.\n",
    "Para ello, se hace uso de varios indicadores, de los cuales existen 4 principales clasificaciones:\n",
    "* Tendencia:\n",
    "Los indicadores de tendencia te indican en qué dirección se está moviendo el mercado y si -valga la redundancia- existe una tendencia. A veces se les llama osciladores porque suelen moverse entre valores altos y bajos como con ondas.\n",
    "\n",
    "* Momentum: \n",
    "Estos indicadores te ayudan a saber qué tan fuertes están siendo estas tendencias y si ocurrirá un movimiento contrario de la misma. Como por ejemplo, si está a la alza y probablemente vaya a bajar o vice-versa.\n",
    "\n",
    "* Volumen:\n",
    "Indicadores de volumen te indican cómo el volumen va cambiando a través del tiempo, indicando así qué tan fuerte o significativo es el cambio de precios y en qué cantidad afecta.\n",
    "\n",
    "* Volatilidad\n",
    "Los indicadores de volatilidad mencionan cuánto han cambiado los precios a través de un período dado. Mientras mayor sea la volatilidad, más rápido cambiarán los precios. "
   ]
  },
  {
   "cell_type": "markdown",
   "metadata": {},
   "source": [
    "# Indicadores "
   ]
  },
  {
   "cell_type": "markdown",
   "metadata": {},
   "source": [
    "## Bandas Bollinger"
   ]
  },
  {
   "cell_type": "markdown",
   "metadata": {},
   "source": [
    "La Bandas de Bollinger son parte de los indicadores de volatilidad. Consisten en dos bandas, una superior y una inferior, que rodean la línea de precios, junto con una línea en medio que indica el promedio de los mismos.\n",
    "Para interpretar este indicador, se pueden tomar en cuenta dos cosas, la primera, es el grosor o la distancia entre la banda superior y la banda inferior, mientras más corta sea la distancia, quiere decir que el mercado se encuentra tranquilo, y mientras más grande sea la distancia, quiere decir que el mercado se encuentra inquieto.\n",
    "Al momento de la toma de decisiones, lo otro que se debe de tomar en cuenta, es que cuando el precio toca o sobrepasa la banda superior, normalmente se espera que rebote y al menos regrese a la línea promedio, indicando una acción de venta, ya que se espera que el precio baje. En el caso de que el precio toque o rompa la banda inferior, igualmente se espera que rebote y suba a la banda promedio, por lo que indicaría una acción de compra, ya que se espera que el precio suba."
   ]
  },
  {
   "cell_type": "code",
   "execution_count": 9,
   "metadata": {},
   "outputs": [],
   "source": [
    "# Variable del indicador \n",
    "indicator_bb = ta.volatility.BollingerBands(df_Precios['Close'], n=20, ndev=2)\n",
    "\n",
    "# Banda promedio\n",
    "df_Precios['bb_mavg'] = indicator_bb.bollinger_mavg()\n",
    "\n",
    "# Banda superior\n",
    "df_Precios['bb_bbh'] = indicator_bb.bollinger_hband()\n",
    "\n",
    "# Banda inferior\n",
    "df_Precios['bb_bbl'] = indicator_bb.bollinger_lband()"
   ]
  },
  {
   "cell_type": "markdown",
   "metadata": {},
   "source": [
    "DataFrame con los datos importantes incluyendo el indicador mencionado anteriormente"
   ]
  },
  {
   "cell_type": "code",
   "execution_count": 10,
   "metadata": {},
   "outputs": [
    {
     "data": {
      "text/html": [
       "<div>\n",
       "<style scoped>\n",
       "    .dataframe tbody tr th:only-of-type {\n",
       "        vertical-align: middle;\n",
       "    }\n",
       "\n",
       "    .dataframe tbody tr th {\n",
       "        vertical-align: top;\n",
       "    }\n",
       "\n",
       "    .dataframe thead th {\n",
       "        text-align: right;\n",
       "    }\n",
       "</style>\n",
       "<table border=\"1\" class=\"dataframe\">\n",
       "  <thead>\n",
       "    <tr style=\"text-align: right;\">\n",
       "      <th></th>\n",
       "      <th>TimeStamp</th>\n",
       "      <th>Open</th>\n",
       "      <th>High</th>\n",
       "      <th>Low</th>\n",
       "      <th>Close</th>\n",
       "      <th>bb_mavg</th>\n",
       "      <th>bb_bbh</th>\n",
       "      <th>bb_bbl</th>\n",
       "    </tr>\n",
       "  </thead>\n",
       "  <tbody>\n",
       "    <tr>\n",
       "      <th>1515</th>\n",
       "      <td>2020-03-23 03:30:00+00:00</td>\n",
       "      <td>24.73948</td>\n",
       "      <td>24.74578</td>\n",
       "      <td>24.73932</td>\n",
       "      <td>24.74166</td>\n",
       "      <td>24.758192</td>\n",
       "      <td>24.811525</td>\n",
       "      <td>24.704859</td>\n",
       "    </tr>\n",
       "    <tr>\n",
       "      <th>1516</th>\n",
       "      <td>2020-03-23 03:35:00+00:00</td>\n",
       "      <td>24.74180</td>\n",
       "      <td>24.75376</td>\n",
       "      <td>24.73891</td>\n",
       "      <td>24.74557</td>\n",
       "      <td>24.756538</td>\n",
       "      <td>24.809279</td>\n",
       "      <td>24.703797</td>\n",
       "    </tr>\n",
       "    <tr>\n",
       "      <th>1517</th>\n",
       "      <td>2020-03-23 03:40:00+00:00</td>\n",
       "      <td>24.74557</td>\n",
       "      <td>24.75588</td>\n",
       "      <td>24.74299</td>\n",
       "      <td>24.74318</td>\n",
       "      <td>24.754722</td>\n",
       "      <td>24.806671</td>\n",
       "      <td>24.702773</td>\n",
       "    </tr>\n",
       "    <tr>\n",
       "      <th>1518</th>\n",
       "      <td>2020-03-23 03:45:00+00:00</td>\n",
       "      <td>24.74315</td>\n",
       "      <td>24.74634</td>\n",
       "      <td>24.74046</td>\n",
       "      <td>24.74339</td>\n",
       "      <td>24.753079</td>\n",
       "      <td>24.804275</td>\n",
       "      <td>24.701884</td>\n",
       "    </tr>\n",
       "    <tr>\n",
       "      <th>1519</th>\n",
       "      <td>2020-03-23 03:50:00+00:00</td>\n",
       "      <td>24.74339</td>\n",
       "      <td>24.74819</td>\n",
       "      <td>24.73994</td>\n",
       "      <td>24.74610</td>\n",
       "      <td>24.751418</td>\n",
       "      <td>24.801238</td>\n",
       "      <td>24.701599</td>\n",
       "    </tr>\n",
       "  </tbody>\n",
       "</table>\n",
       "</div>"
      ],
      "text/plain": [
       "                     TimeStamp      Open      High       Low     Close  \\\n",
       "1515 2020-03-23 03:30:00+00:00  24.73948  24.74578  24.73932  24.74166   \n",
       "1516 2020-03-23 03:35:00+00:00  24.74180  24.75376  24.73891  24.74557   \n",
       "1517 2020-03-23 03:40:00+00:00  24.74557  24.75588  24.74299  24.74318   \n",
       "1518 2020-03-23 03:45:00+00:00  24.74315  24.74634  24.74046  24.74339   \n",
       "1519 2020-03-23 03:50:00+00:00  24.74339  24.74819  24.73994  24.74610   \n",
       "\n",
       "        bb_mavg     bb_bbh     bb_bbl  \n",
       "1515  24.758192  24.811525  24.704859  \n",
       "1516  24.756538  24.809279  24.703797  \n",
       "1517  24.754722  24.806671  24.702773  \n",
       "1518  24.753079  24.804275  24.701884  \n",
       "1519  24.751418  24.801238  24.701599  "
      ]
     },
     "execution_count": 10,
     "metadata": {},
     "output_type": "execute_result"
    }
   ],
   "source": [
    "# Visualización de los últimos 5 precios\n",
    "df_Precios.tail(5)"
   ]
  },
  {
   "cell_type": "code",
   "execution_count": 11,
   "metadata": {},
   "outputs": [
    {
     "name": "stdout",
     "output_type": "stream",
     "text": [
      "sin movimientos\n"
     ]
    }
   ],
   "source": [
    "# Toma de decisiones\n",
    "\n",
    "if df_Precios['Close'].iloc[-1] > df_Precios['bb_bbh'].iloc[-1]:\n",
    "    print('sell')\n",
    "elif df_Precios['Close'].iloc[-1] == df_Precios['bb_bbh'].iloc[-1]:\n",
    "    print('sell')\n",
    "elif df_Precios['Close'].iloc[-1] < df_Precios['bb_bbl'].iloc[-1]:\n",
    "    print('buy')\n",
    "elif df_Precios['Close'].iloc[-1] == df_Precios['bb_bbl'].iloc[-1]:\n",
    "    print('buy')\n",
    "else:\n",
    "    print('sin movimientos')"
   ]
  },
  {
   "cell_type": "code",
   "execution_count": 12,
   "metadata": {},
   "outputs": [
    {
     "data": {
      "text/plain": [
       "24.7461"
      ]
     },
     "execution_count": 12,
     "metadata": {},
     "output_type": "execute_result"
    }
   ],
   "source": [
    "df_Precios['Close'].iloc[-1]"
   ]
  },
  {
   "cell_type": "markdown",
   "metadata": {},
   "source": [
    "### Gráfica de todo el historial de valores"
   ]
  },
  {
   "cell_type": "code",
   "execution_count": 13,
   "metadata": {},
   "outputs": [
    {
     "data": {
      "image/png": "[encoded data removed]",
      "text/plain": [
       "<Figure size 432x288 with 1 Axes>"
      ]
     },
     "metadata": {
      "needs_background": "light"
     },
     "output_type": "display_data"
    }
   ],
   "source": [
    "plt.plot(list(df_Precios['Close']), c= 'red')\n",
    "plt.plot(list(df_Precios['bb_bbl']), c= 'purple')\n",
    "plt.plot(list(df_Precios['bb_mavg']), c= 'violet')\n",
    "plt.plot(list(df_Precios['bb_bbh']), c= 'pink')\n",
    "plt.show()"
   ]
  },
  {
   "cell_type": "code",
   "execution_count": 14,
   "metadata": {},
   "outputs": [
    {
     "data": {
      "text/plain": [
       "1370    23.89428\n",
       "1371    23.91326\n",
       "1372    23.89390\n",
       "1373    23.91717\n",
       "1374    23.93555\n",
       "          ...   \n",
       "1514    24.73998\n",
       "1515    24.74166\n",
       "1516    24.74557\n",
       "1517    24.74318\n",
       "1518    24.74339\n",
       "Name: Close, Length: 149, dtype: float64"
      ]
     },
     "execution_count": 14,
     "metadata": {},
     "output_type": "execute_result"
    }
   ],
   "source": [
    "df_Precios['Close'].iloc[-150:-1]"
   ]
  },
  {
   "cell_type": "markdown",
   "metadata": {},
   "source": [
    "### Gráfica de los últimos 150 valores"
   ]
  },
  {
   "cell_type": "code",
   "execution_count": 15,
   "metadata": {},
   "outputs": [
    {
     "data": {
      "image/png": "[encoded data removed]",
      "text/plain": [
       "<Figure size 432x288 with 1 Axes>"
      ]
     },
     "metadata": {
      "needs_background": "light"
     },
     "output_type": "display_data"
    }
   ],
   "source": [
    "plt.plot(df_Precios['Close'].iloc[-150:-1], color = 'red')\n",
    "plt.plot(df_Precios['bb_bbl'].iloc[-150:-1], color = 'purple')\n",
    "plt.plot(df_Precios['bb_mavg'].iloc[-150:-1], color = 'violet')\n",
    "plt.plot(df_Precios['bb_bbh'].iloc[-150:-1], color = 'pink')\n",
    "plt.title('Bandas de Bollinger e historial de Close prices')\n",
    "plt.xlabel('')\n",
    "plt.ylabel('Precios')\n",
    "plt.show()"
   ]
  },
  {
   "cell_type": "markdown",
   "metadata": {},
   "source": [
    "## Oscilador Estocástico"
   ]
  },
  {
   "cell_type": "markdown",
   "metadata": {},
   "source": [
    "El indicador estocástico es un indicador momentum, puede ser usado para saber cuando la tendencia podría acabar.\n",
    "Este indicador ayuda a escoger en qué punto entrar y ya sea comprar, o vender. En este caso los parámetros son otros, cuando el indicador se encuentra usualmente arriba de 80 indica que el mercado tiene sobrecompra, lo que sugiere que los precios bajarán o tendrán una tendencia bajista, por el contrio, cuando las líneas del indicador son menores a 20 indican que el mercado está sobrevendido, lo que sugeriría que los precios subirían o que habría una tendencia alcista."
   ]
  },
  {
   "cell_type": "code",
   "execution_count": 16,
   "metadata": {},
   "outputs": [],
   "source": [
    "# Variable del indicador \n",
    "indicator_stoch = ta.momentum.StochasticOscillator(df_Precios['High'], df_Precios['Low'], df_Precios['Close'], 14, 3, False)\n",
    "\n",
    "df_Precios['stoch_close'] = indicator_stoch.stoch()\n",
    "df_Precios['stoch_signal'] = indicator_stoch.stoch_signal()"
   ]
  },
  {
   "cell_type": "markdown",
   "metadata": {},
   "source": [
    "DataFrame con los datos importantes incluyendo el indicador mencionado anteriormente"
   ]
  },
  {
   "cell_type": "code",
   "execution_count": 17,
   "metadata": {},
   "outputs": [
    {
     "data": {
      "text/html": [
       "<div>\n",
       "<style scoped>\n",
       "    .dataframe tbody tr th:only-of-type {\n",
       "        vertical-align: middle;\n",
       "    }\n",
       "\n",
       "    .dataframe tbody tr th {\n",
       "        vertical-align: top;\n",
       "    }\n",
       "\n",
       "    .dataframe thead th {\n",
       "        text-align: right;\n",
       "    }\n",
       "</style>\n",
       "<table border=\"1\" class=\"dataframe\">\n",
       "  <thead>\n",
       "    <tr style=\"text-align: right;\">\n",
       "      <th></th>\n",
       "      <th>TimeStamp</th>\n",
       "      <th>Open</th>\n",
       "      <th>High</th>\n",
       "      <th>Low</th>\n",
       "      <th>Close</th>\n",
       "      <th>bb_mavg</th>\n",
       "      <th>bb_bbh</th>\n",
       "      <th>bb_bbl</th>\n",
       "      <th>stoch_close</th>\n",
       "      <th>stoch_signal</th>\n",
       "    </tr>\n",
       "  </thead>\n",
       "  <tbody>\n",
       "    <tr>\n",
       "      <th>1515</th>\n",
       "      <td>2020-03-23 03:30:00+00:00</td>\n",
       "      <td>24.73948</td>\n",
       "      <td>24.74578</td>\n",
       "      <td>24.73932</td>\n",
       "      <td>24.74166</td>\n",
       "      <td>24.758192</td>\n",
       "      <td>24.811525</td>\n",
       "      <td>24.704859</td>\n",
       "      <td>24.010822</td>\n",
       "      <td>18.616841</td>\n",
       "    </tr>\n",
       "    <tr>\n",
       "      <th>1516</th>\n",
       "      <td>2020-03-23 03:35:00+00:00</td>\n",
       "      <td>24.74180</td>\n",
       "      <td>24.75376</td>\n",
       "      <td>24.73891</td>\n",
       "      <td>24.74557</td>\n",
       "      <td>24.756538</td>\n",
       "      <td>24.809279</td>\n",
       "      <td>24.703797</td>\n",
       "      <td>27.316537</td>\n",
       "      <td>24.639274</td>\n",
       "    </tr>\n",
       "    <tr>\n",
       "      <th>1517</th>\n",
       "      <td>2020-03-23 03:40:00+00:00</td>\n",
       "      <td>24.74557</td>\n",
       "      <td>24.75588</td>\n",
       "      <td>24.74299</td>\n",
       "      <td>24.74318</td>\n",
       "      <td>24.754722</td>\n",
       "      <td>24.806671</td>\n",
       "      <td>24.702773</td>\n",
       "      <td>30.611827</td>\n",
       "      <td>27.313062</td>\n",
       "    </tr>\n",
       "    <tr>\n",
       "      <th>1518</th>\n",
       "      <td>2020-03-23 03:45:00+00:00</td>\n",
       "      <td>24.74315</td>\n",
       "      <td>24.74634</td>\n",
       "      <td>24.74046</td>\n",
       "      <td>24.74339</td>\n",
       "      <td>24.753079</td>\n",
       "      <td>24.804275</td>\n",
       "      <td>24.701884</td>\n",
       "      <td>55.899814</td>\n",
       "      <td>37.942726</td>\n",
       "    </tr>\n",
       "    <tr>\n",
       "      <th>1519</th>\n",
       "      <td>2020-03-23 03:50:00+00:00</td>\n",
       "      <td>24.74339</td>\n",
       "      <td>24.74819</td>\n",
       "      <td>24.73994</td>\n",
       "      <td>24.74610</td>\n",
       "      <td>24.751418</td>\n",
       "      <td>24.801238</td>\n",
       "      <td>24.701599</td>\n",
       "      <td>65.210485</td>\n",
       "      <td>50.574042</td>\n",
       "    </tr>\n",
       "  </tbody>\n",
       "</table>\n",
       "</div>"
      ],
      "text/plain": [
       "                     TimeStamp      Open      High       Low     Close  \\\n",
       "1515 2020-03-23 03:30:00+00:00  24.73948  24.74578  24.73932  24.74166   \n",
       "1516 2020-03-23 03:35:00+00:00  24.74180  24.75376  24.73891  24.74557   \n",
       "1517 2020-03-23 03:40:00+00:00  24.74557  24.75588  24.74299  24.74318   \n",
       "1518 2020-03-23 03:45:00+00:00  24.74315  24.74634  24.74046  24.74339   \n",
       "1519 2020-03-23 03:50:00+00:00  24.74339  24.74819  24.73994  24.74610   \n",
       "\n",
       "        bb_mavg     bb_bbh     bb_bbl  stoch_close  stoch_signal  \n",
       "1515  24.758192  24.811525  24.704859    24.010822     18.616841  \n",
       "1516  24.756538  24.809279  24.703797    27.316537     24.639274  \n",
       "1517  24.754722  24.806671  24.702773    30.611827     27.313062  \n",
       "1518  24.753079  24.804275  24.701884    55.899814     37.942726  \n",
       "1519  24.751418  24.801238  24.701599    65.210485     50.574042  "
      ]
     },
     "execution_count": 17,
     "metadata": {},
     "output_type": "execute_result"
    }
   ],
   "source": [
    "df_Precios.tail(5)"
   ]
  },
  {
   "cell_type": "code",
   "execution_count": 18,
   "metadata": {},
   "outputs": [],
   "source": [
    "# Parámetros\n",
    "\n",
    "stoch_up = 80\n",
    "stoch_down = 20\n",
    "\n",
    "stoch_level = df_Precios['stoch_close'][len(df_Precios) -1]"
   ]
  },
  {
   "cell_type": "code",
   "execution_count": 19,
   "metadata": {},
   "outputs": [
    {
     "data": {
      "text/plain": [
       "65.21048451151336"
      ]
     },
     "execution_count": 19,
     "metadata": {},
     "output_type": "execute_result"
    }
   ],
   "source": [
    "stoch_level"
   ]
  },
  {
   "cell_type": "code",
   "execution_count": 20,
   "metadata": {},
   "outputs": [
    {
     "name": "stdout",
     "output_type": "stream",
     "text": [
      "sin movimientos\n"
     ]
    }
   ],
   "source": [
    "# Toma de decisiones\n",
    "\n",
    "if stoch_level > stoch_up:\n",
    "    print('sell')\n",
    "elif stoch_level == stoch_up:\n",
    "    print('sell')\n",
    "elif stoch_level < stoch_down:\n",
    "    print('buy')\n",
    "elif stoch_level == stoch_down:\n",
    "    print('buy')\n",
    "else:\n",
    "    print('sin movimientos')"
   ]
  },
  {
   "cell_type": "markdown",
   "metadata": {},
   "source": [
    "### Gráfica de todo el historial de valores"
   ]
  },
  {
   "cell_type": "code",
   "execution_count": 25,
   "metadata": {},
   "outputs": [
    {
     "data": {
      "image/png": "[encoded data removed]",
      "text/plain": [
       "<Figure size 432x288 with 1 Axes>"
      ]
     },
     "metadata": {
      "needs_background": "light"
     },
     "output_type": "display_data"
    }
   ],
   "source": [
    "plt.plot(list(df_Precios['stoch_signal']), c= 'pink')\n",
    "plt.title('Valores del Oscilador Estocástico')\n",
    "plt.xlabel('')\n",
    "plt.ylabel('Oscilador Estocástico (0-100)')\n",
    "plt.show()"
   ]
  },
  {
   "cell_type": "code",
   "execution_count": 26,
   "metadata": {},
   "outputs": [
    {
     "data": {
      "text/plain": [
       "3301    53.882078\n",
       "3302    57.218331\n",
       "3303    63.866067\n",
       "3304    78.379281\n",
       "3305    88.437888\n",
       "          ...    \n",
       "3445    29.190578\n",
       "3446    38.340663\n",
       "3447    47.195921\n",
       "3448    56.345513\n",
       "3449    43.620330\n",
       "Name: stoch_signal, Length: 149, dtype: float64"
      ]
     },
     "execution_count": 26,
     "metadata": {},
     "output_type": "execute_result"
    }
   ],
   "source": [
    "df_Precios['stoch_signal'].iloc[-150:-1]"
   ]
  },
  {
   "cell_type": "markdown",
   "metadata": {},
   "source": [
    "### Gráfica de los últimos 150 valores"
   ]
  },
  {
   "cell_type": "code",
   "execution_count": 27,
   "metadata": {},
   "outputs": [
    {
     "data": {
      "image/png": "[encoded data removed]",
      "text/plain": [
       "<Figure size 432x288 with 1 Axes>"
      ]
     },
     "metadata": {
      "needs_background": "light"
     },
     "output_type": "display_data"
    }
   ],
   "source": [
    "plt.plot(df_Precios['stoch_signal'].iloc[-150:-1], c= 'pink')\n",
    "plt.title('Valores del Oscilador Estocástico de los últimos 150 valores')\n",
    "plt.xlabel('')\n",
    "plt.ylabel('Oscilador Estocástico (0-100)')\n",
    "plt.show()"
   ]
  },
  {
   "cell_type": "markdown",
   "metadata": {},
   "source": [
    "## Índice de Fuerza Relativa (RSI)"
   ]
  },
  {
   "cell_type": "markdown",
   "metadata": {},
   "source": [
    "El indicador de índice de Fuerza Relativa, RSI por sus siglas en inglés (Relative Strength Index) es un indicador momentum. \n",
    "El cual indica en un rango del 0 al 100 si, en este caso la divisa esta sobrevendida o sobrecomprada. \n",
    "Usualmente cuando el valor de este índice sobrepasa los 70 indica un mercado de sobrecompra, lo que se interpretaría diciendo que es probable que en un período relativamente corto, los precios de la divisa bajarán. \n",
    "Sucede lo contrario cuando el indicador está por debajo de 30, lo que indica que existe un mercado de sobreventa, por lo que es conveniente comprar ya que se espera que suban los precios."
   ]
  },
  {
   "cell_type": "code",
   "execution_count": 28,
   "metadata": {},
   "outputs": [],
   "source": [
    "# Variable del indicador \n",
    "indicator_rsi= ta.momentum.rsi(df_Precios['Close'], 51)\n",
    "df_Precios['rsi_close'] = ta.momentum.rsi(df_Precios['Close'],51)"
   ]
  },
  {
   "cell_type": "markdown",
   "metadata": {},
   "source": [
    "DataFrame con los datos importantes incluyendo el indicador mencionado anteriormente"
   ]
  },
  {
   "cell_type": "code",
   "execution_count": 29,
   "metadata": {},
   "outputs": [
    {
     "data": {
      "text/html": [
       "<div>\n",
       "<style scoped>\n",
       "    .dataframe tbody tr th:only-of-type {\n",
       "        vertical-align: middle;\n",
       "    }\n",
       "\n",
       "    .dataframe tbody tr th {\n",
       "        vertical-align: top;\n",
       "    }\n",
       "\n",
       "    .dataframe thead th {\n",
       "        text-align: right;\n",
       "    }\n",
       "</style>\n",
       "<table border=\"1\" class=\"dataframe\">\n",
       "  <thead>\n",
       "    <tr style=\"text-align: right;\">\n",
       "      <th></th>\n",
       "      <th>TimeStamp</th>\n",
       "      <th>Open</th>\n",
       "      <th>High</th>\n",
       "      <th>Low</th>\n",
       "      <th>Close</th>\n",
       "      <th>bb_mavg</th>\n",
       "      <th>bb_bbh</th>\n",
       "      <th>bb_bbl</th>\n",
       "      <th>stoch_close</th>\n",
       "      <th>stoch_signal</th>\n",
       "      <th>rsi_close</th>\n",
       "    </tr>\n",
       "  </thead>\n",
       "  <tbody>\n",
       "    <tr>\n",
       "      <th>3446</th>\n",
       "      <td>2020-03-18 03:30:00+00:00</td>\n",
       "      <td>22.84830</td>\n",
       "      <td>22.86055</td>\n",
       "      <td>22.84694</td>\n",
       "      <td>22.85544</td>\n",
       "      <td>22.863608</td>\n",
       "      <td>22.941027</td>\n",
       "      <td>22.786189</td>\n",
       "      <td>54.356307</td>\n",
       "      <td>38.340663</td>\n",
       "      <td>44.067778</td>\n",
       "    </tr>\n",
       "    <tr>\n",
       "      <th>3447</th>\n",
       "      <td>2020-03-18 03:35:00+00:00</td>\n",
       "      <td>22.85554</td>\n",
       "      <td>22.85978</td>\n",
       "      <td>22.85200</td>\n",
       "      <td>22.85583</td>\n",
       "      <td>22.859463</td>\n",
       "      <td>22.928805</td>\n",
       "      <td>22.790121</td>\n",
       "      <td>55.373776</td>\n",
       "      <td>47.195921</td>\n",
       "      <td>44.100138</td>\n",
       "    </tr>\n",
       "    <tr>\n",
       "      <th>3448</th>\n",
       "      <td>2020-03-18 03:40:00+00:00</td>\n",
       "      <td>22.85380</td>\n",
       "      <td>22.85606</td>\n",
       "      <td>22.84401</td>\n",
       "      <td>22.84644</td>\n",
       "      <td>22.854772</td>\n",
       "      <td>22.913497</td>\n",
       "      <td>22.796047</td>\n",
       "      <td>59.306455</td>\n",
       "      <td>56.345513</td>\n",
       "      <td>43.482308</td>\n",
       "    </tr>\n",
       "    <tr>\n",
       "      <th>3449</th>\n",
       "      <td>2020-03-18 03:45:00+00:00</td>\n",
       "      <td>22.84643</td>\n",
       "      <td>22.84740</td>\n",
       "      <td>22.82490</td>\n",
       "      <td>22.83142</td>\n",
       "      <td>22.851078</td>\n",
       "      <td>22.905782</td>\n",
       "      <td>22.796374</td>\n",
       "      <td>16.180758</td>\n",
       "      <td>43.620330</td>\n",
       "      <td>42.510610</td>\n",
       "    </tr>\n",
       "    <tr>\n",
       "      <th>3450</th>\n",
       "      <td>2020-03-18 03:50:00+00:00</td>\n",
       "      <td>22.83144</td>\n",
       "      <td>22.83528</td>\n",
       "      <td>22.83140</td>\n",
       "      <td>22.83474</td>\n",
       "      <td>22.847474</td>\n",
       "      <td>22.896182</td>\n",
       "      <td>22.798766</td>\n",
       "      <td>27.601683</td>\n",
       "      <td>34.362965</td>\n",
       "      <td>42.798808</td>\n",
       "    </tr>\n",
       "  </tbody>\n",
       "</table>\n",
       "</div>"
      ],
      "text/plain": [
       "                     TimeStamp      Open      High       Low     Close  \\\n",
       "3446 2020-03-18 03:30:00+00:00  22.84830  22.86055  22.84694  22.85544   \n",
       "3447 2020-03-18 03:35:00+00:00  22.85554  22.85978  22.85200  22.85583   \n",
       "3448 2020-03-18 03:40:00+00:00  22.85380  22.85606  22.84401  22.84644   \n",
       "3449 2020-03-18 03:45:00+00:00  22.84643  22.84740  22.82490  22.83142   \n",
       "3450 2020-03-18 03:50:00+00:00  22.83144  22.83528  22.83140  22.83474   \n",
       "\n",
       "        bb_mavg     bb_bbh     bb_bbl  stoch_close  stoch_signal  rsi_close  \n",
       "3446  22.863608  22.941027  22.786189    54.356307     38.340663  44.067778  \n",
       "3447  22.859463  22.928805  22.790121    55.373776     47.195921  44.100138  \n",
       "3448  22.854772  22.913497  22.796047    59.306455     56.345513  43.482308  \n",
       "3449  22.851078  22.905782  22.796374    16.180758     43.620330  42.510610  \n",
       "3450  22.847474  22.896182  22.798766    27.601683     34.362965  42.798808  "
      ]
     },
     "execution_count": 29,
     "metadata": {},
     "output_type": "execute_result"
    }
   ],
   "source": [
    "df_Precios.tail(5)"
   ]
  },
  {
   "cell_type": "code",
   "execution_count": 30,
   "metadata": {},
   "outputs": [],
   "source": [
    "# Parámetros\n",
    "\n",
    "rsi_up = 70\n",
    "rsi_down = 30\n",
    "\n",
    "rsi_level = df_Precios['rsi_close'][len(df_Precios) - 1]"
   ]
  },
  {
   "cell_type": "code",
   "execution_count": 31,
   "metadata": {},
   "outputs": [
    {
     "name": "stdout",
     "output_type": "stream",
     "text": [
      "sin movimientos\n"
     ]
    }
   ],
   "source": [
    "if rsi_level > rsi_up: \n",
    "    print('sell')\n",
    "elif rsi_level == rsi_up:\n",
    "    print('sell')\n",
    "elif rsi_level < rsi_down: \n",
    "    print('buy')\n",
    "elif rsi_level == rsi_down:\n",
    "    print('buy')\n",
    "else:\n",
    "    print('sin movimientos')"
   ]
  },
  {
   "cell_type": "markdown",
   "metadata": {},
   "source": [
    "### Gráfica de todo el historial de valores"
   ]
  },
  {
   "cell_type": "code",
   "execution_count": 32,
   "metadata": {},
   "outputs": [
    {
     "data": {
      "image/png": "[encoded data removed]",
      "text/plain": [
       "<Figure size 432x288 with 1 Axes>"
      ]
     },
     "metadata": {
      "needs_background": "light"
     },
     "output_type": "display_data"
    }
   ],
   "source": [
    "plt.plot(list(df_Precios['rsi_close']), c= 'pink')\n",
    "plt.title('Valores del Índice de Fuerza Relativa')\n",
    "plt.xlabel('')\n",
    "plt.ylabel('Relative Strength Index (0-100)')\n",
    "plt.show()"
   ]
  },
  {
   "cell_type": "code",
   "execution_count": 33,
   "metadata": {},
   "outputs": [
    {
     "data": {
      "text/plain": [
       "3301    51.252238\n",
       "3302    52.326319\n",
       "3303    53.991407\n",
       "3304    53.719404\n",
       "3305    54.058577\n",
       "          ...    \n",
       "3445    43.482169\n",
       "3446    44.067778\n",
       "3447    44.100138\n",
       "3448    43.482308\n",
       "3449    42.510610\n",
       "Name: rsi_close, Length: 149, dtype: float64"
      ]
     },
     "execution_count": 33,
     "metadata": {},
     "output_type": "execute_result"
    }
   ],
   "source": [
    "df_Precios['rsi_close'].iloc[-150:-1]"
   ]
  },
  {
   "cell_type": "markdown",
   "metadata": {},
   "source": [
    "### Gráfica de los últimos 150 valores"
   ]
  },
  {
   "cell_type": "code",
   "execution_count": 34,
   "metadata": {},
   "outputs": [
    {
     "data": {
      "image/png": "[encoded data removed]",
      "text/plain": [
       "<Figure size 432x288 with 1 Axes>"
      ]
     },
     "metadata": {
      "needs_background": "light"
     },
     "output_type": "display_data"
    }
   ],
   "source": [
    "plt.plot(df_Precios['rsi_close'].iloc[-150:-1], c= 'pink')\n",
    "plt.title('Valores del Índice de Fuerza Relativa')\n",
    "plt.xlabel('')\n",
    "plt.ylabel('Relative Strength Index (0-100)')\n",
    "plt.show()"
   ]
  },
  {
   "cell_type": "code",
   "execution_count": null,
   "metadata": {},
   "outputs": [],
   "source": []
  },
  {
   "cell_type": "code",
   "execution_count": null,
   "metadata": {},
   "outputs": [],
   "source": []
  },
  {
   "cell_type": "code",
   "execution_count": null,
   "metadata": {},
   "outputs": [],
   "source": []
  }
 ],
 "metadata": {
  "kernelspec": {
   "display_name": "Python 3",
   "language": "python",
   "name": "python3"
  },
  "language_info": {
   "codemirror_mode": {
    "name": "ipython",
    "version": 3
   },
   "file_extension": ".py",
   "mimetype": "text/x-python",
   "name": "python",
   "nbconvert_exporter": "python",
   "pygments_lexer": "ipython3",
   "version": "3.6.8"
  }
 },
 "nbformat": 4,
 "nbformat_minor": 4
}
